{
 "metadata": {
  "language_info": {
   "codemirror_mode": {
    "name": "ipython",
    "version": 3
   },
   "file_extension": ".py",
   "mimetype": "text/x-python",
   "name": "python",
   "nbconvert_exporter": "python",
   "pygments_lexer": "ipython3",
   "version": "3.8.3-final"
  },
  "orig_nbformat": 2,
  "kernelspec": {
   "name": "Python 3.8.3 32-bit ('.venv')",
   "display_name": "Python 3.8.3 32-bit ('.venv')",
   "metadata": {
    "interpreter": {
     "hash": "d4aae52d606015beff0d3a59f8d79dfc7aaa96b866c5910a539a90c958476536"
    }
   }
  }
 },
 "nbformat": 4,
 "nbformat_minor": 2,
 "cells": [
  {
   "source": [
    "# Flightdata Preprocessor"
   ],
   "cell_type": "markdown",
   "metadata": {}
  },
  {
   "cell_type": "code",
   "execution_count": 1,
   "metadata": {},
   "outputs": [],
   "source": [
    "import pandas as pd\n",
    "from datetime import datetime\n",
    "from datetime import timedelta\n",
    "import logging\n",
    "import matplotlib.pyplot as plt\n",
    "import sys"
   ]
  },
  {
   "cell_type": "code",
   "execution_count": 352,
   "metadata": {},
   "outputs": [],
   "source": [
    "sys.path.append('./')"
   ]
  },
  {
   "cell_type": "code",
   "execution_count": 351,
   "metadata": {},
   "outputs": [],
   "source": [
    "df = pd.read_csv('../assets/data.txt', sep=\"\\t\", encoding=\"utf-8\")\n",
    "del df['nix']"
   ]
  },
  {
   "cell_type": "code",
   "execution_count": 171,
   "metadata": {},
   "outputs": [
    {
     "output_type": "execute_result",
     "data": {
      "text/plain": [
       "  Flight       Date           Origin   Destination      Equipment Flight Time  \\\n",
       "0  LH922  18-Oct-20  Frankfurt (FRA)  London (LHR)  A20N (D-AING)        1:09   \n",
       "1  LH922  17-Oct-20  Frankfurt (FRA)  London (LHR)  A20N (D-AINL)        1:03   \n",
       "2  LH922  16-Oct-20  Frankfurt (FRA)  London (LHR)  A320 (D-AIUY)        1:07   \n",
       "3  LH922  15-Oct-20  Frankfurt (FRA)  London (LHR)  A20N (D-AIJB)        1:08   \n",
       "4  LH922  14-Oct-20  Frankfurt (FRA)  London (LHR)  A20N (D-AINJ)        1:06   \n",
       "\n",
       "     ETD    ATD    ETA           ATA  \n",
       "0  21:30  21:42  22:10  Landed 21:50  \n",
       "1  21:30  22:04  22:10  Landed 22:08  \n",
       "2  21:30  21:41  22:10  Landed 21:47  \n",
       "3  21:30  21:39  22:10  Landed 21:48  \n",
       "4  21:30  21:34  22:10  Landed 21:40  "
      ],
      "text/html": "<div>\n<style scoped>\n    .dataframe tbody tr th:only-of-type {\n        vertical-align: middle;\n    }\n\n    .dataframe tbody tr th {\n        vertical-align: top;\n    }\n\n    .dataframe thead th {\n        text-align: right;\n    }\n</style>\n<table border=\"1\" class=\"dataframe\">\n  <thead>\n    <tr style=\"text-align: right;\">\n      <th></th>\n      <th>Flight</th>\n      <th>Date</th>\n      <th>Origin</th>\n      <th>Destination</th>\n      <th>Equipment</th>\n      <th>Flight Time</th>\n      <th>ETD</th>\n      <th>ATD</th>\n      <th>ETA</th>\n      <th>ATA</th>\n    </tr>\n  </thead>\n  <tbody>\n    <tr>\n      <th>0</th>\n      <td>LH922</td>\n      <td>18-Oct-20</td>\n      <td>Frankfurt (FRA)</td>\n      <td>London (LHR)</td>\n      <td>A20N (D-AING)</td>\n      <td>1:09</td>\n      <td>21:30</td>\n      <td>21:42</td>\n      <td>22:10</td>\n      <td>Landed 21:50</td>\n    </tr>\n    <tr>\n      <th>1</th>\n      <td>LH922</td>\n      <td>17-Oct-20</td>\n      <td>Frankfurt (FRA)</td>\n      <td>London (LHR)</td>\n      <td>A20N (D-AINL)</td>\n      <td>1:03</td>\n      <td>21:30</td>\n      <td>22:04</td>\n      <td>22:10</td>\n      <td>Landed 22:08</td>\n    </tr>\n    <tr>\n      <th>2</th>\n      <td>LH922</td>\n      <td>16-Oct-20</td>\n      <td>Frankfurt (FRA)</td>\n      <td>London (LHR)</td>\n      <td>A320 (D-AIUY)</td>\n      <td>1:07</td>\n      <td>21:30</td>\n      <td>21:41</td>\n      <td>22:10</td>\n      <td>Landed 21:47</td>\n    </tr>\n    <tr>\n      <th>3</th>\n      <td>LH922</td>\n      <td>15-Oct-20</td>\n      <td>Frankfurt (FRA)</td>\n      <td>London (LHR)</td>\n      <td>A20N (D-AIJB)</td>\n      <td>1:08</td>\n      <td>21:30</td>\n      <td>21:39</td>\n      <td>22:10</td>\n      <td>Landed 21:48</td>\n    </tr>\n    <tr>\n      <th>4</th>\n      <td>LH922</td>\n      <td>14-Oct-20</td>\n      <td>Frankfurt (FRA)</td>\n      <td>London (LHR)</td>\n      <td>A20N (D-AINJ)</td>\n      <td>1:06</td>\n      <td>21:30</td>\n      <td>21:34</td>\n      <td>22:10</td>\n      <td>Landed 21:40</td>\n    </tr>\n  </tbody>\n</table>\n</div>"
     },
     "metadata": {},
     "execution_count": 171
    }
   ],
   "source": [
    "df.head()"
   ]
  },
  {
   "cell_type": "code",
   "execution_count": 172,
   "metadata": {},
   "outputs": [],
   "source": [
    "def clean_data(df):\n",
    "    logging.warning(f'Received df of len {len(df)}...')\n",
    "    for _ in ['Origin', 'Destination', 'Equipment']:\n",
    "        df = df[df[_].str.contains(\"\\)\")]\n",
    "    for _ in ['Flight Time', 'ETD', 'ATD', 'ETA', 'ATA']:\n",
    "        df = df[~(df[_].str.contains(\"-\")) & ~(df[_].str.contains(\"—\"))]\n",
    "    df = df[(df['ATA'].str.contains(\"Landed\"))]\n",
    "    df['ATA'] = df['ATA'].str.replace('Landed ','')\n",
    "    df['ATA'] = df['ATA'].str.replace(u'Landed\\xa0','')\n",
    "    logging.warning(f'Returned df of len {len(df)}...')\n",
    "    return df\n"
   ]
  },
  {
   "cell_type": "code",
   "execution_count": 173,
   "metadata": {},
   "outputs": [
    {
     "output_type": "stream",
     "name": "stderr",
     "text": [
      "WARNING:root:Received df of len 186706...\n",
      "WARNING:root:Returned df of len 181421...\n"
     ]
    }
   ],
   "source": [
    "_df = clean_data(df)"
   ]
  },
  {
   "cell_type": "code",
   "execution_count": 174,
   "metadata": {},
   "outputs": [],
   "source": [
    "def clean_codes(df):\n",
    "    _df = df.copy()\n",
    "    for _ in ['Origin', 'Destination']:\n",
    "        _df[[f'{_}_City', f'{_}_Code']] = _df[_].str.split(u\"\\xa0\\(\", n = 1, expand = True)\n",
    "    _df[['Equipment_Type', 'Equipment_Reg']] = _df['Equipment'].str.split(u\"\\xa0\\(\", n = 1, expand = True)\n",
    "    for _ in ['Equipment_Reg', 'Origin_Code', 'Destination_Code']:\n",
    "        _df[_] = _df[_].str.replace(\")\", \"\")\n",
    "    return _df[['Flight', 'Date', 'Equipment_Type', 'Equipment_Reg', 'Origin_City', 'Origin_Code', 'Destination_City', 'Destination_Code', 'Flight Time', 'ETD', 'ETA', 'ATD', 'ATA']]"
   ]
  },
  {
   "cell_type": "code",
   "execution_count": 175,
   "metadata": {},
   "outputs": [],
   "source": [
    "_df = clean_codes(_df)"
   ]
  },
  {
   "cell_type": "code",
   "execution_count": 201,
   "metadata": {},
   "outputs": [],
   "source": [
    "def get_carrier_code(df):\n",
    "    _df = df.copy()\n",
    "    carrier = {}\n",
    "    carrier_list = []\n",
    "    for index, row in _df.iterrows():\n",
    "        if row['Flight'][:2] not in carrier.keys():\n",
    "            carrier[row['Flight'][:2]] = \"\"\n",
    "        carrier_list.append(row['Flight'][:2])\n",
    "    return carrier, carrier_list"
   ]
  },
  {
   "cell_type": "code",
   "execution_count": 202,
   "metadata": {},
   "outputs": [],
   "source": [
    "carrier, carrier_list = get_carrier_code(_df)"
   ]
  },
  {
   "cell_type": "code",
   "execution_count": 214,
   "metadata": {},
   "outputs": [],
   "source": [
    "def set_carrier_info(df, carrier, carrier_class, carrier_list):\n",
    "    _df = df.copy()\n",
    "    _df['Carrier_Name'] = carrier_list\n",
    "    _df['Carrier_Name'] = _df['Carrier_Name'].map(carrier)\n",
    "    _df['Carrier_Class'] = _df['Carrier_Name'].map(carrier_class)\n",
    "    return _df"
   ]
  },
  {
   "cell_type": "code",
   "execution_count": 218,
   "metadata": {},
   "outputs": [],
   "source": [
    "_df = set_carrier_info(_df, carrier, carrier_class, carrier_list)"
   ]
  },
  {
   "cell_type": "code",
   "execution_count": 208,
   "metadata": {},
   "outputs": [],
   "source": [
    "carrier = {\n",
    "    'LH': 'Lufthansa',\n",
    "    'BA': 'British Airways',\n",
    "    'LO': 'LOT',\n",
    "    'SK': 'SAS',\n",
    "    'UX': 'Air Europa',\n",
    "    'IB': 'Iberia',\n",
    "    'KL': 'KLM Royal Dutch Airlines',\n",
    "    'DY': 'Norwegian',\n",
    "    'ET': 'Ethiopian',\n",
    "    'FR': 'Ryanair',\n",
    "    'HV': 'Transavia',\n",
    "    'VY': 'Vueling',\n",
    "    'EI': 'Aer Lingus',\n",
    "    'U2': 'EasyJet'\n",
    "    }"
   ]
  },
  {
   "cell_type": "code",
   "execution_count": 217,
   "metadata": {},
   "outputs": [],
   "source": [
    "carrier_class = {\n",
    "    'Lufthansa': 0,\n",
    "    'British Airways': 0,\n",
    "    'LOT': 0,\n",
    "    'SAS': 0,\n",
    "    'Air Europa': 0,\n",
    "    'Iberia': 0,\n",
    "    'KLM Royal Dutch Airlines': 0,\n",
    "    'Norwegian': 1,\n",
    "    'Ethiopian': 0,\n",
    "    'Ryanair': 1,\n",
    "    'Transavia': 1,\n",
    "    'Vueling': 1,\n",
    "    'Aer Lingus': 0,\n",
    "    'EasyJet': 1\n",
    "    }"
   ]
  },
  {
   "cell_type": "code",
   "execution_count": 227,
   "metadata": {},
   "outputs": [],
   "source": [
    "def detect_dates(df):\n",
    "    _df = df.copy()\n",
    "    date_list = []\n",
    "    for index, row in _df.iterrows():\n",
    "        date_list.append(datetime.strptime(row['Date'], '%d-%b-%y').date().strftime('%Y-%m-%d'))\n",
    "        \n",
    "    _df['Date'] = date_list\n",
    "    return _df"
   ]
  },
  {
   "cell_type": "code",
   "execution_count": 228,
   "metadata": {},
   "outputs": [],
   "source": [
    "_df = detect_dates(_df)"
   ]
  },
  {
   "cell_type": "code",
   "execution_count": 324,
   "metadata": {},
   "outputs": [],
   "source": [
    "def get_time_delta(df):\n",
    "    _df = df.copy()\n",
    "    deltas = []\n",
    "    for index, row in _df.iterrows():\n",
    "        tdelta = datetime.strptime(row['ATA'], '%H:%M') - datetime.strptime(row['ETA'], '%H:%M')\n",
    "        #if tdelta.days < 0:\n",
    "        #tdelta = timedelta(seconds = tdelta.seconds, microseconds = tdelta.microseconds)\n",
    "        if datetime.strptime(row['ATA'], '%H:%M') < datetime.strptime(row['ETA'], '%H:%M'):\n",
    "            deltas.append(-1 * int((datetime.strptime('00:00', '%H:%M') - tdelta).time().minute))\n",
    "        else:\n",
    "            deltas.append(int((datetime.strptime('00:00', '%H:%M') + tdelta).time().minute))\n",
    "\n",
    "    _df['Timedelta'] = deltas\n",
    "    return _df"
   ]
  },
  {
   "cell_type": "code",
   "execution_count": 325,
   "metadata": {},
   "outputs": [],
   "source": [
    "_df = get_time_delta(_df)"
   ]
  },
  {
   "cell_type": "code",
   "execution_count": 333,
   "metadata": {},
   "outputs": [],
   "source": [
    "def get_departure_groups(df):\n",
    "    _df = df.copy()\n",
    "    dep_groups = []\n",
    "    for index, row in _df.iterrows():\n",
    "        if datetime.strptime(row['ETD'], '%H:%M') <= datetime.strptime('07:30', '%H:%M'):\n",
    "            dep_groups.append('Red Eye')\n",
    "        elif datetime.strptime(row['ETD'], '%H:%M') <= datetime.strptime('12:00', '%H:%M'):\n",
    "            dep_groups.append('Morning')\n",
    "        elif datetime.strptime(row['ETD'], '%H:%M') <= datetime.strptime('18:00', '%H:%M'):\n",
    "            dep_groups.append('Afternoon')\n",
    "        elif datetime.strptime(row['ETD'], '%H:%M') <= datetime.strptime('21:30', '%H:%M'):\n",
    "            dep_groups.append('Evening')\n",
    "        elif datetime.strptime(row['ETD'], '%H:%M') <= datetime.strptime('23:59', '%H:%M'):\n",
    "            dep_groups.append('Night')\n",
    "        else:\n",
    "            dep_groups.append(None)\n",
    "            logging.warning('invalid time?')\n",
    "    _df['ETD_Group'] = dep_groups\n",
    "    return _df"
   ]
  },
  {
   "cell_type": "code",
   "execution_count": 335,
   "metadata": {},
   "outputs": [],
   "source": [
    "_df = get_departure_groups(_df)"
   ]
  },
  {
   "cell_type": "code",
   "execution_count": 337,
   "metadata": {},
   "outputs": [],
   "source": [
    "_df.to_csv('../assets/data_prep.txt', sep=\"\\t\", encoding=\"utf-8\", index=False)"
   ]
  },
  {
   "cell_type": "code",
   "execution_count": 3,
   "metadata": {},
   "outputs": [],
   "source": [
    "df = pd.read_csv('../assets/data_prep.txt', sep=\"\\t\", encoding=\"utf-8\")"
   ]
  },
  {
   "cell_type": "code",
   "execution_count": null,
   "metadata": {},
   "outputs": [],
   "source": [
    "def vote_majority(df):\n",
    "    _df = df.copy()\n",
    "    return _df"
   ]
  },
  {
   "cell_type": "code",
   "execution_count": 11,
   "metadata": {},
   "outputs": [],
   "source": [
    "grp = df.groupby(['Flight', 'Origin_City', 'Destination_City'])"
   ]
  },
  {
   "cell_type": "code",
   "execution_count": 21,
   "metadata": {
    "tags": []
   },
   "outputs": [
    {
     "output_type": "error",
     "ename": "AttributeError",
     "evalue": "'DataFrameGroupBy' object has no attribute 'items'",
     "traceback": [
      "\u001b[1;31m---------------------------------------------------------------------------\u001b[0m",
      "\u001b[1;31mAttributeError\u001b[0m                            Traceback (most recent call last)",
      "\u001b[1;32m<ipython-input-21-08e6c425cde4>\u001b[0m in \u001b[0;36m<module>\u001b[1;34m\u001b[0m\n\u001b[1;32m----> 1\u001b[1;33m \u001b[1;32mfor\u001b[0m \u001b[0mkey\u001b[0m\u001b[1;33m,\u001b[0m \u001b[0mvalues\u001b[0m \u001b[1;32min\u001b[0m \u001b[0mgrp\u001b[0m\u001b[1;33m.\u001b[0m\u001b[0mitems\u001b[0m\u001b[1;33m(\u001b[0m\u001b[1;33m)\u001b[0m\u001b[1;33m:\u001b[0m\u001b[1;33m\u001b[0m\u001b[1;33m\u001b[0m\u001b[0m\n\u001b[0m\u001b[0;32m      2\u001b[0m     \u001b[0mprint\u001b[0m\u001b[1;33m(\u001b[0m\u001b[0mkey\u001b[0m\u001b[1;33m)\u001b[0m\u001b[1;33m\u001b[0m\u001b[1;33m\u001b[0m\u001b[0m\n",
      "\u001b[1;32mc:\\Users\\tiwalz\\Documents\\Projects\\aviation.ai\\.venv\\lib\\site-packages\\pandas\\core\\groupby\\groupby.py\u001b[0m in \u001b[0;36m__getattr__\u001b[1;34m(self, attr)\u001b[0m\n\u001b[0;32m    701\u001b[0m             \u001b[1;32mreturn\u001b[0m \u001b[0mself\u001b[0m\u001b[1;33m[\u001b[0m\u001b[0mattr\u001b[0m\u001b[1;33m]\u001b[0m\u001b[1;33m\u001b[0m\u001b[1;33m\u001b[0m\u001b[0m\n\u001b[0;32m    702\u001b[0m \u001b[1;33m\u001b[0m\u001b[0m\n\u001b[1;32m--> 703\u001b[1;33m         raise AttributeError(\n\u001b[0m\u001b[0;32m    704\u001b[0m             \u001b[1;34mf\"'{type(self).__name__}' object has no attribute '{attr}'\"\u001b[0m\u001b[1;33m\u001b[0m\u001b[1;33m\u001b[0m\u001b[0m\n\u001b[0;32m    705\u001b[0m         )\n",
      "\u001b[1;31mAttributeError\u001b[0m: 'DataFrameGroupBy' object has no attribute 'items'"
     ]
    }
   ],
   "source": [
    "for key, values in grp.items():\n",
    "    print(key)"
   ]
  },
  {
   "cell_type": "code",
   "execution_count": 27,
   "metadata": {},
   "outputs": [
    {
     "output_type": "execute_result",
     "data": {
      "text/plain": [
       "Flight  Origin_City  Destination_City\n",
       "BA423   Amsterdam    London              False\n",
       "BA430   London       Amsterdam           False\n",
       "BA431   Amsterdam    London              False\n",
       "BA440   London       Amsterdam           False\n",
       "BA458   London       Madrid              False\n",
       "                                         ...  \n",
       "VY8300  Barcelona    Amsterdam            True\n",
       "VY8301  Amsterdam    Barcelona            True\n",
       "VY8720  Barcelona    Dublin               True\n",
       "VY8721  Calgary      Barcelona            True\n",
       "        Dublin       Barcelona            True\n",
       "Length: 291, dtype: bool"
      ]
     },
     "metadata": {},
     "execution_count": 27
    }
   ],
   "source": [
    "grp.count().duplicated()"
   ]
  },
  {
   "cell_type": "code",
   "execution_count": 30,
   "metadata": {},
   "outputs": [],
   "source": [
    "grpx = grp.count()"
   ]
  },
  {
   "cell_type": "code",
   "execution_count": 43,
   "metadata": {},
   "outputs": [],
   "source": [
    "group_test = grpx.reset_index()"
   ]
  },
  {
   "cell_type": "code",
   "execution_count": 44,
   "metadata": {},
   "outputs": [
    {
     "output_type": "execute_result",
     "data": {
      "text/plain": [
       "     Flight Origin_City Destination_City  Date  Equipment_Type  Equipment_Reg  \\\n",
       "0     BA423   Amsterdam           London   834             834            834   \n",
       "1     BA430      London        Amsterdam   973             973            973   \n",
       "2     BA431   Amsterdam           London   986             986            986   \n",
       "3     BA440      London        Amsterdam   913             913            913   \n",
       "4     BA458      London           Madrid   914             914            914   \n",
       "..      ...         ...              ...   ...             ...            ...   \n",
       "286  VY8300   Barcelona        Amsterdam   917             917            917   \n",
       "287  VY8301   Amsterdam        Barcelona   918             918            918   \n",
       "288  VY8720   Barcelona           Dublin   689             689            689   \n",
       "289  VY8721     Calgary        Barcelona     1               1              1   \n",
       "290  VY8721      Dublin        Barcelona   689             689            689   \n",
       "\n",
       "     Origin_Code  Destination_Code  Flight Time  ETD  ETA  ATD  ATA  \\\n",
       "0            834               834          834  834  834  834  834   \n",
       "1            973               973          973  973  973  973  973   \n",
       "2            986               986          986  986  986  986  986   \n",
       "3            913               913          913  913  913  913  913   \n",
       "4            914               914          914  914  914  914  914   \n",
       "..           ...               ...          ...  ...  ...  ...  ...   \n",
       "286          917               917          917  917  917  917  917   \n",
       "287          918               918          918  918  918  918  918   \n",
       "288          689               689          689  689  689  689  689   \n",
       "289            1                 1            1    1    1    1    1   \n",
       "290          689               689          689  689  689  689  689   \n",
       "\n",
       "     Carrier_Name  Carrier_Class  Timedelta  ETD_Group  \n",
       "0             834            834        834        834  \n",
       "1             973            973        973        973  \n",
       "2             986            986        986        986  \n",
       "3             913            913        913        913  \n",
       "4             914            914        914        914  \n",
       "..            ...            ...        ...        ...  \n",
       "286           917            917        917        917  \n",
       "287           918            918        918        918  \n",
       "288           689            689        689        689  \n",
       "289             1              1          1          1  \n",
       "290           689            689        689        689  \n",
       "\n",
       "[291 rows x 17 columns]"
      ],
      "text/html": "<div>\n<style scoped>\n    .dataframe tbody tr th:only-of-type {\n        vertical-align: middle;\n    }\n\n    .dataframe tbody tr th {\n        vertical-align: top;\n    }\n\n    .dataframe thead th {\n        text-align: right;\n    }\n</style>\n<table border=\"1\" class=\"dataframe\">\n  <thead>\n    <tr style=\"text-align: right;\">\n      <th></th>\n      <th>Flight</th>\n      <th>Origin_City</th>\n      <th>Destination_City</th>\n      <th>Date</th>\n      <th>Equipment_Type</th>\n      <th>Equipment_Reg</th>\n      <th>Origin_Code</th>\n      <th>Destination_Code</th>\n      <th>Flight Time</th>\n      <th>ETD</th>\n      <th>ETA</th>\n      <th>ATD</th>\n      <th>ATA</th>\n      <th>Carrier_Name</th>\n      <th>Carrier_Class</th>\n      <th>Timedelta</th>\n      <th>ETD_Group</th>\n    </tr>\n  </thead>\n  <tbody>\n    <tr>\n      <th>0</th>\n      <td>BA423</td>\n      <td>Amsterdam</td>\n      <td>London</td>\n      <td>834</td>\n      <td>834</td>\n      <td>834</td>\n      <td>834</td>\n      <td>834</td>\n      <td>834</td>\n      <td>834</td>\n      <td>834</td>\n      <td>834</td>\n      <td>834</td>\n      <td>834</td>\n      <td>834</td>\n      <td>834</td>\n      <td>834</td>\n    </tr>\n    <tr>\n      <th>1</th>\n      <td>BA430</td>\n      <td>London</td>\n      <td>Amsterdam</td>\n      <td>973</td>\n      <td>973</td>\n      <td>973</td>\n      <td>973</td>\n      <td>973</td>\n      <td>973</td>\n      <td>973</td>\n      <td>973</td>\n      <td>973</td>\n      <td>973</td>\n      <td>973</td>\n      <td>973</td>\n      <td>973</td>\n      <td>973</td>\n    </tr>\n    <tr>\n      <th>2</th>\n      <td>BA431</td>\n      <td>Amsterdam</td>\n      <td>London</td>\n      <td>986</td>\n      <td>986</td>\n      <td>986</td>\n      <td>986</td>\n      <td>986</td>\n      <td>986</td>\n      <td>986</td>\n      <td>986</td>\n      <td>986</td>\n      <td>986</td>\n      <td>986</td>\n      <td>986</td>\n      <td>986</td>\n      <td>986</td>\n    </tr>\n    <tr>\n      <th>3</th>\n      <td>BA440</td>\n      <td>London</td>\n      <td>Amsterdam</td>\n      <td>913</td>\n      <td>913</td>\n      <td>913</td>\n      <td>913</td>\n      <td>913</td>\n      <td>913</td>\n      <td>913</td>\n      <td>913</td>\n      <td>913</td>\n      <td>913</td>\n      <td>913</td>\n      <td>913</td>\n      <td>913</td>\n      <td>913</td>\n    </tr>\n    <tr>\n      <th>4</th>\n      <td>BA458</td>\n      <td>London</td>\n      <td>Madrid</td>\n      <td>914</td>\n      <td>914</td>\n      <td>914</td>\n      <td>914</td>\n      <td>914</td>\n      <td>914</td>\n      <td>914</td>\n      <td>914</td>\n      <td>914</td>\n      <td>914</td>\n      <td>914</td>\n      <td>914</td>\n      <td>914</td>\n      <td>914</td>\n    </tr>\n    <tr>\n      <th>...</th>\n      <td>...</td>\n      <td>...</td>\n      <td>...</td>\n      <td>...</td>\n      <td>...</td>\n      <td>...</td>\n      <td>...</td>\n      <td>...</td>\n      <td>...</td>\n      <td>...</td>\n      <td>...</td>\n      <td>...</td>\n      <td>...</td>\n      <td>...</td>\n      <td>...</td>\n      <td>...</td>\n      <td>...</td>\n    </tr>\n    <tr>\n      <th>286</th>\n      <td>VY8300</td>\n      <td>Barcelona</td>\n      <td>Amsterdam</td>\n      <td>917</td>\n      <td>917</td>\n      <td>917</td>\n      <td>917</td>\n      <td>917</td>\n      <td>917</td>\n      <td>917</td>\n      <td>917</td>\n      <td>917</td>\n      <td>917</td>\n      <td>917</td>\n      <td>917</td>\n      <td>917</td>\n      <td>917</td>\n    </tr>\n    <tr>\n      <th>287</th>\n      <td>VY8301</td>\n      <td>Amsterdam</td>\n      <td>Barcelona</td>\n      <td>918</td>\n      <td>918</td>\n      <td>918</td>\n      <td>918</td>\n      <td>918</td>\n      <td>918</td>\n      <td>918</td>\n      <td>918</td>\n      <td>918</td>\n      <td>918</td>\n      <td>918</td>\n      <td>918</td>\n      <td>918</td>\n      <td>918</td>\n    </tr>\n    <tr>\n      <th>288</th>\n      <td>VY8720</td>\n      <td>Barcelona</td>\n      <td>Dublin</td>\n      <td>689</td>\n      <td>689</td>\n      <td>689</td>\n      <td>689</td>\n      <td>689</td>\n      <td>689</td>\n      <td>689</td>\n      <td>689</td>\n      <td>689</td>\n      <td>689</td>\n      <td>689</td>\n      <td>689</td>\n      <td>689</td>\n      <td>689</td>\n    </tr>\n    <tr>\n      <th>289</th>\n      <td>VY8721</td>\n      <td>Calgary</td>\n      <td>Barcelona</td>\n      <td>1</td>\n      <td>1</td>\n      <td>1</td>\n      <td>1</td>\n      <td>1</td>\n      <td>1</td>\n      <td>1</td>\n      <td>1</td>\n      <td>1</td>\n      <td>1</td>\n      <td>1</td>\n      <td>1</td>\n      <td>1</td>\n      <td>1</td>\n    </tr>\n    <tr>\n      <th>290</th>\n      <td>VY8721</td>\n      <td>Dublin</td>\n      <td>Barcelona</td>\n      <td>689</td>\n      <td>689</td>\n      <td>689</td>\n      <td>689</td>\n      <td>689</td>\n      <td>689</td>\n      <td>689</td>\n      <td>689</td>\n      <td>689</td>\n      <td>689</td>\n      <td>689</td>\n      <td>689</td>\n      <td>689</td>\n      <td>689</td>\n    </tr>\n  </tbody>\n</table>\n<p>291 rows × 17 columns</p>\n</div>"
     },
     "metadata": {},
     "execution_count": 44
    }
   ],
   "source": [
    "group_test"
   ]
  },
  {
   "cell_type": "code",
   "execution_count": null,
   "metadata": {},
   "outputs": [],
   "source": [
    "for index, row in grpx.iterrows():\n",
    "    "
   ]
  }
 ]
}