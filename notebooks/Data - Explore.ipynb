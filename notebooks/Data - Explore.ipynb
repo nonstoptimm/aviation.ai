{
 "metadata": {
  "language_info": {
   "codemirror_mode": {
    "name": "ipython",
    "version": 3
   },
   "file_extension": ".py",
   "mimetype": "text/x-python",
   "name": "python",
   "nbconvert_exporter": "python",
   "pygments_lexer": "ipython3",
   "version": "3.8.3-final"
  },
  "orig_nbformat": 2,
  "kernelspec": {
   "name": "Python 3.8.3 32-bit ('.venv')",
   "display_name": "Python 3.8.3 32-bit ('.venv')",
   "metadata": {
    "interpreter": {
     "hash": "d4aae52d606015beff0d3a59f8d79dfc7aaa96b866c5910a539a90c958476536"
    }
   }
  }
 },
 "nbformat": 4,
 "nbformat_minor": 2,
 "cells": [
  {
   "cell_type": "code",
   "execution_count": 167,
   "metadata": {},
   "outputs": [],
   "source": [
    "import pandas as pd\n",
    "from datetime import datetime\n",
    "import logging"
   ]
  },
  {
   "cell_type": "code",
   "execution_count": 169,
   "metadata": {},
   "outputs": [],
   "source": [
    "df = pd.read_csv('../assets/data.txt', sep=\"\\t\", encoding=\"utf-8\")\n",
    "del df['nix']"
   ]
  },
  {
   "cell_type": "code",
   "execution_count": 171,
   "metadata": {},
   "outputs": [
    {
     "output_type": "execute_result",
     "data": {
      "text/plain": [
       "  Flight       Date           Origin   Destination      Equipment Flight Time  \\\n",
       "0  LH922  18-Oct-20  Frankfurt (FRA)  London (LHR)  A20N (D-AING)        1:09   \n",
       "1  LH922  17-Oct-20  Frankfurt (FRA)  London (LHR)  A20N (D-AINL)        1:03   \n",
       "2  LH922  16-Oct-20  Frankfurt (FRA)  London (LHR)  A320 (D-AIUY)        1:07   \n",
       "3  LH922  15-Oct-20  Frankfurt (FRA)  London (LHR)  A20N (D-AIJB)        1:08   \n",
       "4  LH922  14-Oct-20  Frankfurt (FRA)  London (LHR)  A20N (D-AINJ)        1:06   \n",
       "\n",
       "     ETD    ATD    ETA           ATA  \n",
       "0  21:30  21:42  22:10  Landed 21:50  \n",
       "1  21:30  22:04  22:10  Landed 22:08  \n",
       "2  21:30  21:41  22:10  Landed 21:47  \n",
       "3  21:30  21:39  22:10  Landed 21:48  \n",
       "4  21:30  21:34  22:10  Landed 21:40  "
      ],
      "text/html": "<div>\n<style scoped>\n    .dataframe tbody tr th:only-of-type {\n        vertical-align: middle;\n    }\n\n    .dataframe tbody tr th {\n        vertical-align: top;\n    }\n\n    .dataframe thead th {\n        text-align: right;\n    }\n</style>\n<table border=\"1\" class=\"dataframe\">\n  <thead>\n    <tr style=\"text-align: right;\">\n      <th></th>\n      <th>Flight</th>\n      <th>Date</th>\n      <th>Origin</th>\n      <th>Destination</th>\n      <th>Equipment</th>\n      <th>Flight Time</th>\n      <th>ETD</th>\n      <th>ATD</th>\n      <th>ETA</th>\n      <th>ATA</th>\n    </tr>\n  </thead>\n  <tbody>\n    <tr>\n      <th>0</th>\n      <td>LH922</td>\n      <td>18-Oct-20</td>\n      <td>Frankfurt (FRA)</td>\n      <td>London (LHR)</td>\n      <td>A20N (D-AING)</td>\n      <td>1:09</td>\n      <td>21:30</td>\n      <td>21:42</td>\n      <td>22:10</td>\n      <td>Landed 21:50</td>\n    </tr>\n    <tr>\n      <th>1</th>\n      <td>LH922</td>\n      <td>17-Oct-20</td>\n      <td>Frankfurt (FRA)</td>\n      <td>London (LHR)</td>\n      <td>A20N (D-AINL)</td>\n      <td>1:03</td>\n      <td>21:30</td>\n      <td>22:04</td>\n      <td>22:10</td>\n      <td>Landed 22:08</td>\n    </tr>\n    <tr>\n      <th>2</th>\n      <td>LH922</td>\n      <td>16-Oct-20</td>\n      <td>Frankfurt (FRA)</td>\n      <td>London (LHR)</td>\n      <td>A320 (D-AIUY)</td>\n      <td>1:07</td>\n      <td>21:30</td>\n      <td>21:41</td>\n      <td>22:10</td>\n      <td>Landed 21:47</td>\n    </tr>\n    <tr>\n      <th>3</th>\n      <td>LH922</td>\n      <td>15-Oct-20</td>\n      <td>Frankfurt (FRA)</td>\n      <td>London (LHR)</td>\n      <td>A20N (D-AIJB)</td>\n      <td>1:08</td>\n      <td>21:30</td>\n      <td>21:39</td>\n      <td>22:10</td>\n      <td>Landed 21:48</td>\n    </tr>\n    <tr>\n      <th>4</th>\n      <td>LH922</td>\n      <td>14-Oct-20</td>\n      <td>Frankfurt (FRA)</td>\n      <td>London (LHR)</td>\n      <td>A20N (D-AINJ)</td>\n      <td>1:06</td>\n      <td>21:30</td>\n      <td>21:34</td>\n      <td>22:10</td>\n      <td>Landed 21:40</td>\n    </tr>\n  </tbody>\n</table>\n</div>"
     },
     "metadata": {},
     "execution_count": 171
    }
   ],
   "source": [
    "df.head()"
   ]
  },
  {
   "cell_type": "code",
   "execution_count": 172,
   "metadata": {},
   "outputs": [],
   "source": [
    "def clean_data(df):\n",
    "    logging.warning(f'Received df of len {len(df)}...')\n",
    "    for _ in ['Origin', 'Destination', 'Equipment']:\n",
    "        df = df[df[_].str.contains(\"\\)\")]\n",
    "        #logging.warning(f'Kicked out len {len(df)}...')\n",
    "    for _ in ['Flight Time', 'ETD', 'ATD', 'ETA', 'ATA']:\n",
    "        df = df[~(df[_].str.contains(\"-\")) & ~(df[_].str.contains(\"—\"))]\n",
    "    df = df[(df['ATA'].str.contains(\"Landed\"))]\n",
    "    df['ATA'] = df['ATA'].str.replace('Landed ','')\n",
    "    df['ATA'] = df['ATA'].str.replace(u'Landed\\xa0','')\n",
    "    logging.warning(f'Returned df of len {len(df)}...')\n",
    "    return df\n"
   ]
  },
  {
   "cell_type": "code",
   "execution_count": 173,
   "metadata": {},
   "outputs": [
    {
     "output_type": "stream",
     "name": "stderr",
     "text": [
      "WARNING:root:Received df of len 186706...\n",
      "WARNING:root:Returned df of len 181421...\n"
     ]
    }
   ],
   "source": [
    "_df = clean_data(df)"
   ]
  },
  {
   "cell_type": "code",
   "execution_count": 174,
   "metadata": {},
   "outputs": [],
   "source": [
    "def clean_codes(df):\n",
    "    _df = df.copy()\n",
    "    for _ in ['Origin', 'Destination']:\n",
    "        _df[[f'{_}_City', f'{_}_Code']] = _df[_].str.split(u\"\\xa0\\(\", n = 1, expand = True)\n",
    "    _df[['Equipment_Type', 'Equipment_Reg']] = _df['Equipment'].str.split(u\"\\xa0\\(\", n = 1, expand = True)\n",
    "    for _ in ['Equipment_Reg', 'Origin_Code', 'Destination_Code']:\n",
    "        _df[_] = _df[_].str.replace(\")\", \"\")\n",
    "    return _df[['Flight', 'Date', 'Equipment_Type', 'Equipment_Reg', 'Origin_City', 'Origin_Code', 'Destination_City', 'Destination_Code', 'Flight Time', 'ETD', 'ETA', 'ATD', 'ATA']]"
   ]
  },
  {
   "cell_type": "code",
   "execution_count": 175,
   "metadata": {},
   "outputs": [],
   "source": [
    "_df = clean_codes(_df)"
   ]
  },
  {
   "cell_type": "code",
   "execution_count": 201,
   "metadata": {},
   "outputs": [],
   "source": [
    "def get_carrier_code(df):\n",
    "    _df = df.copy()\n",
    "    carrier = {}\n",
    "    carrier_list = []\n",
    "    for index, row in _df.iterrows():\n",
    "        if row['Flight'][:2] not in carrier.keys():\n",
    "            carrier[row['Flight'][:2]] = \"\"\n",
    "        carrier_list.append(row['Flight'][:2])\n",
    "    return carrier, carrier_list"
   ]
  },
  {
   "cell_type": "code",
   "execution_count": 202,
   "metadata": {},
   "outputs": [],
   "source": [
    "carrier, carrier_list = get_carrier_code(_df)"
   ]
  },
  {
   "cell_type": "code",
   "execution_count": 214,
   "metadata": {},
   "outputs": [],
   "source": [
    "def set_carrier_info(df, carrier, carrier_class, carrier_list):\n",
    "    _df = df.copy()\n",
    "    _df['Carrier_Name'] = carrier_list\n",
    "    _df['Carrier_Name'] = _df['Carrier_Name'].map(carrier)\n",
    "    _df['Carrier_Class'] = _df['Carrier_Name'].map(carrier_class)\n",
    "    return _df"
   ]
  },
  {
   "cell_type": "code",
   "execution_count": 218,
   "metadata": {},
   "outputs": [],
   "source": [
    "_df = set_carrier_info(_df, carrier, carrier_class, carrier_list)"
   ]
  },
  {
   "cell_type": "code",
   "execution_count": 220,
   "metadata": {},
   "outputs": [
    {
     "output_type": "execute_result",
     "data": {
      "text/plain": [
       "  Flight       Date Equipment_Type Equipment_Reg Origin_City Origin_Code  \\\n",
       "0  LH922  18-Oct-20           A20N        D-AING   Frankfurt         FRA   \n",
       "1  LH922  17-Oct-20           A20N        D-AINL   Frankfurt         FRA   \n",
       "2  LH922  16-Oct-20           A320        D-AIUY   Frankfurt         FRA   \n",
       "3  LH922  15-Oct-20           A20N        D-AIJB   Frankfurt         FRA   \n",
       "4  LH922  14-Oct-20           A20N        D-AINJ   Frankfurt         FRA   \n",
       "\n",
       "  Destination_City Destination_Code Flight Time    ETD    ETA    ATD    ATA  \\\n",
       "0           London              LHR        1:09  21:30  22:10  21:42  21:50   \n",
       "1           London              LHR        1:03  21:30  22:10  22:04  22:08   \n",
       "2           London              LHR        1:07  21:30  22:10  21:41  21:47   \n",
       "3           London              LHR        1:08  21:30  22:10  21:39  21:48   \n",
       "4           London              LHR        1:06  21:30  22:10  21:34  21:40   \n",
       "\n",
       "  Carrier_Name  Carrier_Class  \n",
       "0    Lufthansa              0  \n",
       "1    Lufthansa              0  \n",
       "2    Lufthansa              0  \n",
       "3    Lufthansa              0  \n",
       "4    Lufthansa              0  "
      ],
      "text/html": "<div>\n<style scoped>\n    .dataframe tbody tr th:only-of-type {\n        vertical-align: middle;\n    }\n\n    .dataframe tbody tr th {\n        vertical-align: top;\n    }\n\n    .dataframe thead th {\n        text-align: right;\n    }\n</style>\n<table border=\"1\" class=\"dataframe\">\n  <thead>\n    <tr style=\"text-align: right;\">\n      <th></th>\n      <th>Flight</th>\n      <th>Date</th>\n      <th>Equipment_Type</th>\n      <th>Equipment_Reg</th>\n      <th>Origin_City</th>\n      <th>Origin_Code</th>\n      <th>Destination_City</th>\n      <th>Destination_Code</th>\n      <th>Flight Time</th>\n      <th>ETD</th>\n      <th>ETA</th>\n      <th>ATD</th>\n      <th>ATA</th>\n      <th>Carrier_Name</th>\n      <th>Carrier_Class</th>\n    </tr>\n  </thead>\n  <tbody>\n    <tr>\n      <th>0</th>\n      <td>LH922</td>\n      <td>18-Oct-20</td>\n      <td>A20N</td>\n      <td>D-AING</td>\n      <td>Frankfurt</td>\n      <td>FRA</td>\n      <td>London</td>\n      <td>LHR</td>\n      <td>1:09</td>\n      <td>21:30</td>\n      <td>22:10</td>\n      <td>21:42</td>\n      <td>21:50</td>\n      <td>Lufthansa</td>\n      <td>0</td>\n    </tr>\n    <tr>\n      <th>1</th>\n      <td>LH922</td>\n      <td>17-Oct-20</td>\n      <td>A20N</td>\n      <td>D-AINL</td>\n      <td>Frankfurt</td>\n      <td>FRA</td>\n      <td>London</td>\n      <td>LHR</td>\n      <td>1:03</td>\n      <td>21:30</td>\n      <td>22:10</td>\n      <td>22:04</td>\n      <td>22:08</td>\n      <td>Lufthansa</td>\n      <td>0</td>\n    </tr>\n    <tr>\n      <th>2</th>\n      <td>LH922</td>\n      <td>16-Oct-20</td>\n      <td>A320</td>\n      <td>D-AIUY</td>\n      <td>Frankfurt</td>\n      <td>FRA</td>\n      <td>London</td>\n      <td>LHR</td>\n      <td>1:07</td>\n      <td>21:30</td>\n      <td>22:10</td>\n      <td>21:41</td>\n      <td>21:47</td>\n      <td>Lufthansa</td>\n      <td>0</td>\n    </tr>\n    <tr>\n      <th>3</th>\n      <td>LH922</td>\n      <td>15-Oct-20</td>\n      <td>A20N</td>\n      <td>D-AIJB</td>\n      <td>Frankfurt</td>\n      <td>FRA</td>\n      <td>London</td>\n      <td>LHR</td>\n      <td>1:08</td>\n      <td>21:30</td>\n      <td>22:10</td>\n      <td>21:39</td>\n      <td>21:48</td>\n      <td>Lufthansa</td>\n      <td>0</td>\n    </tr>\n    <tr>\n      <th>4</th>\n      <td>LH922</td>\n      <td>14-Oct-20</td>\n      <td>A20N</td>\n      <td>D-AINJ</td>\n      <td>Frankfurt</td>\n      <td>FRA</td>\n      <td>London</td>\n      <td>LHR</td>\n      <td>1:06</td>\n      <td>21:30</td>\n      <td>22:10</td>\n      <td>21:34</td>\n      <td>21:40</td>\n      <td>Lufthansa</td>\n      <td>0</td>\n    </tr>\n  </tbody>\n</table>\n</div>"
     },
     "metadata": {},
     "execution_count": 220
    }
   ],
   "source": [
    "_df.head()"
   ]
  },
  {
   "cell_type": "code",
   "execution_count": 208,
   "metadata": {},
   "outputs": [],
   "source": [
    "carrier = {\n",
    "    'LH': 'Lufthansa',\n",
    "    'BA': 'British Airways',\n",
    "    'LO': 'LOT',\n",
    "    'SK': 'SAS',\n",
    "    'UX': 'Air Europa',\n",
    "    'IB': 'Iberia',\n",
    "    'KL': 'KLM Royal Dutch Airlines',\n",
    "    'DY': 'Norwegian',\n",
    "    'ET': 'Ethiopian',\n",
    "    'FR': 'Ryanair',\n",
    "    'HV': 'Transavia',\n",
    "    'VY': 'Vueling',\n",
    "    'EI': 'Aer Lingus',\n",
    "    'U2': 'EasyJet'\n",
    "    }"
   ]
  },
  {
   "cell_type": "code",
   "execution_count": 217,
   "metadata": {},
   "outputs": [],
   "source": [
    "carrier_class = {\n",
    "    'Lufthansa': 0,\n",
    "    'British Airways': 0,\n",
    "    'LOT': 0,\n",
    "    'SAS': 0,\n",
    "    'Air Europa': 0,\n",
    "    'Iberia': 0,\n",
    "    'KLM Royal Dutch Airlines': 0,\n",
    "    'Norwegian': 1,\n",
    "    'Ethiopian': 0,\n",
    "    'Ryanair': 1,\n",
    "    'Transavia': 1,\n",
    "    'Vueling': 1,\n",
    "    'Aer Lingus': 0,\n",
    "    'EasyJet': 1\n",
    "    }"
   ]
  },
  {
   "cell_type": "code",
   "execution_count": null,
   "metadata": {},
   "outputs": [],
   "source": [
    "def separate_number_chars(s):\n",
    "    res = re.split('([-+]?\\d+\\.\\d+)|([-+]?\\d+)', s.strip())\n",
    "    res_f = [r.strip() for r in res if r is not None and r.strip() != '']\n",
    "    return res_f"
   ]
  },
  {
   "cell_type": "code",
   "execution_count": 227,
   "metadata": {},
   "outputs": [],
   "source": [
    "def detect_dates(df):\n",
    "    _df = df.copy()\n",
    "    date_list = []\n",
    "    for index, row in _df.iterrows():\n",
    "        date_list.append(datetime.strptime(row['Date'], '%d-%b-%y').date().strftime('%Y-%m-%d'))\n",
    "        \n",
    "    _df['Date'] = date_list\n",
    "    return _df"
   ]
  },
  {
   "cell_type": "code",
   "execution_count": 228,
   "metadata": {},
   "outputs": [],
   "source": [
    "_df = detect_dates(_df)"
   ]
  },
  {
   "cell_type": "code",
   "execution_count": null,
   "metadata": {},
   "outputs": [],
   "source": []
  },
  {
   "cell_type": "code",
   "execution_count": 241,
   "metadata": {},
   "outputs": [
    {
     "output_type": "error",
     "ename": "AttributeError",
     "evalue": "'datetime.timedelta' object has no attribute 'strftime'",
     "traceback": [
      "\u001b[1;31m---------------------------------------------------------------------------\u001b[0m",
      "\u001b[1;31mAttributeError\u001b[0m                            Traceback (most recent call last)",
      "\u001b[1;32m<ipython-input-241-79caf6270735>\u001b[0m in \u001b[0;36m<module>\u001b[1;34m\u001b[0m\n\u001b[1;32m----> 1\u001b[1;33m \u001b[1;33m(\u001b[0m\u001b[0mdatetime\u001b[0m\u001b[1;33m.\u001b[0m\u001b[0mstrptime\u001b[0m\u001b[1;33m(\u001b[0m\u001b[1;34m'11:18'\u001b[0m\u001b[1;33m,\u001b[0m \u001b[1;34m'%H:%M'\u001b[0m\u001b[1;33m)\u001b[0m \u001b[1;33m-\u001b[0m \u001b[0mdatetime\u001b[0m\u001b[1;33m.\u001b[0m\u001b[0mstrptime\u001b[0m\u001b[1;33m(\u001b[0m\u001b[1;34m'1:18'\u001b[0m\u001b[1;33m,\u001b[0m \u001b[1;34m'%H:%M'\u001b[0m\u001b[1;33m)\u001b[0m\u001b[1;33m)\u001b[0m\u001b[1;33m.\u001b[0m\u001b[0mstrftime\u001b[0m\u001b[1;33m(\u001b[0m\u001b[1;34m'%H:%M'\u001b[0m\u001b[1;33m)\u001b[0m\u001b[1;33m\u001b[0m\u001b[1;33m\u001b[0m\u001b[0m\n\u001b[0m",
      "\u001b[1;31mAttributeError\u001b[0m: 'datetime.timedelta' object has no attribute 'strftime'"
     ]
    }
   ],
   "source": [
    "datetime.strptime('11:18', '%H:%M') - datetime.strptime('1:18', '%H:%M')"
   ]
  },
  {
   "cell_type": "code",
   "execution_count": 254,
   "metadata": {},
   "outputs": [],
   "source": [
    "from datetime import timedelta"
   ]
  },
  {
   "cell_type": "code",
   "execution_count": 324,
   "metadata": {},
   "outputs": [],
   "source": [
    "def get_time_delta(df):\n",
    "    _df = df.copy()\n",
    "    deltas = []\n",
    "    for index, row in _df.iterrows():\n",
    "        tdelta = datetime.strptime(row['ATA'], '%H:%M') - datetime.strptime(row['ETA'], '%H:%M')\n",
    "        #if tdelta.days < 0:\n",
    "        #tdelta = timedelta(seconds = tdelta.seconds, microseconds = tdelta.microseconds)\n",
    "        if datetime.strptime(row['ATA'], '%H:%M') < datetime.strptime(row['ETA'], '%H:%M'):\n",
    "            deltas.append(-1 * int((datetime.strptime('00:00', '%H:%M') - tdelta).time().minute))\n",
    "        else:\n",
    "            deltas.append(int((datetime.strptime('00:00', '%H:%M') + tdelta).time().minute))\n",
    "\n",
    "    _df['Timedelta'] = deltas\n",
    "    return _df"
   ]
  },
  {
   "cell_type": "code",
   "execution_count": 325,
   "metadata": {},
   "outputs": [],
   "source": [
    "_df = get_time_delta(_df)"
   ]
  },
  {
   "cell_type": "code",
   "execution_count": 296,
   "metadata": {},
   "outputs": [
    {
     "output_type": "execute_result",
     "data": {
      "text/plain": [
       "datetime.time(0, 0)"
      ]
     },
     "metadata": {},
     "execution_count": 296
    }
   ],
   "source": [
    "datetime.strptime('00:00', '%H:%M').time()"
   ]
  },
  {
   "cell_type": "code",
   "execution_count": 326,
   "metadata": {},
   "outputs": [
    {
     "output_type": "execute_result",
     "data": {
      "text/plain": [
       "        Flight        Date Equipment_Type Equipment_Reg Origin_City  \\\n",
       "0        LH922  2020-10-18           A20N        D-AING   Frankfurt   \n",
       "1        LH922  2020-10-17           A20N        D-AINL   Frankfurt   \n",
       "2        LH922  2020-10-16           A320        D-AIUY   Frankfurt   \n",
       "3        LH922  2020-10-15           A20N        D-AIJB   Frankfurt   \n",
       "4        LH922  2020-10-14           A20N        D-AINJ   Frankfurt   \n",
       "...        ...         ...            ...           ...         ...   \n",
       "186701  DY4251  2017-11-25           B738        LN-NID   Stockholm   \n",
       "186702  DY4251  2017-11-18           B738        LN-NHB   Stockholm   \n",
       "186703  DY4251  2017-11-11           B738        LN-NHF   Stockholm   \n",
       "186704  DY4251  2017-11-04           B738        LN-NHD   Stockholm   \n",
       "186705  DY4251  2017-10-28           A320        G-POWK   Stockholm   \n",
       "\n",
       "       Origin_Code Destination_City Destination_Code Flight Time    ETD  \\\n",
       "0              FRA           London              LHR        1:09  21:30   \n",
       "1              FRA           London              LHR        1:03  21:30   \n",
       "2              FRA           London              LHR        1:07  21:30   \n",
       "3              FRA           London              LHR        1:08  21:30   \n",
       "4              FRA           London              LHR        1:06  21:30   \n",
       "...            ...              ...              ...         ...    ...   \n",
       "186701         ARN        Barcelona              BCN        3:37   6:30   \n",
       "186702         ARN        Barcelona              BCN        3:08   6:30   \n",
       "186703         ARN        Barcelona              BCN        2:54   6:30   \n",
       "186704         ARN        Barcelona              BCN        3:29   6:30   \n",
       "186705         ARN        Barcelona              BCN        2:59   7:10   \n",
       "\n",
       "          ETA    ATD    ATA Carrier_Name  Carrier_Class  Timedelta  \n",
       "0       22:10  21:42  21:50    Lufthansa              0        -20  \n",
       "1       22:10  22:04  22:08    Lufthansa              0         -2  \n",
       "2       22:10  21:41  21:47    Lufthansa              0        -23  \n",
       "3       22:10  21:39  21:48    Lufthansa              0        -22  \n",
       "4       22:10  21:34  21:40    Lufthansa              0        -30  \n",
       "...       ...    ...    ...          ...            ...        ...  \n",
       "186701   9:55   6:58  10:36    Norwegian              1         41  \n",
       "186702   9:55   6:33  09:41    Norwegian              1        -14  \n",
       "186703   9:55   6:56  09:51    Norwegian              1         -4  \n",
       "186704   9:55   6:40  10:10    Norwegian              1         15  \n",
       "186705  10:35   7:17  10:17    Norwegian              1        -18  \n",
       "\n",
       "[181421 rows x 16 columns]"
      ],
      "text/html": "<div>\n<style scoped>\n    .dataframe tbody tr th:only-of-type {\n        vertical-align: middle;\n    }\n\n    .dataframe tbody tr th {\n        vertical-align: top;\n    }\n\n    .dataframe thead th {\n        text-align: right;\n    }\n</style>\n<table border=\"1\" class=\"dataframe\">\n  <thead>\n    <tr style=\"text-align: right;\">\n      <th></th>\n      <th>Flight</th>\n      <th>Date</th>\n      <th>Equipment_Type</th>\n      <th>Equipment_Reg</th>\n      <th>Origin_City</th>\n      <th>Origin_Code</th>\n      <th>Destination_City</th>\n      <th>Destination_Code</th>\n      <th>Flight Time</th>\n      <th>ETD</th>\n      <th>ETA</th>\n      <th>ATD</th>\n      <th>ATA</th>\n      <th>Carrier_Name</th>\n      <th>Carrier_Class</th>\n      <th>Timedelta</th>\n    </tr>\n  </thead>\n  <tbody>\n    <tr>\n      <th>0</th>\n      <td>LH922</td>\n      <td>2020-10-18</td>\n      <td>A20N</td>\n      <td>D-AING</td>\n      <td>Frankfurt</td>\n      <td>FRA</td>\n      <td>London</td>\n      <td>LHR</td>\n      <td>1:09</td>\n      <td>21:30</td>\n      <td>22:10</td>\n      <td>21:42</td>\n      <td>21:50</td>\n      <td>Lufthansa</td>\n      <td>0</td>\n      <td>-20</td>\n    </tr>\n    <tr>\n      <th>1</th>\n      <td>LH922</td>\n      <td>2020-10-17</td>\n      <td>A20N</td>\n      <td>D-AINL</td>\n      <td>Frankfurt</td>\n      <td>FRA</td>\n      <td>London</td>\n      <td>LHR</td>\n      <td>1:03</td>\n      <td>21:30</td>\n      <td>22:10</td>\n      <td>22:04</td>\n      <td>22:08</td>\n      <td>Lufthansa</td>\n      <td>0</td>\n      <td>-2</td>\n    </tr>\n    <tr>\n      <th>2</th>\n      <td>LH922</td>\n      <td>2020-10-16</td>\n      <td>A320</td>\n      <td>D-AIUY</td>\n      <td>Frankfurt</td>\n      <td>FRA</td>\n      <td>London</td>\n      <td>LHR</td>\n      <td>1:07</td>\n      <td>21:30</td>\n      <td>22:10</td>\n      <td>21:41</td>\n      <td>21:47</td>\n      <td>Lufthansa</td>\n      <td>0</td>\n      <td>-23</td>\n    </tr>\n    <tr>\n      <th>3</th>\n      <td>LH922</td>\n      <td>2020-10-15</td>\n      <td>A20N</td>\n      <td>D-AIJB</td>\n      <td>Frankfurt</td>\n      <td>FRA</td>\n      <td>London</td>\n      <td>LHR</td>\n      <td>1:08</td>\n      <td>21:30</td>\n      <td>22:10</td>\n      <td>21:39</td>\n      <td>21:48</td>\n      <td>Lufthansa</td>\n      <td>0</td>\n      <td>-22</td>\n    </tr>\n    <tr>\n      <th>4</th>\n      <td>LH922</td>\n      <td>2020-10-14</td>\n      <td>A20N</td>\n      <td>D-AINJ</td>\n      <td>Frankfurt</td>\n      <td>FRA</td>\n      <td>London</td>\n      <td>LHR</td>\n      <td>1:06</td>\n      <td>21:30</td>\n      <td>22:10</td>\n      <td>21:34</td>\n      <td>21:40</td>\n      <td>Lufthansa</td>\n      <td>0</td>\n      <td>-30</td>\n    </tr>\n    <tr>\n      <th>...</th>\n      <td>...</td>\n      <td>...</td>\n      <td>...</td>\n      <td>...</td>\n      <td>...</td>\n      <td>...</td>\n      <td>...</td>\n      <td>...</td>\n      <td>...</td>\n      <td>...</td>\n      <td>...</td>\n      <td>...</td>\n      <td>...</td>\n      <td>...</td>\n      <td>...</td>\n      <td>...</td>\n    </tr>\n    <tr>\n      <th>186701</th>\n      <td>DY4251</td>\n      <td>2017-11-25</td>\n      <td>B738</td>\n      <td>LN-NID</td>\n      <td>Stockholm</td>\n      <td>ARN</td>\n      <td>Barcelona</td>\n      <td>BCN</td>\n      <td>3:37</td>\n      <td>6:30</td>\n      <td>9:55</td>\n      <td>6:58</td>\n      <td>10:36</td>\n      <td>Norwegian</td>\n      <td>1</td>\n      <td>41</td>\n    </tr>\n    <tr>\n      <th>186702</th>\n      <td>DY4251</td>\n      <td>2017-11-18</td>\n      <td>B738</td>\n      <td>LN-NHB</td>\n      <td>Stockholm</td>\n      <td>ARN</td>\n      <td>Barcelona</td>\n      <td>BCN</td>\n      <td>3:08</td>\n      <td>6:30</td>\n      <td>9:55</td>\n      <td>6:33</td>\n      <td>09:41</td>\n      <td>Norwegian</td>\n      <td>1</td>\n      <td>-14</td>\n    </tr>\n    <tr>\n      <th>186703</th>\n      <td>DY4251</td>\n      <td>2017-11-11</td>\n      <td>B738</td>\n      <td>LN-NHF</td>\n      <td>Stockholm</td>\n      <td>ARN</td>\n      <td>Barcelona</td>\n      <td>BCN</td>\n      <td>2:54</td>\n      <td>6:30</td>\n      <td>9:55</td>\n      <td>6:56</td>\n      <td>09:51</td>\n      <td>Norwegian</td>\n      <td>1</td>\n      <td>-4</td>\n    </tr>\n    <tr>\n      <th>186704</th>\n      <td>DY4251</td>\n      <td>2017-11-04</td>\n      <td>B738</td>\n      <td>LN-NHD</td>\n      <td>Stockholm</td>\n      <td>ARN</td>\n      <td>Barcelona</td>\n      <td>BCN</td>\n      <td>3:29</td>\n      <td>6:30</td>\n      <td>9:55</td>\n      <td>6:40</td>\n      <td>10:10</td>\n      <td>Norwegian</td>\n      <td>1</td>\n      <td>15</td>\n    </tr>\n    <tr>\n      <th>186705</th>\n      <td>DY4251</td>\n      <td>2017-10-28</td>\n      <td>A320</td>\n      <td>G-POWK</td>\n      <td>Stockholm</td>\n      <td>ARN</td>\n      <td>Barcelona</td>\n      <td>BCN</td>\n      <td>2:59</td>\n      <td>7:10</td>\n      <td>10:35</td>\n      <td>7:17</td>\n      <td>10:17</td>\n      <td>Norwegian</td>\n      <td>1</td>\n      <td>-18</td>\n    </tr>\n  </tbody>\n</table>\n<p>181421 rows × 16 columns</p>\n</div>"
     },
     "metadata": {},
     "execution_count": 326
    }
   ],
   "source": [
    "_df"
   ]
  },
  {
   "cell_type": "code",
   "execution_count": null,
   "metadata": {},
   "outputs": [],
   "source": []
  }
 ]
}