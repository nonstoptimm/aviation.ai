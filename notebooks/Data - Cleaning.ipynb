{
 "metadata": {
  "language_info": {
   "codemirror_mode": {
    "name": "ipython",
    "version": 3
   },
   "file_extension": ".py",
   "mimetype": "text/x-python",
   "name": "python",
   "nbconvert_exporter": "python",
   "pygments_lexer": "ipython3",
   "version": "3.8.3-final"
  },
  "orig_nbformat": 2,
  "kernelspec": {
   "name": "Python 3.8.3 32-bit ('.venv')",
   "display_name": "Python 3.8.3 32-bit ('.venv')",
   "metadata": {
    "interpreter": {
     "hash": "d4aae52d606015beff0d3a59f8d79dfc7aaa96b866c5910a539a90c958476536"
    }
   }
  }
 },
 "nbformat": 4,
 "nbformat_minor": 2,
 "cells": [
  {
   "source": [
    "# Flightdata Preprocessor"
   ],
   "cell_type": "markdown",
   "metadata": {}
  },
  {
   "cell_type": "code",
   "execution_count": 3,
   "metadata": {},
   "outputs": [],
   "source": [
    "import pandas as pd\n",
    "from datetime import datetime\n",
    "from datetime import timedelta\n",
    "import logging\n",
    "import matplotlib.pyplot as plt\n",
    "import sys"
   ]
  },
  {
   "cell_type": "code",
   "execution_count": 352,
   "metadata": {},
   "outputs": [],
   "source": [
    "sys.path.append('./')"
   ]
  },
  {
   "cell_type": "code",
   "execution_count": 351,
   "metadata": {},
   "outputs": [],
   "source": [
    "df = pd.read_csv('../assets/data.txt', sep=\"\\t\", encoding=\"utf-8\")\n",
    "del df['nix']"
   ]
  },
  {
   "cell_type": "code",
   "execution_count": 171,
   "metadata": {},
   "outputs": [
    {
     "output_type": "execute_result",
     "data": {
      "text/plain": [
       "  Flight       Date           Origin   Destination      Equipment Flight Time  \\\n",
       "0  LH922  18-Oct-20  Frankfurt (FRA)  London (LHR)  A20N (D-AING)        1:09   \n",
       "1  LH922  17-Oct-20  Frankfurt (FRA)  London (LHR)  A20N (D-AINL)        1:03   \n",
       "2  LH922  16-Oct-20  Frankfurt (FRA)  London (LHR)  A320 (D-AIUY)        1:07   \n",
       "3  LH922  15-Oct-20  Frankfurt (FRA)  London (LHR)  A20N (D-AIJB)        1:08   \n",
       "4  LH922  14-Oct-20  Frankfurt (FRA)  London (LHR)  A20N (D-AINJ)        1:06   \n",
       "\n",
       "     ETD    ATD    ETA           ATA  \n",
       "0  21:30  21:42  22:10  Landed 21:50  \n",
       "1  21:30  22:04  22:10  Landed 22:08  \n",
       "2  21:30  21:41  22:10  Landed 21:47  \n",
       "3  21:30  21:39  22:10  Landed 21:48  \n",
       "4  21:30  21:34  22:10  Landed 21:40  "
      ],
      "text/html": "<div>\n<style scoped>\n    .dataframe tbody tr th:only-of-type {\n        vertical-align: middle;\n    }\n\n    .dataframe tbody tr th {\n        vertical-align: top;\n    }\n\n    .dataframe thead th {\n        text-align: right;\n    }\n</style>\n<table border=\"1\" class=\"dataframe\">\n  <thead>\n    <tr style=\"text-align: right;\">\n      <th></th>\n      <th>Flight</th>\n      <th>Date</th>\n      <th>Origin</th>\n      <th>Destination</th>\n      <th>Equipment</th>\n      <th>Flight Time</th>\n      <th>ETD</th>\n      <th>ATD</th>\n      <th>ETA</th>\n      <th>ATA</th>\n    </tr>\n  </thead>\n  <tbody>\n    <tr>\n      <th>0</th>\n      <td>LH922</td>\n      <td>18-Oct-20</td>\n      <td>Frankfurt (FRA)</td>\n      <td>London (LHR)</td>\n      <td>A20N (D-AING)</td>\n      <td>1:09</td>\n      <td>21:30</td>\n      <td>21:42</td>\n      <td>22:10</td>\n      <td>Landed 21:50</td>\n    </tr>\n    <tr>\n      <th>1</th>\n      <td>LH922</td>\n      <td>17-Oct-20</td>\n      <td>Frankfurt (FRA)</td>\n      <td>London (LHR)</td>\n      <td>A20N (D-AINL)</td>\n      <td>1:03</td>\n      <td>21:30</td>\n      <td>22:04</td>\n      <td>22:10</td>\n      <td>Landed 22:08</td>\n    </tr>\n    <tr>\n      <th>2</th>\n      <td>LH922</td>\n      <td>16-Oct-20</td>\n      <td>Frankfurt (FRA)</td>\n      <td>London (LHR)</td>\n      <td>A320 (D-AIUY)</td>\n      <td>1:07</td>\n      <td>21:30</td>\n      <td>21:41</td>\n      <td>22:10</td>\n      <td>Landed 21:47</td>\n    </tr>\n    <tr>\n      <th>3</th>\n      <td>LH922</td>\n      <td>15-Oct-20</td>\n      <td>Frankfurt (FRA)</td>\n      <td>London (LHR)</td>\n      <td>A20N (D-AIJB)</td>\n      <td>1:08</td>\n      <td>21:30</td>\n      <td>21:39</td>\n      <td>22:10</td>\n      <td>Landed 21:48</td>\n    </tr>\n    <tr>\n      <th>4</th>\n      <td>LH922</td>\n      <td>14-Oct-20</td>\n      <td>Frankfurt (FRA)</td>\n      <td>London (LHR)</td>\n      <td>A20N (D-AINJ)</td>\n      <td>1:06</td>\n      <td>21:30</td>\n      <td>21:34</td>\n      <td>22:10</td>\n      <td>Landed 21:40</td>\n    </tr>\n  </tbody>\n</table>\n</div>"
     },
     "metadata": {},
     "execution_count": 171
    }
   ],
   "source": [
    "df.head()"
   ]
  },
  {
   "cell_type": "code",
   "execution_count": 172,
   "metadata": {},
   "outputs": [],
   "source": [
    "def clean_data(df):\n",
    "    \"\"\"\n",
    "    Clean data rows, such as invalid characters, NaN, Landed ...\n",
    "    \"\"\"\n",
    "    _df = df.copy()\n",
    "    logging.warning(f'Received df of len {len(_df)}...')\n",
    "    for _ in ['Origin', 'Destination', 'Equipment']:\n",
    "        _df = _df[_df[_].str.contains(\"\\)\")]\n",
    "    for _ in ['Flight Time', 'ETD', 'ATD', 'ETA', 'ATA']:\n",
    "        _df = _df[~(_df[_].str.contains(\"-\")) & ~(_df[_].str.contains(\"—\"))]\n",
    "    _df = _df[(_df['ATA'].str.contains(\"Landed\"))]\n",
    "    _df['ATA'] = _df['ATA'].str.replace('Landed ','')\n",
    "    _df['ATA'] = _df['ATA'].str.replace(u'Landed\\xa0','')\n",
    "    logging.warning(f'Returned df of len {len(_df)}...')\n",
    "    return _df"
   ]
  },
  {
   "cell_type": "code",
   "execution_count": 173,
   "metadata": {},
   "outputs": [
    {
     "output_type": "stream",
     "name": "stderr",
     "text": [
      "WARNING:root:Received df of len 186706...\n",
      "WARNING:root:Returned df of len 181421...\n"
     ]
    }
   ],
   "source": [
    "_df = clean_data(df)"
   ]
  },
  {
   "cell_type": "code",
   "execution_count": 174,
   "metadata": {},
   "outputs": [],
   "source": [
    "def clean_codes(df):\n",
    "    \"\"\"\n",
    "    Clean airport and equipment codes\n",
    "    \"\"\"\n",
    "    _df = df.copy()\n",
    "    for _ in ['Origin', 'Destination']:\n",
    "        _df[[f'{_}_City', f'{_}_Code']] = _df[_].str.split(u\"\\xa0\\(\", n = 1, expand = True)\n",
    "    _df[['Equipment_Type', 'Equipment_Reg']] = _df['Equipment'].str.split(u\"\\xa0\\(\", n = 1, expand = True)\n",
    "    for _ in ['Equipment_Reg', 'Origin_Code', 'Destination_Code']:\n",
    "        _df[_] = _df[_].str.replace(\")\", \"\")\n",
    "    return _df[['Flight', 'Date', 'Equipment_Type', 'Equipment_Reg', 'Origin_City', 'Origin_Code', 'Destination_City', 'Destination_Code', 'Flight Time', 'ETD', 'ETA', 'ATD', 'ATA']]"
   ]
  },
  {
   "cell_type": "code",
   "execution_count": 175,
   "metadata": {},
   "outputs": [],
   "source": [
    "_df = clean_codes(_df)"
   ]
  },
  {
   "cell_type": "code",
   "execution_count": 201,
   "metadata": {},
   "outputs": [],
   "source": [
    "def get_carrier_code(df):\n",
    "    \"\"\"\n",
    "    Get carrier codes\n",
    "    \"\"\"\n",
    "    _df = df.copy()\n",
    "    carrier = {}\n",
    "    carrier_list = []\n",
    "    for index, row in _df.iterrows():\n",
    "        if row['Flight'][:2] not in carrier.keys():\n",
    "            carrier[row['Flight'][:2]] = \"\"\n",
    "        carrier_list.append(row['Flight'][:2])\n",
    "    return carrier, carrier_list"
   ]
  },
  {
   "cell_type": "code",
   "execution_count": 202,
   "metadata": {},
   "outputs": [],
   "source": [
    "carrier, carrier_list = get_carrier_code(_df)"
   ]
  },
  {
   "cell_type": "code",
   "execution_count": 214,
   "metadata": {},
   "outputs": [],
   "source": [
    "def set_carrier_info(df, carrier, carrier_class, carrier_list):\n",
    "    \"\"\"\n",
    "    Assign airlines names + class\n",
    "    \"\"\"\n",
    "    _df = df.copy()\n",
    "    _df['Carrier_Name'] = carrier_list\n",
    "    _df['Carrier_Name'] = _df['Carrier_Name'].map(carrier)\n",
    "    _df['Carrier_Class'] = _df['Carrier_Name'].map(carrier_class)\n",
    "    return _df"
   ]
  },
  {
   "cell_type": "code",
   "execution_count": 218,
   "metadata": {},
   "outputs": [],
   "source": [
    "_df = set_carrier_info(_df, carrier, carrier_class, carrier_list)"
   ]
  },
  {
   "cell_type": "code",
   "execution_count": 208,
   "metadata": {},
   "outputs": [],
   "source": [
    "carrier = {\n",
    "    'LH': 'Lufthansa',\n",
    "    'BA': 'British Airways',\n",
    "    'LO': 'LOT',\n",
    "    'SK': 'SAS',\n",
    "    'UX': 'Air Europa',\n",
    "    'IB': 'Iberia',\n",
    "    'KL': 'KLM Royal Dutch Airlines',\n",
    "    'DY': 'Norwegian',\n",
    "    'ET': 'Ethiopian',\n",
    "    'FR': 'Ryanair',\n",
    "    'HV': 'Transavia',\n",
    "    'VY': 'Vueling',\n",
    "    'EI': 'Aer Lingus',\n",
    "    'U2': 'EasyJet'\n",
    "    }"
   ]
  },
  {
   "cell_type": "code",
   "execution_count": 217,
   "metadata": {},
   "outputs": [],
   "source": [
    "carrier_class = {\n",
    "    'Lufthansa': 0,\n",
    "    'British Airways': 0,\n",
    "    'LOT': 0,\n",
    "    'SAS': 0,\n",
    "    'Air Europa': 0,\n",
    "    'Iberia': 0,\n",
    "    'KLM Royal Dutch Airlines': 0,\n",
    "    'Norwegian': 1,\n",
    "    'Ethiopian': 0,\n",
    "    'Ryanair': 1,\n",
    "    'Transavia': 1,\n",
    "    'Vueling': 1,\n",
    "    'Aer Lingus': 0,\n",
    "    'EasyJet': 1\n",
    "    }"
   ]
  },
  {
   "cell_type": "code",
   "execution_count": 227,
   "metadata": {},
   "outputs": [],
   "source": [
    "def detect_dates(df):\n",
    "    \"\"\"\n",
    "    Detect dates and reformat it\n",
    "    \"\"\"\n",
    "    _df = df.copy()\n",
    "    date_list = []\n",
    "    for index, row in _df.iterrows():\n",
    "        date_list.append(datetime.strptime(row['Date'], '%d-%b-%y').date().strftime('%Y-%m-%d'))\n",
    "    _df['Date'] = date_list\n",
    "    return _df"
   ]
  },
  {
   "cell_type": "code",
   "execution_count": 228,
   "metadata": {},
   "outputs": [],
   "source": [
    "_df = detect_dates(_df)"
   ]
  },
  {
   "cell_type": "code",
   "execution_count": 324,
   "metadata": {},
   "outputs": [],
   "source": [
    "def get_time_delta(df):\n",
    "    \"\"\"\n",
    "    Calculate time deltas\n",
    "    \"\"\"\n",
    "    _df = df.copy()\n",
    "    deltas = []\n",
    "    for index, row in _df.iterrows():\n",
    "        tdelta = datetime.strptime(row['ATA'], '%H:%M') - datetime.strptime(row['ETA'], '%H:%M')\n",
    "        if datetime.strptime(row['ATA'], '%H:%M') < datetime.strptime(row['ETA'], '%H:%M'):\n",
    "            deltas.append(-1 * int((datetime.strptime('00:00', '%H:%M') - tdelta).time().minute))\n",
    "        else:\n",
    "            deltas.append(int((datetime.strptime('00:00', '%H:%M') + tdelta).time().minute))\n",
    "    _df['Timedelta'] = deltas\n",
    "    return _df"
   ]
  },
  {
   "cell_type": "code",
   "execution_count": 325,
   "metadata": {},
   "outputs": [],
   "source": [
    "_df = get_time_delta(_df)"
   ]
  },
  {
   "cell_type": "code",
   "execution_count": 333,
   "metadata": {},
   "outputs": [],
   "source": [
    "def get_departure_groups(df):\n",
    "    \"\"\"\n",
    "    Detect different departure groups throughout the day\n",
    "    \"\"\"\n",
    "    _df = df.copy()\n",
    "    dep_groups = []\n",
    "    for index, row in _df.iterrows():\n",
    "        if datetime.strptime(row['ETD'], '%H:%M') <= datetime.strptime('07:30', '%H:%M'):\n",
    "            dep_groups.append('Red Eye')\n",
    "        elif datetime.strptime(row['ETD'], '%H:%M') <= datetime.strptime('12:00', '%H:%M'):\n",
    "            dep_groups.append('Morning')\n",
    "        elif datetime.strptime(row['ETD'], '%H:%M') <= datetime.strptime('18:00', '%H:%M'):\n",
    "            dep_groups.append('Afternoon')\n",
    "        elif datetime.strptime(row['ETD'], '%H:%M') <= datetime.strptime('21:30', '%H:%M'):\n",
    "            dep_groups.append('Evening')\n",
    "        elif datetime.strptime(row['ETD'], '%H:%M') <= datetime.strptime('23:59', '%H:%M'):\n",
    "            dep_groups.append('Night')\n",
    "        else:\n",
    "            dep_groups.append(None)\n",
    "            logging.warning('invalid time?')\n",
    "    _df['ETD_Group'] = dep_groups\n",
    "    return _df"
   ]
  },
  {
   "cell_type": "code",
   "execution_count": 335,
   "metadata": {},
   "outputs": [],
   "source": [
    "_df = get_departure_groups(_df)"
   ]
  },
  {
   "cell_type": "code",
   "execution_count": 115,
   "metadata": {},
   "outputs": [],
   "source": [
    "def vote_majority_flight(df):\n",
    "    \"\"\"\n",
    "    Majority vote of flights when they have an unusual leg, so that we only keep the \"real\" flights\n",
    "    \"\"\"\n",
    "    _df = df.copy()\n",
    "    flight_filtered = pd.DataFrame()\n",
    "    flight_list = list(df.Flight.drop_duplicates())\n",
    "    logging.warning(f'Loaded {len(flight_list)} flights.')\n",
    "    # Loop through flight list and find major flight\n",
    "    for flight in flight_list:\n",
    "        _flight = _df[(_df['Flight'] == flight)].groupby(['Flight', 'Origin_City', 'Destination_City']).describe().sort_values(('Timedelta', 'count'), ascending=False).reset_index()[['Flight', 'Origin_City', 'Destination_City']].head(1)\n",
    "        flight_filtered = flight_filtered.append(_flight)\n",
    "    flight_filtered = flight_filtered.reset_index(drop=True).droplevel(0, axis=1)\n",
    "    flight_filtered.columns = ['Flight', 'Origin_City', 'Destination_City']\n",
    "    return flight_filtered\n"
   ]
  },
  {
   "cell_type": "code",
   "execution_count": 116,
   "metadata": {},
   "outputs": [
    {
     "output_type": "stream",
     "name": "stderr",
     "text": [
      "WARNING:root:Loaded 238 flights.\n"
     ]
    }
   ],
   "source": [
    "flight_filtered = vote_majority_flight(df_old)"
   ]
  },
  {
   "cell_type": "code",
   "execution_count": 118,
   "metadata": {},
   "outputs": [],
   "source": [
    "def extract_major_flight(flight_filtered, df):\n",
    "    \"\"\"\n",
    "    Majority vote of flights when they have an unusual leg, so that we only keep the \"real\" flights\n",
    "    \"\"\"\n",
    "    _df = pd.DataFrame()\n",
    "    for index, row in flight_filtered.iterrows():\n",
    "        df_temp = df[(df['Flight'] == row['Flight']) & (df['Origin_City'] == row['Origin_City']) & (df['Destination_City'] == row['Destination_City'])]\n",
    "        _df = _df.append(df_temp)\n",
    "    return _df"
   ]
  },
  {
   "cell_type": "code",
   "execution_count": 119,
   "metadata": {},
   "outputs": [],
   "source": [
    "_df = extract_major_flight(flight_filtered, df_old)"
   ]
  },
  {
   "cell_type": "code",
   "execution_count": null,
   "metadata": {},
   "outputs": [],
   "source": [
    "_df.to_csv('../assets/data_prep_majority.txt', sep=\"\\t\", encoding=\"utf-8\", index=False)"
   ]
  },
  {
   "cell_type": "code",
   "execution_count": 5,
   "metadata": {},
   "outputs": [],
   "source": [
    "# Or if already prepared\n",
    "df = pd.read_csv('../assets/data_prep_majority.txt', sep=\"\\t\", encoding=\"utf-8\")"
   ]
  },
  {
   "cell_type": "code",
   "execution_count": 16,
   "metadata": {},
   "outputs": [
    {
     "output_type": "execute_result",
     "data": {
      "text/plain": [
       "Amsterdam      23782\n",
       "London         23703\n",
       "Frankfurt      22204\n",
       "Copenhagen     18996\n",
       "Munich         14752\n",
       "Madrid         14696\n",
       "Oslo           14145\n",
       "Warsaw         13085\n",
       "Dublin         12843\n",
       "Stockholm      10950\n",
       "Barcelona       9831\n",
       "Addis Ababa      735\n",
       "Name: Destination_City, dtype: int64"
      ]
     },
     "metadata": {},
     "execution_count": 16
    }
   ],
   "source": [
    "df.Destination_City.value_counts()"
   ]
  },
  {
   "cell_type": "code",
   "execution_count": 12,
   "metadata": {},
   "outputs": [
    {
     "output_type": "execute_result",
     "data": {
      "text/plain": [
       "Series([], dtype: int64)"
      ]
     },
     "metadata": {},
     "execution_count": 12
    }
   ],
   "source": [
    "df[df['Origin_City'] == 'Addis Ababa'].value_counts()"
   ]
  },
  {
   "cell_type": "code",
   "execution_count": 31,
   "metadata": {},
   "outputs": [],
   "source": [
    "def correct_flighttimes(df):\n",
    "    _df = df.copy()\n",
    "    ATA = []\n",
    "    ETA = []\n",
    "    ETD = []\n",
    "    ATD = []\n",
    "    for index, row in _df.iterrows():\n",
    "        if row['Destination_City'] in ['Dublin', 'London']:\n",
    "            ATA.append((datetime.strptime(row['ATA'], '%H:%M') + timedelta(hours = 1)).strftime('%H:%M'))\n",
    "            ETA.append((datetime.strptime(row['ETA'], '%H:%M') + timedelta(hours = 1)).strftime('%H:%M'))\n",
    "        elif row['Destination_City'] == \"Addis Ababa\":\n",
    "            ATA.append((datetime.strptime(row['ATA'], '%H:%M') - timedelta(hours = 1)).strftime('%H:%M'))\n",
    "            ETA.append((datetime.strptime(row['ETA'], '%H:%M') - timedelta(hours = 1)).strftime('%H:%M'))\n",
    "        else:\n",
    "            ATA.append(row['ATA'])\n",
    "            ETA.append(row['ETA'])\n",
    "        if row['Origin_City'] in ['Dublin', 'London']:\n",
    "            ETD.append((datetime.strptime(row['ETD'], '%H:%M') - timedelta(hours = 1)).strftime('%H:%M'))\n",
    "            ATD.append((datetime.strptime(row['ATD'], '%H:%M') - timedelta(hours = 1)).strftime('%H:%M'))\n",
    "        elif row['Destination_City'] == \"Addis Ababa\":\n",
    "            ETD.append((datetime.strptime(row['ETD'], '%H:%M') + timedelta(hours = 1)).strftime('%H:%M'))\n",
    "            ATD.append((datetime.strptime(row['ATD'], '%H:%M') + timedelta(hours = 1)).strftime('%H:%M'))\n",
    "        else:\n",
    "            ETD.append(row['ETD'])\n",
    "            ATD.append(row['ATD'])\n",
    "    _df['ATA'] = ATA\n",
    "    _df['ETA'] = ETA\n",
    "    _df['ETD'] = ETD\n",
    "    _df['ATD'] = ATD\n",
    "    return _df\n"
   ]
  },
  {
   "cell_type": "code",
   "execution_count": 34,
   "metadata": {},
   "outputs": [],
   "source": [
    "_df = correct_flighttimes(df)"
   ]
  },
  {
   "cell_type": "code",
   "execution_count": 62,
   "metadata": {},
   "outputs": [
    {
     "output_type": "execute_result",
     "data": {
      "text/plain": [
       "        Flight        Date Equipment_Type Equipment_Reg Origin_City  \\\n",
       "152      LH922  2020-02-23           A321        D-AISX   Frankfurt   \n",
       "253      LH922  2019-10-25           A21N        D-AIEC   Frankfurt   \n",
       "317      LH922  2019-08-18           A21N        D-AIEA   Frankfurt   \n",
       "326      LH922  2019-08-09           A21N        D-AIEA   Frankfurt   \n",
       "337      LH922  2019-07-28           A21N        D-AIEB   Frankfurt   \n",
       "...        ...         ...            ...           ...         ...   \n",
       "178250   SK554  2019-06-14           CRJ9        ES-ACM   Amsterdam   \n",
       "178378   SK554  2018-12-21           A319        OY-KBP   Amsterdam   \n",
       "179521  DY4252  2020-10-16           B738        SE-RPT   Barcelona   \n",
       "179523  DY4252  2020-10-09           B738        SE-RPS   Barcelona   \n",
       "179525  DY4252  2020-10-02           B738        SE-RPR   Barcelona   \n",
       "\n",
       "       Origin_Code Destination_City Destination_Code Flight Time    ETD  \\\n",
       "152            FRA           London              LHR        1:14  21:30   \n",
       "253            FRA           London              LHR        1:40  21:30   \n",
       "317            FRA           London              LHR        1:06  21:30   \n",
       "326            FRA           London              LHR        1:26  21:30   \n",
       "337            FRA           London              LHR        1:03  21:30   \n",
       "...            ...              ...              ...         ...    ...   \n",
       "178250         AMS       Copenhagen              CPH        0:56  21:45   \n",
       "178378         AMS       Copenhagen              CPH        0:59  21:45   \n",
       "179521         BCN        Stockholm              ARN        3:16  20:40   \n",
       "179523         BCN        Stockholm              ARN        3:02  20:40   \n",
       "179525         BCN        Stockholm              ARN        2:57  20:40   \n",
       "\n",
       "          ETA    ATD    ATA Carrier_Name  Carrier_Class  Timedelta ETD_Group  \\\n",
       "152     23:15  22:59  00:13    Lufthansa              0         58   Evening   \n",
       "253     23:10  22:20  00:00    Lufthansa              0         50   Evening   \n",
       "317     23:10  23:05  00:11    Lufthansa              0          1   Evening   \n",
       "326     23:10  22:47  00:12    Lufthansa              0          2   Evening   \n",
       "337     23:10  22:57  00:01    Lufthansa              0         51   Evening   \n",
       "...       ...    ...    ...          ...            ...        ...       ...   \n",
       "178250  23:05  23:07  00:03          SAS              0         -2     Night   \n",
       "178378  23:05  23:10  00:09          SAS              0        -56     Night   \n",
       "179521   0:15  20:51  00:07    Norwegian              1         -8   Evening   \n",
       "179523   0:15  21:18  00:20    Norwegian              1          5   Evening   \n",
       "179525   0:15  21:41  00:37    Norwegian              1         22   Evening   \n",
       "\n",
       "        black sheep  \n",
       "152            True  \n",
       "253            True  \n",
       "317            True  \n",
       "326            True  \n",
       "337            True  \n",
       "...             ...  \n",
       "178250         True  \n",
       "178378         True  \n",
       "179521         True  \n",
       "179523         True  \n",
       "179525         True  \n",
       "\n",
       "[2204 rows x 18 columns]"
      ],
      "text/html": "<div>\n<style scoped>\n    .dataframe tbody tr th:only-of-type {\n        vertical-align: middle;\n    }\n\n    .dataframe tbody tr th {\n        vertical-align: top;\n    }\n\n    .dataframe thead th {\n        text-align: right;\n    }\n</style>\n<table border=\"1\" class=\"dataframe\">\n  <thead>\n    <tr style=\"text-align: right;\">\n      <th></th>\n      <th>Flight</th>\n      <th>Date</th>\n      <th>Equipment_Type</th>\n      <th>Equipment_Reg</th>\n      <th>Origin_City</th>\n      <th>Origin_Code</th>\n      <th>Destination_City</th>\n      <th>Destination_Code</th>\n      <th>Flight Time</th>\n      <th>ETD</th>\n      <th>ETA</th>\n      <th>ATD</th>\n      <th>ATA</th>\n      <th>Carrier_Name</th>\n      <th>Carrier_Class</th>\n      <th>Timedelta</th>\n      <th>ETD_Group</th>\n      <th>black sheep</th>\n    </tr>\n  </thead>\n  <tbody>\n    <tr>\n      <th>152</th>\n      <td>LH922</td>\n      <td>2020-02-23</td>\n      <td>A321</td>\n      <td>D-AISX</td>\n      <td>Frankfurt</td>\n      <td>FRA</td>\n      <td>London</td>\n      <td>LHR</td>\n      <td>1:14</td>\n      <td>21:30</td>\n      <td>23:15</td>\n      <td>22:59</td>\n      <td>00:13</td>\n      <td>Lufthansa</td>\n      <td>0</td>\n      <td>58</td>\n      <td>Evening</td>\n      <td>True</td>\n    </tr>\n    <tr>\n      <th>253</th>\n      <td>LH922</td>\n      <td>2019-10-25</td>\n      <td>A21N</td>\n      <td>D-AIEC</td>\n      <td>Frankfurt</td>\n      <td>FRA</td>\n      <td>London</td>\n      <td>LHR</td>\n      <td>1:40</td>\n      <td>21:30</td>\n      <td>23:10</td>\n      <td>22:20</td>\n      <td>00:00</td>\n      <td>Lufthansa</td>\n      <td>0</td>\n      <td>50</td>\n      <td>Evening</td>\n      <td>True</td>\n    </tr>\n    <tr>\n      <th>317</th>\n      <td>LH922</td>\n      <td>2019-08-18</td>\n      <td>A21N</td>\n      <td>D-AIEA</td>\n      <td>Frankfurt</td>\n      <td>FRA</td>\n      <td>London</td>\n      <td>LHR</td>\n      <td>1:06</td>\n      <td>21:30</td>\n      <td>23:10</td>\n      <td>23:05</td>\n      <td>00:11</td>\n      <td>Lufthansa</td>\n      <td>0</td>\n      <td>1</td>\n      <td>Evening</td>\n      <td>True</td>\n    </tr>\n    <tr>\n      <th>326</th>\n      <td>LH922</td>\n      <td>2019-08-09</td>\n      <td>A21N</td>\n      <td>D-AIEA</td>\n      <td>Frankfurt</td>\n      <td>FRA</td>\n      <td>London</td>\n      <td>LHR</td>\n      <td>1:26</td>\n      <td>21:30</td>\n      <td>23:10</td>\n      <td>22:47</td>\n      <td>00:12</td>\n      <td>Lufthansa</td>\n      <td>0</td>\n      <td>2</td>\n      <td>Evening</td>\n      <td>True</td>\n    </tr>\n    <tr>\n      <th>337</th>\n      <td>LH922</td>\n      <td>2019-07-28</td>\n      <td>A21N</td>\n      <td>D-AIEB</td>\n      <td>Frankfurt</td>\n      <td>FRA</td>\n      <td>London</td>\n      <td>LHR</td>\n      <td>1:03</td>\n      <td>21:30</td>\n      <td>23:10</td>\n      <td>22:57</td>\n      <td>00:01</td>\n      <td>Lufthansa</td>\n      <td>0</td>\n      <td>51</td>\n      <td>Evening</td>\n      <td>True</td>\n    </tr>\n    <tr>\n      <th>...</th>\n      <td>...</td>\n      <td>...</td>\n      <td>...</td>\n      <td>...</td>\n      <td>...</td>\n      <td>...</td>\n      <td>...</td>\n      <td>...</td>\n      <td>...</td>\n      <td>...</td>\n      <td>...</td>\n      <td>...</td>\n      <td>...</td>\n      <td>...</td>\n      <td>...</td>\n      <td>...</td>\n      <td>...</td>\n      <td>...</td>\n    </tr>\n    <tr>\n      <th>178250</th>\n      <td>SK554</td>\n      <td>2019-06-14</td>\n      <td>CRJ9</td>\n      <td>ES-ACM</td>\n      <td>Amsterdam</td>\n      <td>AMS</td>\n      <td>Copenhagen</td>\n      <td>CPH</td>\n      <td>0:56</td>\n      <td>21:45</td>\n      <td>23:05</td>\n      <td>23:07</td>\n      <td>00:03</td>\n      <td>SAS</td>\n      <td>0</td>\n      <td>-2</td>\n      <td>Night</td>\n      <td>True</td>\n    </tr>\n    <tr>\n      <th>178378</th>\n      <td>SK554</td>\n      <td>2018-12-21</td>\n      <td>A319</td>\n      <td>OY-KBP</td>\n      <td>Amsterdam</td>\n      <td>AMS</td>\n      <td>Copenhagen</td>\n      <td>CPH</td>\n      <td>0:59</td>\n      <td>21:45</td>\n      <td>23:05</td>\n      <td>23:10</td>\n      <td>00:09</td>\n      <td>SAS</td>\n      <td>0</td>\n      <td>-56</td>\n      <td>Night</td>\n      <td>True</td>\n    </tr>\n    <tr>\n      <th>179521</th>\n      <td>DY4252</td>\n      <td>2020-10-16</td>\n      <td>B738</td>\n      <td>SE-RPT</td>\n      <td>Barcelona</td>\n      <td>BCN</td>\n      <td>Stockholm</td>\n      <td>ARN</td>\n      <td>3:16</td>\n      <td>20:40</td>\n      <td>0:15</td>\n      <td>20:51</td>\n      <td>00:07</td>\n      <td>Norwegian</td>\n      <td>1</td>\n      <td>-8</td>\n      <td>Evening</td>\n      <td>True</td>\n    </tr>\n    <tr>\n      <th>179523</th>\n      <td>DY4252</td>\n      <td>2020-10-09</td>\n      <td>B738</td>\n      <td>SE-RPS</td>\n      <td>Barcelona</td>\n      <td>BCN</td>\n      <td>Stockholm</td>\n      <td>ARN</td>\n      <td>3:02</td>\n      <td>20:40</td>\n      <td>0:15</td>\n      <td>21:18</td>\n      <td>00:20</td>\n      <td>Norwegian</td>\n      <td>1</td>\n      <td>5</td>\n      <td>Evening</td>\n      <td>True</td>\n    </tr>\n    <tr>\n      <th>179525</th>\n      <td>DY4252</td>\n      <td>2020-10-02</td>\n      <td>B738</td>\n      <td>SE-RPR</td>\n      <td>Barcelona</td>\n      <td>BCN</td>\n      <td>Stockholm</td>\n      <td>ARN</td>\n      <td>2:57</td>\n      <td>20:40</td>\n      <td>0:15</td>\n      <td>21:41</td>\n      <td>00:37</td>\n      <td>Norwegian</td>\n      <td>1</td>\n      <td>22</td>\n      <td>Evening</td>\n      <td>True</td>\n    </tr>\n  </tbody>\n</table>\n<p>2204 rows × 18 columns</p>\n</div>"
     },
     "metadata": {},
     "execution_count": 62
    }
   ],
   "source": [
    "_df[[datetime.strptime(time, '%H:%M') < datetime.strptime('06:30', '%H:%M') for time in list(_df['ATA'])]]"
   ]
  },
  {
   "cell_type": "code",
   "execution_count": 59,
   "metadata": {},
   "outputs": [
    {
     "output_type": "execute_result",
     "data": {
      "text/plain": [
       "        Flight        Date Equipment_Type Equipment_Reg Origin_City  \\\n",
       "152      LH922  2020-02-23           A321        D-AISX   Frankfurt   \n",
       "253      LH922  2019-10-25           A21N        D-AIEC   Frankfurt   \n",
       "317      LH922  2019-08-18           A21N        D-AIEA   Frankfurt   \n",
       "326      LH922  2019-08-09           A21N        D-AIEA   Frankfurt   \n",
       "337      LH922  2019-07-28           A21N        D-AIEB   Frankfurt   \n",
       "...        ...         ...            ...           ...         ...   \n",
       "178250   SK554  2019-06-14           CRJ9        ES-ACM   Amsterdam   \n",
       "178378   SK554  2018-12-21           A319        OY-KBP   Amsterdam   \n",
       "179521  DY4252  2020-10-16           B738        SE-RPT   Barcelona   \n",
       "179523  DY4252  2020-10-09           B738        SE-RPS   Barcelona   \n",
       "179525  DY4252  2020-10-02           B738        SE-RPR   Barcelona   \n",
       "\n",
       "       Origin_Code Destination_City Destination_Code Flight Time    ETD  \\\n",
       "152            FRA           London              LHR        1:14  21:30   \n",
       "253            FRA           London              LHR        1:40  21:30   \n",
       "317            FRA           London              LHR        1:06  21:30   \n",
       "326            FRA           London              LHR        1:26  21:30   \n",
       "337            FRA           London              LHR        1:03  21:30   \n",
       "...            ...              ...              ...         ...    ...   \n",
       "178250         AMS       Copenhagen              CPH        0:56  21:45   \n",
       "178378         AMS       Copenhagen              CPH        0:59  21:45   \n",
       "179521         BCN        Stockholm              ARN        3:16  20:40   \n",
       "179523         BCN        Stockholm              ARN        3:02  20:40   \n",
       "179525         BCN        Stockholm              ARN        2:57  20:40   \n",
       "\n",
       "          ETA    ATD    ATA Carrier_Name  Carrier_Class  Timedelta ETD_Group  \\\n",
       "152     23:15  22:59  00:13    Lufthansa              0         58   Evening   \n",
       "253     23:10  22:20  00:00    Lufthansa              0         50   Evening   \n",
       "317     23:10  23:05  00:11    Lufthansa              0          1   Evening   \n",
       "326     23:10  22:47  00:12    Lufthansa              0          2   Evening   \n",
       "337     23:10  22:57  00:01    Lufthansa              0         51   Evening   \n",
       "...       ...    ...    ...          ...            ...        ...       ...   \n",
       "178250  23:05  23:07  00:03          SAS              0         -2     Night   \n",
       "178378  23:05  23:10  00:09          SAS              0        -56     Night   \n",
       "179521   0:15  20:51  00:07    Norwegian              1         -8   Evening   \n",
       "179523   0:15  21:18  00:20    Norwegian              1          5   Evening   \n",
       "179525   0:15  21:41  00:37    Norwegian              1         22   Evening   \n",
       "\n",
       "        black sheep  \n",
       "152            True  \n",
       "253            True  \n",
       "317            True  \n",
       "326            True  \n",
       "337            True  \n",
       "...             ...  \n",
       "178250         True  \n",
       "178378         True  \n",
       "179521         True  \n",
       "179523         True  \n",
       "179525         True  \n",
       "\n",
       "[2204 rows x 18 columns]"
      ],
      "text/html": "<div>\n<style scoped>\n    .dataframe tbody tr th:only-of-type {\n        vertical-align: middle;\n    }\n\n    .dataframe tbody tr th {\n        vertical-align: top;\n    }\n\n    .dataframe thead th {\n        text-align: right;\n    }\n</style>\n<table border=\"1\" class=\"dataframe\">\n  <thead>\n    <tr style=\"text-align: right;\">\n      <th></th>\n      <th>Flight</th>\n      <th>Date</th>\n      <th>Equipment_Type</th>\n      <th>Equipment_Reg</th>\n      <th>Origin_City</th>\n      <th>Origin_Code</th>\n      <th>Destination_City</th>\n      <th>Destination_Code</th>\n      <th>Flight Time</th>\n      <th>ETD</th>\n      <th>ETA</th>\n      <th>ATD</th>\n      <th>ATA</th>\n      <th>Carrier_Name</th>\n      <th>Carrier_Class</th>\n      <th>Timedelta</th>\n      <th>ETD_Group</th>\n      <th>black sheep</th>\n    </tr>\n  </thead>\n  <tbody>\n    <tr>\n      <th>152</th>\n      <td>LH922</td>\n      <td>2020-02-23</td>\n      <td>A321</td>\n      <td>D-AISX</td>\n      <td>Frankfurt</td>\n      <td>FRA</td>\n      <td>London</td>\n      <td>LHR</td>\n      <td>1:14</td>\n      <td>21:30</td>\n      <td>23:15</td>\n      <td>22:59</td>\n      <td>00:13</td>\n      <td>Lufthansa</td>\n      <td>0</td>\n      <td>58</td>\n      <td>Evening</td>\n      <td>True</td>\n    </tr>\n    <tr>\n      <th>253</th>\n      <td>LH922</td>\n      <td>2019-10-25</td>\n      <td>A21N</td>\n      <td>D-AIEC</td>\n      <td>Frankfurt</td>\n      <td>FRA</td>\n      <td>London</td>\n      <td>LHR</td>\n      <td>1:40</td>\n      <td>21:30</td>\n      <td>23:10</td>\n      <td>22:20</td>\n      <td>00:00</td>\n      <td>Lufthansa</td>\n      <td>0</td>\n      <td>50</td>\n      <td>Evening</td>\n      <td>True</td>\n    </tr>\n    <tr>\n      <th>317</th>\n      <td>LH922</td>\n      <td>2019-08-18</td>\n      <td>A21N</td>\n      <td>D-AIEA</td>\n      <td>Frankfurt</td>\n      <td>FRA</td>\n      <td>London</td>\n      <td>LHR</td>\n      <td>1:06</td>\n      <td>21:30</td>\n      <td>23:10</td>\n      <td>23:05</td>\n      <td>00:11</td>\n      <td>Lufthansa</td>\n      <td>0</td>\n      <td>1</td>\n      <td>Evening</td>\n      <td>True</td>\n    </tr>\n    <tr>\n      <th>326</th>\n      <td>LH922</td>\n      <td>2019-08-09</td>\n      <td>A21N</td>\n      <td>D-AIEA</td>\n      <td>Frankfurt</td>\n      <td>FRA</td>\n      <td>London</td>\n      <td>LHR</td>\n      <td>1:26</td>\n      <td>21:30</td>\n      <td>23:10</td>\n      <td>22:47</td>\n      <td>00:12</td>\n      <td>Lufthansa</td>\n      <td>0</td>\n      <td>2</td>\n      <td>Evening</td>\n      <td>True</td>\n    </tr>\n    <tr>\n      <th>337</th>\n      <td>LH922</td>\n      <td>2019-07-28</td>\n      <td>A21N</td>\n      <td>D-AIEB</td>\n      <td>Frankfurt</td>\n      <td>FRA</td>\n      <td>London</td>\n      <td>LHR</td>\n      <td>1:03</td>\n      <td>21:30</td>\n      <td>23:10</td>\n      <td>22:57</td>\n      <td>00:01</td>\n      <td>Lufthansa</td>\n      <td>0</td>\n      <td>51</td>\n      <td>Evening</td>\n      <td>True</td>\n    </tr>\n    <tr>\n      <th>...</th>\n      <td>...</td>\n      <td>...</td>\n      <td>...</td>\n      <td>...</td>\n      <td>...</td>\n      <td>...</td>\n      <td>...</td>\n      <td>...</td>\n      <td>...</td>\n      <td>...</td>\n      <td>...</td>\n      <td>...</td>\n      <td>...</td>\n      <td>...</td>\n      <td>...</td>\n      <td>...</td>\n      <td>...</td>\n      <td>...</td>\n    </tr>\n    <tr>\n      <th>178250</th>\n      <td>SK554</td>\n      <td>2019-06-14</td>\n      <td>CRJ9</td>\n      <td>ES-ACM</td>\n      <td>Amsterdam</td>\n      <td>AMS</td>\n      <td>Copenhagen</td>\n      <td>CPH</td>\n      <td>0:56</td>\n      <td>21:45</td>\n      <td>23:05</td>\n      <td>23:07</td>\n      <td>00:03</td>\n      <td>SAS</td>\n      <td>0</td>\n      <td>-2</td>\n      <td>Night</td>\n      <td>True</td>\n    </tr>\n    <tr>\n      <th>178378</th>\n      <td>SK554</td>\n      <td>2018-12-21</td>\n      <td>A319</td>\n      <td>OY-KBP</td>\n      <td>Amsterdam</td>\n      <td>AMS</td>\n      <td>Copenhagen</td>\n      <td>CPH</td>\n      <td>0:59</td>\n      <td>21:45</td>\n      <td>23:05</td>\n      <td>23:10</td>\n      <td>00:09</td>\n      <td>SAS</td>\n      <td>0</td>\n      <td>-56</td>\n      <td>Night</td>\n      <td>True</td>\n    </tr>\n    <tr>\n      <th>179521</th>\n      <td>DY4252</td>\n      <td>2020-10-16</td>\n      <td>B738</td>\n      <td>SE-RPT</td>\n      <td>Barcelona</td>\n      <td>BCN</td>\n      <td>Stockholm</td>\n      <td>ARN</td>\n      <td>3:16</td>\n      <td>20:40</td>\n      <td>0:15</td>\n      <td>20:51</td>\n      <td>00:07</td>\n      <td>Norwegian</td>\n      <td>1</td>\n      <td>-8</td>\n      <td>Evening</td>\n      <td>True</td>\n    </tr>\n    <tr>\n      <th>179523</th>\n      <td>DY4252</td>\n      <td>2020-10-09</td>\n      <td>B738</td>\n      <td>SE-RPS</td>\n      <td>Barcelona</td>\n      <td>BCN</td>\n      <td>Stockholm</td>\n      <td>ARN</td>\n      <td>3:02</td>\n      <td>20:40</td>\n      <td>0:15</td>\n      <td>21:18</td>\n      <td>00:20</td>\n      <td>Norwegian</td>\n      <td>1</td>\n      <td>5</td>\n      <td>Evening</td>\n      <td>True</td>\n    </tr>\n    <tr>\n      <th>179525</th>\n      <td>DY4252</td>\n      <td>2020-10-02</td>\n      <td>B738</td>\n      <td>SE-RPR</td>\n      <td>Barcelona</td>\n      <td>BCN</td>\n      <td>Stockholm</td>\n      <td>ARN</td>\n      <td>2:57</td>\n      <td>20:40</td>\n      <td>0:15</td>\n      <td>21:41</td>\n      <td>00:37</td>\n      <td>Norwegian</td>\n      <td>1</td>\n      <td>22</td>\n      <td>Evening</td>\n      <td>True</td>\n    </tr>\n  </tbody>\n</table>\n<p>2204 rows × 18 columns</p>\n</div>"
     },
     "metadata": {},
     "execution_count": 59
    }
   ],
   "source": [
    "_df[_df['black sheep'] == True]"
   ]
  },
  {
   "cell_type": "code",
   "execution_count": null,
   "metadata": {},
   "outputs": [],
   "source": []
  }
 ]
}