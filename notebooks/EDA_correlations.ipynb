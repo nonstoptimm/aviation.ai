{
 "cells": [
  {
   "cell_type": "code",
   "execution_count": 11,
   "metadata": {},
   "outputs": [],
   "source": [
    "import pandas as pd\n",
    "from matplotlib import pyplot as plt\n",
    "from datetime import timedelta, datetime\n",
    "import numpy as np"
   ]
  },
  {
   "cell_type": "code",
   "execution_count": 4,
   "metadata": {},
   "outputs": [],
   "source": [
    "%matplotlib inline"
   ]
  },
  {
   "cell_type": "code",
   "execution_count": 2,
   "metadata": {},
   "outputs": [],
   "source": [
    "data = pd.read_csv(\"../assets/data_prep_majority.txt\", sep=\"\\t\")"
   ]
  },
  {
   "cell_type": "code",
   "execution_count": 46,
   "metadata": {},
   "outputs": [
    {
     "data": {
      "text/html": [
       "<div>\n",
       "<style scoped>\n",
       "    .dataframe tbody tr th:only-of-type {\n",
       "        vertical-align: middle;\n",
       "    }\n",
       "\n",
       "    .dataframe tbody tr th {\n",
       "        vertical-align: top;\n",
       "    }\n",
       "\n",
       "    .dataframe thead th {\n",
       "        text-align: right;\n",
       "    }\n",
       "</style>\n",
       "<table border=\"1\" class=\"dataframe\">\n",
       "  <thead>\n",
       "    <tr style=\"text-align: right;\">\n",
       "      <th></th>\n",
       "      <th>Flight</th>\n",
       "      <th>Date</th>\n",
       "      <th>Equipment_Type</th>\n",
       "      <th>Equipment_Reg</th>\n",
       "      <th>Origin_City</th>\n",
       "      <th>Origin_Code</th>\n",
       "      <th>Destination_City</th>\n",
       "      <th>Destination_Code</th>\n",
       "      <th>Flight Time</th>\n",
       "      <th>ETD</th>\n",
       "      <th>ETA</th>\n",
       "      <th>ATD</th>\n",
       "      <th>ATA</th>\n",
       "      <th>Carrier_Name</th>\n",
       "      <th>Carrier_Class</th>\n",
       "      <th>Timedelta</th>\n",
       "      <th>ETD_Group</th>\n",
       "    </tr>\n",
       "  </thead>\n",
       "  <tbody>\n",
       "    <tr>\n",
       "      <th>158491</th>\n",
       "      <td>VY8721</td>\n",
       "      <td>2017-10-27</td>\n",
       "      <td>A321</td>\n",
       "      <td>EC-MOO</td>\n",
       "      <td>Dublin</td>\n",
       "      <td>DUB</td>\n",
       "      <td>Barcelona</td>\n",
       "      <td>BCN</td>\n",
       "      <td>1:54</td>\n",
       "      <td>15:10</td>\n",
       "      <td>18:45</td>\n",
       "      <td>15:51</td>\n",
       "      <td>18:45</td>\n",
       "      <td>Vueling</td>\n",
       "      <td>1</td>\n",
       "      <td>0</td>\n",
       "      <td>Afternoon</td>\n",
       "    </tr>\n",
       "    <tr>\n",
       "      <th>158492</th>\n",
       "      <td>VY8721</td>\n",
       "      <td>2017-10-26</td>\n",
       "      <td>A320</td>\n",
       "      <td>EC-LAB</td>\n",
       "      <td>Dublin</td>\n",
       "      <td>DUB</td>\n",
       "      <td>Barcelona</td>\n",
       "      <td>BCN</td>\n",
       "      <td>1:57</td>\n",
       "      <td>15:25</td>\n",
       "      <td>19:00</td>\n",
       "      <td>15:57</td>\n",
       "      <td>18:54</td>\n",
       "      <td>Vueling</td>\n",
       "      <td>1</td>\n",
       "      <td>-6</td>\n",
       "      <td>Afternoon</td>\n",
       "    </tr>\n",
       "    <tr>\n",
       "      <th>158493</th>\n",
       "      <td>VY8721</td>\n",
       "      <td>2017-10-25</td>\n",
       "      <td>A320</td>\n",
       "      <td>EC-HQJ</td>\n",
       "      <td>Dublin</td>\n",
       "      <td>DUB</td>\n",
       "      <td>Barcelona</td>\n",
       "      <td>BCN</td>\n",
       "      <td>2:00</td>\n",
       "      <td>15:05</td>\n",
       "      <td>18:40</td>\n",
       "      <td>15:20</td>\n",
       "      <td>18:21</td>\n",
       "      <td>Vueling</td>\n",
       "      <td>1</td>\n",
       "      <td>-19</td>\n",
       "      <td>Afternoon</td>\n",
       "    </tr>\n",
       "    <tr>\n",
       "      <th>158494</th>\n",
       "      <td>VY8721</td>\n",
       "      <td>2017-10-24</td>\n",
       "      <td>A320</td>\n",
       "      <td>EC-MEA</td>\n",
       "      <td>Dublin</td>\n",
       "      <td>DUB</td>\n",
       "      <td>Barcelona</td>\n",
       "      <td>BCN</td>\n",
       "      <td>1:55</td>\n",
       "      <td>15:05</td>\n",
       "      <td>18:40</td>\n",
       "      <td>15:26</td>\n",
       "      <td>18:21</td>\n",
       "      <td>Vueling</td>\n",
       "      <td>1</td>\n",
       "      <td>-19</td>\n",
       "      <td>Afternoon</td>\n",
       "    </tr>\n",
       "    <tr>\n",
       "      <th>158495</th>\n",
       "      <td>VY8721</td>\n",
       "      <td>2017-10-23</td>\n",
       "      <td>A320</td>\n",
       "      <td>EC-LVV</td>\n",
       "      <td>Dublin</td>\n",
       "      <td>DUB</td>\n",
       "      <td>Barcelona</td>\n",
       "      <td>BCN</td>\n",
       "      <td>1:52</td>\n",
       "      <td>15:05</td>\n",
       "      <td>18:40</td>\n",
       "      <td>15:34</td>\n",
       "      <td>18:26</td>\n",
       "      <td>Vueling</td>\n",
       "      <td>1</td>\n",
       "      <td>-14</td>\n",
       "      <td>Afternoon</td>\n",
       "    </tr>\n",
       "  </tbody>\n",
       "</table>\n",
       "</div>"
      ],
      "text/plain": [
       "        Flight        Date Equipment_Type Equipment_Reg Origin_City  \\\n",
       "158491  VY8721  2017-10-27           A321        EC-MOO      Dublin   \n",
       "158492  VY8721  2017-10-26           A320        EC-LAB      Dublin   \n",
       "158493  VY8721  2017-10-25           A320        EC-HQJ      Dublin   \n",
       "158494  VY8721  2017-10-24           A320        EC-MEA      Dublin   \n",
       "158495  VY8721  2017-10-23           A320        EC-LVV      Dublin   \n",
       "\n",
       "       Origin_Code Destination_City Destination_Code Flight Time    ETD  \\\n",
       "158491         DUB        Barcelona              BCN        1:54  15:10   \n",
       "158492         DUB        Barcelona              BCN        1:57  15:25   \n",
       "158493         DUB        Barcelona              BCN        2:00  15:05   \n",
       "158494         DUB        Barcelona              BCN        1:55  15:05   \n",
       "158495         DUB        Barcelona              BCN        1:52  15:05   \n",
       "\n",
       "          ETA    ATD    ATA Carrier_Name  Carrier_Class  Timedelta  ETD_Group  \n",
       "158491  18:45  15:51  18:45      Vueling              1          0  Afternoon  \n",
       "158492  19:00  15:57  18:54      Vueling              1         -6  Afternoon  \n",
       "158493  18:40  15:20  18:21      Vueling              1        -19  Afternoon  \n",
       "158494  18:40  15:26  18:21      Vueling              1        -19  Afternoon  \n",
       "158495  18:40  15:34  18:26      Vueling              1        -14  Afternoon  "
      ]
     },
     "execution_count": 46,
     "metadata": {},
     "output_type": "execute_result"
    }
   ],
   "source": [
    "data.tail()"
   ]
  },
  {
   "cell_type": "code",
   "execution_count": 7,
   "metadata": {},
   "outputs": [
    {
     "data": {
      "text/plain": [
       "231"
      ]
     },
     "execution_count": 7,
     "metadata": {},
     "output_type": "execute_result"
    }
   ],
   "source": [
    "len(data.Flight.unique())"
   ]
  },
  {
   "cell_type": "code",
   "execution_count": 8,
   "metadata": {},
   "outputs": [
    {
     "data": {
      "text/plain": [
       "43"
      ]
     },
     "execution_count": 8,
     "metadata": {},
     "output_type": "execute_result"
    }
   ],
   "source": [
    "len(data.Equipment_Type.unique())"
   ]
  },
  {
   "cell_type": "code",
   "execution_count": 9,
   "metadata": {},
   "outputs": [
    {
     "data": {
      "text/plain": [
       "21"
      ]
     },
     "execution_count": 9,
     "metadata": {},
     "output_type": "execute_result"
    }
   ],
   "source": [
    "len(data.Origin_City.unique())"
   ]
  },
  {
   "cell_type": "code",
   "execution_count": 10,
   "metadata": {},
   "outputs": [
    {
     "data": {
      "text/plain": [
       "12"
      ]
     },
     "execution_count": 10,
     "metadata": {},
     "output_type": "execute_result"
    }
   ],
   "source": [
    "len(data.Destination_City.unique())"
   ]
  },
  {
   "cell_type": "code",
   "execution_count": 11,
   "metadata": {},
   "outputs": [
    {
     "data": {
      "text/plain": [
       "13"
      ]
     },
     "execution_count": 11,
     "metadata": {},
     "output_type": "execute_result"
    }
   ],
   "source": [
    "len(data.Carrier_Name.unique())"
   ]
  },
  {
   "cell_type": "code",
   "execution_count": 12,
   "metadata": {},
   "outputs": [
    {
     "data": {
      "text/plain": [
       "2"
      ]
     },
     "execution_count": 12,
     "metadata": {},
     "output_type": "execute_result"
    }
   ],
   "source": [
    "len(data.Carrier_Class.unique())"
   ]
  },
  {
   "cell_type": "code",
   "execution_count": 48,
   "metadata": {},
   "outputs": [
    {
     "data": {
      "text/plain": [
       "59"
      ]
     },
     "execution_count": 48,
     "metadata": {},
     "output_type": "execute_result"
    }
   ],
   "source": [
    "max(data.Timedelta)"
   ]
  },
  {
   "cell_type": "code",
   "execution_count": null,
   "metadata": {},
   "outputs": [],
   "source": []
  },
  {
   "cell_type": "code",
   "execution_count": 28,
   "metadata": {},
   "outputs": [],
   "source": [
    "tdelta = data.ATA.apply(lambda x: datetime.strptime(x, '%H:%M')) - \\\n",
    "     data.ETD.apply(lambda x: datetime.strptime(x, '%H:%M'))"
   ]
  },
  {
   "cell_type": "code",
   "execution_count": 45,
   "metadata": {},
   "outputs": [
    {
     "data": {
      "text/plain": [
       "(1982, 158496)"
      ]
     },
     "execution_count": 45,
     "metadata": {},
     "output_type": "execute_result"
    }
   ],
   "source": [
    "## 2k flights arrived before they started...\n",
    "sum(tdelta.dt.days == -1), len(tdelta.dt.days)"
   ]
  },
  {
   "cell_type": "code",
   "execution_count": null,
   "metadata": {},
   "outputs": [],
   "source": []
  },
  {
   "cell_type": "code",
   "execution_count": 6,
   "metadata": {},
   "outputs": [
    {
     "data": {
      "text/plain": [
       "(13, 24)"
      ]
     },
     "execution_count": 6,
     "metadata": {},
     "output_type": "execute_result"
    }
   ],
   "source": [
    "x = data.Carrier_Name.unique()\n",
    "y = data.Origin_Code.unique()\n",
    "len(x), len(y)"
   ]
  },
  {
   "cell_type": "code",
   "execution_count": 7,
   "metadata": {},
   "outputs": [],
   "source": [
    "values = data.groupby([\"Carrier_Name\", \"Origin_Code\"]).mean().Timedelta"
   ]
  },
  {
   "cell_type": "code",
   "execution_count": 8,
   "metadata": {},
   "outputs": [
    {
     "data": {
      "text/plain": [
       "Carrier_Name  Origin_Code\n",
       "Aer Lingus    DUB            -8.416210\n",
       "              LHR            -6.376005\n",
       "              SNN             3.000000\n",
       "Air Europa    AMS            -1.992239\n",
       "              BCN           -14.531915\n",
       "                               ...    \n",
       "Vueling       AMS             5.934641\n",
       "              BCN            -2.545006\n",
       "              CPH             1.925255\n",
       "              DUB            11.040639\n",
       "              MAD           -17.662069\n",
       "Name: Timedelta, Length: 90, dtype: float64"
      ]
     },
     "execution_count": 8,
     "metadata": {},
     "output_type": "execute_result"
    }
   ],
   "source": [
    "values"
   ]
  },
  {
   "cell_type": "code",
   "execution_count": 9,
   "metadata": {},
   "outputs": [
    {
     "data": {
      "text/plain": [
       "-8.416209866875489"
      ]
     },
     "execution_count": 9,
     "metadata": {},
     "output_type": "execute_result"
    }
   ],
   "source": [
    "values[\"Aer Lingus\", \"DUB\"]"
   ]
  },
  {
   "cell_type": "code",
   "execution_count": 10,
   "metadata": {},
   "outputs": [
    {
     "data": {
      "text/plain": [
       "90"
      ]
     },
     "execution_count": 10,
     "metadata": {},
     "output_type": "execute_result"
    }
   ],
   "source": [
    "len(values)"
   ]
  },
  {
   "cell_type": "code",
   "execution_count": 34,
   "metadata": {},
   "outputs": [],
   "source": [
    "heatmap = np.zeros((len(y), len(x)))"
   ]
  },
  {
   "cell_type": "code",
   "execution_count": 38,
   "metadata": {},
   "outputs": [],
   "source": [
    "for i_1, val_1 in enumerate(y):\n",
    "    for i_2, val_2 in enumerate(x):\n",
    "        try:\n",
    "            heatmap[i_1, i_2] = values[val_2, val_1]\n",
    "            # print(values[val_1, val_2])\n",
    "        except KeyError:\n",
    "            # print(0)\n",
    "            heatmap[i_1, i_2] = 0 "
   ]
  },
  {
   "cell_type": "code",
   "execution_count": 45,
   "metadata": {},
   "outputs": [
    {
     "data": {
      "image/png": "[encoded data removed]",
      "text/plain": [
       "<Figure size 1080x1080 with 1 Axes>"
      ]
     },
     "metadata": {
      "needs_background": "light"
     },
     "output_type": "display_data"
    }
   ],
   "source": [
    "# from https://matplotlib.org/gallery/images_contours_and_fields/image_annotated_heatmap.html\n",
    "\n",
    "fig, ax = plt.subplots(figsize=(15,15))\n",
    "im = ax.imshow(heatmap)\n",
    "\n",
    "# We want to show all ticks...\n",
    "ax.set_xticks(np.arange(len(x)))\n",
    "ax.set_yticks(np.arange(len(y)))\n",
    "# ... and label them with the respective list entries\n",
    "ax.set_xticklabels(x)\n",
    "ax.set_yticklabels(y)\n",
    "\n",
    "# Rotate the tick labels and set their alignment.\n",
    "plt.setp(ax.get_xticklabels(), rotation=45, ha=\"right\",\n",
    "         rotation_mode=\"anchor\")\n",
    "\n",
    "# Loop over data dimensions and create text annotations.\n",
    "for i in range(len(y)):\n",
    "    for j in range(len(x)):\n",
    "        text = ax.text(j, i, int(heatmap[i, j]),\n",
    "                       ha=\"center\", va=\"center\", color=\"w\")\n",
    "\n",
    "#fig.tight_layout()\n",
    "plt.show()\n"
   ]
  },
  {
   "cell_type": "code",
   "execution_count": null,
   "metadata": {},
   "outputs": [],
   "source": []
  },
  {
   "cell_type": "code",
   "execution_count": null,
   "metadata": {},
   "outputs": [],
   "source": []
  },
  {
   "cell_type": "code",
   "execution_count": null,
   "metadata": {},
   "outputs": [],
   "source": []
  }
 ],
 "metadata": {
  "kernelspec": {
   "display_name": "env",
   "language": "python",
   "name": "env"
  },
  "language_info": {
   "codemirror_mode": {
    "name": "ipython",
    "version": 3
   },
   "file_extension": ".py",
   "mimetype": "text/x-python",
   "name": "python",
   "nbconvert_exporter": "python",
   "pygments_lexer": "ipython3",
   "version": "3.7.3"
  }
 },
 "nbformat": 4,
 "nbformat_minor": 2
}
