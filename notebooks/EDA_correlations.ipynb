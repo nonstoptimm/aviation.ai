{
 "cells": [
  {
   "cell_type": "code",
   "execution_count": 11,
   "metadata": {},
   "outputs": [],
   "source": [
    "import pandas as pd\n",
    "from matplotlib import pyplot as plt\n",
    "from datetime import timedelta, datetime\n",
    "import numpy as np"
   ]
  },
  {
   "cell_type": "code",
   "execution_count": 4,
   "metadata": {},
   "outputs": [],
   "source": [
    "%matplotlib inline"
   ]
  },
  {
   "cell_type": "code",
   "execution_count": 2,
   "metadata": {},
   "outputs": [],
   "source": [
    "data = pd.read_csv(\"../assets/data_prep_majority.txt\", sep=\"\\t\")"
   ]
  },
  {
   "cell_type": "code",
   "execution_count": 47,
   "metadata": {},
   "outputs": [
    {
     "data": {
      "text/html": [
       "<div>\n",
       "<style scoped>\n",
       "    .dataframe tbody tr th:only-of-type {\n",
       "        vertical-align: middle;\n",
       "    }\n",
       "\n",
       "    .dataframe tbody tr th {\n",
       "        vertical-align: top;\n",
       "    }\n",
       "\n",
       "    .dataframe thead th {\n",
       "        text-align: right;\n",
       "    }\n",
       "</style>\n",
       "<table border=\"1\" class=\"dataframe\">\n",
       "  <thead>\n",
       "    <tr style=\"text-align: right;\">\n",
       "      <th></th>\n",
       "      <th>Flight</th>\n",
       "      <th>Date</th>\n",
       "      <th>Equipment_Type</th>\n",
       "      <th>Equipment_Reg</th>\n",
       "      <th>Origin_City</th>\n",
       "      <th>Origin_Code</th>\n",
       "      <th>Destination_City</th>\n",
       "      <th>Destination_Code</th>\n",
       "      <th>Flight Time</th>\n",
       "      <th>ETD</th>\n",
       "      <th>ETA</th>\n",
       "      <th>ATD</th>\n",
       "      <th>ATA</th>\n",
       "      <th>Carrier_Name</th>\n",
       "      <th>Carrier_Class</th>\n",
       "      <th>Timedelta</th>\n",
       "      <th>ETD_Group</th>\n",
       "    </tr>\n",
       "  </thead>\n",
       "  <tbody>\n",
       "    <tr>\n",
       "      <th>0</th>\n",
       "      <td>BA423</td>\n",
       "      <td>2020-10-20</td>\n",
       "      <td>A320</td>\n",
       "      <td>G-EUUS</td>\n",
       "      <td>Amsterdam</td>\n",
       "      <td>AMS</td>\n",
       "      <td>London</td>\n",
       "      <td>LHR</td>\n",
       "      <td>0:45</td>\n",
       "      <td>7:45</td>\n",
       "      <td>8:05</td>\n",
       "      <td>7:48</td>\n",
       "      <td>07:33</td>\n",
       "      <td>British Airways</td>\n",
       "      <td>0</td>\n",
       "      <td>-32</td>\n",
       "      <td>Morning</td>\n",
       "    </tr>\n",
       "    <tr>\n",
       "      <th>1</th>\n",
       "      <td>BA423</td>\n",
       "      <td>2020-10-19</td>\n",
       "      <td>A320</td>\n",
       "      <td>G-EUUJ</td>\n",
       "      <td>Amsterdam</td>\n",
       "      <td>AMS</td>\n",
       "      <td>London</td>\n",
       "      <td>LHR</td>\n",
       "      <td>0:38</td>\n",
       "      <td>7:55</td>\n",
       "      <td>8:15</td>\n",
       "      <td>7:59</td>\n",
       "      <td>07:37</td>\n",
       "      <td>British Airways</td>\n",
       "      <td>0</td>\n",
       "      <td>-38</td>\n",
       "      <td>Morning</td>\n",
       "    </tr>\n",
       "    <tr>\n",
       "      <th>2</th>\n",
       "      <td>BA423</td>\n",
       "      <td>2020-10-18</td>\n",
       "      <td>A320</td>\n",
       "      <td>G-EUUD</td>\n",
       "      <td>Amsterdam</td>\n",
       "      <td>AMS</td>\n",
       "      <td>London</td>\n",
       "      <td>LHR</td>\n",
       "      <td>0:58</td>\n",
       "      <td>8:00</td>\n",
       "      <td>8:20</td>\n",
       "      <td>7:58</td>\n",
       "      <td>07:56</td>\n",
       "      <td>British Airways</td>\n",
       "      <td>0</td>\n",
       "      <td>-24</td>\n",
       "      <td>Morning</td>\n",
       "    </tr>\n",
       "    <tr>\n",
       "      <th>3</th>\n",
       "      <td>BA423</td>\n",
       "      <td>2020-10-17</td>\n",
       "      <td>A320</td>\n",
       "      <td>G-EUYF</td>\n",
       "      <td>Amsterdam</td>\n",
       "      <td>AMS</td>\n",
       "      <td>London</td>\n",
       "      <td>LHR</td>\n",
       "      <td>0:45</td>\n",
       "      <td>7:55</td>\n",
       "      <td>8:15</td>\n",
       "      <td>8:08</td>\n",
       "      <td>07:53</td>\n",
       "      <td>British Airways</td>\n",
       "      <td>0</td>\n",
       "      <td>-22</td>\n",
       "      <td>Morning</td>\n",
       "    </tr>\n",
       "    <tr>\n",
       "      <th>4</th>\n",
       "      <td>BA423</td>\n",
       "      <td>2020-10-16</td>\n",
       "      <td>A320</td>\n",
       "      <td>G-EUUI</td>\n",
       "      <td>Amsterdam</td>\n",
       "      <td>AMS</td>\n",
       "      <td>London</td>\n",
       "      <td>LHR</td>\n",
       "      <td>0:45</td>\n",
       "      <td>7:45</td>\n",
       "      <td>8:05</td>\n",
       "      <td>7:52</td>\n",
       "      <td>07:38</td>\n",
       "      <td>British Airways</td>\n",
       "      <td>0</td>\n",
       "      <td>-27</td>\n",
       "      <td>Morning</td>\n",
       "    </tr>\n",
       "  </tbody>\n",
       "</table>\n",
       "</div>"
      ],
      "text/plain": [
       "  Flight        Date Equipment_Type Equipment_Reg Origin_City Origin_Code  \\\n",
       "0  BA423  2020-10-20           A320        G-EUUS   Amsterdam         AMS   \n",
       "1  BA423  2020-10-19           A320        G-EUUJ   Amsterdam         AMS   \n",
       "2  BA423  2020-10-18           A320        G-EUUD   Amsterdam         AMS   \n",
       "3  BA423  2020-10-17           A320        G-EUYF   Amsterdam         AMS   \n",
       "4  BA423  2020-10-16           A320        G-EUUI   Amsterdam         AMS   \n",
       "\n",
       "  Destination_City Destination_Code Flight Time   ETD   ETA   ATD    ATA  \\\n",
       "0           London              LHR        0:45  7:45  8:05  7:48  07:33   \n",
       "1           London              LHR        0:38  7:55  8:15  7:59  07:37   \n",
       "2           London              LHR        0:58  8:00  8:20  7:58  07:56   \n",
       "3           London              LHR        0:45  7:55  8:15  8:08  07:53   \n",
       "4           London              LHR        0:45  7:45  8:05  7:52  07:38   \n",
       "\n",
       "      Carrier_Name  Carrier_Class  Timedelta ETD_Group  \n",
       "0  British Airways              0        -32   Morning  \n",
       "1  British Airways              0        -38   Morning  \n",
       "2  British Airways              0        -24   Morning  \n",
       "3  British Airways              0        -22   Morning  \n",
       "4  British Airways              0        -27   Morning  "
      ]
     },
     "execution_count": 47,
     "metadata": {},
     "output_type": "execute_result"
    }
   ],
   "source": [
    "data.head()"
   ]
  },
  {
   "cell_type": "code",
   "execution_count": 48,
   "metadata": {},
   "outputs": [
    {
     "data": {
      "text/plain": [
       "158496"
      ]
     },
     "execution_count": 48,
     "metadata": {},
     "output_type": "execute_result"
    }
   ],
   "source": [
    "len(data)"
   ]
  },
  {
   "cell_type": "code",
   "execution_count": 50,
   "metadata": {},
   "outputs": [
    {
     "data": {
      "text/plain": [
       "('2020-10-23', '2017-10-22')"
      ]
     },
     "execution_count": 50,
     "metadata": {},
     "output_type": "execute_result"
    }
   ],
   "source": [
    "max(data.Date), min(data.Date)"
   ]
  },
  {
   "cell_type": "code",
   "execution_count": 7,
   "metadata": {},
   "outputs": [
    {
     "data": {
      "text/plain": [
       "231"
      ]
     },
     "execution_count": 7,
     "metadata": {},
     "output_type": "execute_result"
    }
   ],
   "source": [
    "len(data.Flight.unique())"
   ]
  },
  {
   "cell_type": "code",
   "execution_count": 8,
   "metadata": {},
   "outputs": [
    {
     "data": {
      "text/plain": [
       "43"
      ]
     },
     "execution_count": 8,
     "metadata": {},
     "output_type": "execute_result"
    }
   ],
   "source": [
    "len(data.Equipment_Type.unique())"
   ]
  },
  {
   "cell_type": "code",
   "execution_count": 9,
   "metadata": {},
   "outputs": [
    {
     "data": {
      "text/plain": [
       "21"
      ]
     },
     "execution_count": 9,
     "metadata": {},
     "output_type": "execute_result"
    }
   ],
   "source": [
    "len(data.Origin_City.unique())"
   ]
  },
  {
   "cell_type": "code",
   "execution_count": 10,
   "metadata": {},
   "outputs": [
    {
     "data": {
      "text/plain": [
       "12"
      ]
     },
     "execution_count": 10,
     "metadata": {},
     "output_type": "execute_result"
    }
   ],
   "source": [
    "len(data.Destination_City.unique())"
   ]
  },
  {
   "cell_type": "code",
   "execution_count": 11,
   "metadata": {},
   "outputs": [
    {
     "data": {
      "text/plain": [
       "13"
      ]
     },
     "execution_count": 11,
     "metadata": {},
     "output_type": "execute_result"
    }
   ],
   "source": [
    "len(data.Carrier_Name.unique())"
   ]
  },
  {
   "cell_type": "code",
   "execution_count": 12,
   "metadata": {},
   "outputs": [
    {
     "data": {
      "text/plain": [
       "2"
      ]
     },
     "execution_count": 12,
     "metadata": {},
     "output_type": "execute_result"
    }
   ],
   "source": [
    "len(data.Carrier_Class.unique())"
   ]
  },
  {
   "cell_type": "code",
   "execution_count": 48,
   "metadata": {},
   "outputs": [
    {
     "data": {
      "text/plain": [
       "59"
      ]
     },
     "execution_count": 48,
     "metadata": {},
     "output_type": "execute_result"
    }
   ],
   "source": [
    "max(data.Timedelta)"
   ]
  },
  {
   "cell_type": "code",
   "execution_count": null,
   "metadata": {},
   "outputs": [],
   "source": []
  },
  {
   "cell_type": "code",
   "execution_count": 28,
   "metadata": {},
   "outputs": [],
   "source": [
    "tdelta = data.ATA.apply(lambda x: datetime.strptime(x, '%H:%M')) - \\\n",
    "     data.ETD.apply(lambda x: datetime.strptime(x, '%H:%M'))"
   ]
  },
  {
   "cell_type": "code",
   "execution_count": 45,
   "metadata": {},
   "outputs": [
    {
     "data": {
      "text/plain": [
       "(1982, 158496)"
      ]
     },
     "execution_count": 45,
     "metadata": {},
     "output_type": "execute_result"
    }
   ],
   "source": [
    "## 2k flights arrived before they started...\n",
    "sum(tdelta.dt.days == -1), len(tdelta.dt.days)"
   ]
  },
  {
   "cell_type": "code",
   "execution_count": null,
   "metadata": {},
   "outputs": [],
   "source": []
  },
  {
   "cell_type": "code",
   "execution_count": 6,
   "metadata": {},
   "outputs": [
    {
     "data": {
      "text/plain": [
       "(13, 24)"
      ]
     },
     "execution_count": 6,
     "metadata": {},
     "output_type": "execute_result"
    }
   ],
   "source": [
    "x = data.Carrier_Name.unique()\n",
    "y = data.Origin_Code.unique()\n",
    "len(x), len(y)"
   ]
  },
  {
   "cell_type": "code",
   "execution_count": 7,
   "metadata": {},
   "outputs": [],
   "source": [
    "values = data.groupby([\"Carrier_Name\", \"Origin_Code\"]).mean().Timedelta"
   ]
  },
  {
   "cell_type": "code",
   "execution_count": 8,
   "metadata": {},
   "outputs": [
    {
     "data": {
      "text/plain": [
       "Carrier_Name  Origin_Code\n",
       "Aer Lingus    DUB            -8.416210\n",
       "              LHR            -6.376005\n",
       "              SNN             3.000000\n",
       "Air Europa    AMS            -1.992239\n",
       "              BCN           -14.531915\n",
       "                               ...    \n",
       "Vueling       AMS             5.934641\n",
       "              BCN            -2.545006\n",
       "              CPH             1.925255\n",
       "              DUB            11.040639\n",
       "              MAD           -17.662069\n",
       "Name: Timedelta, Length: 90, dtype: float64"
      ]
     },
     "execution_count": 8,
     "metadata": {},
     "output_type": "execute_result"
    }
   ],
   "source": [
    "values"
   ]
  },
  {
   "cell_type": "code",
   "execution_count": 9,
   "metadata": {},
   "outputs": [
    {
     "data": {
      "text/plain": [
       "-8.416209866875489"
      ]
     },
     "execution_count": 9,
     "metadata": {},
     "output_type": "execute_result"
    }
   ],
   "source": [
    "values[\"Aer Lingus\", \"DUB\"]"
   ]
  },
  {
   "cell_type": "code",
   "execution_count": 10,
   "metadata": {},
   "outputs": [
    {
     "data": {
      "text/plain": [
       "90"
      ]
     },
     "execution_count": 10,
     "metadata": {},
     "output_type": "execute_result"
    }
   ],
   "source": [
    "len(values)"
   ]
  },
  {
   "cell_type": "code",
   "execution_count": 34,
   "metadata": {},
   "outputs": [],
   "source": [
    "heatmap = np.zeros((len(y), len(x)))"
   ]
  },
  {
   "cell_type": "code",
   "execution_count": 38,
   "metadata": {},
   "outputs": [],
   "source": [
    "for i_1, val_1 in enumerate(y):\n",
    "    for i_2, val_2 in enumerate(x):\n",
    "        try:\n",
    "            heatmap[i_1, i_2] = values[val_2, val_1]\n",
    "            # print(values[val_1, val_2])\n",
    "        except KeyError:\n",
    "            # print(0)\n",
    "            heatmap[i_1, i_2] = 0 "
   ]
  },
  {
   "cell_type": "code",
   "execution_count": 45,
   "metadata": {},
   "outputs": [
    {
     "data": {
      "image/png": "[encoded data removed]",
      "text/plain": [
       "<Figure size 1080x1080 with 1 Axes>"
      ]
     },
     "metadata": {
      "needs_background": "light"
     },
     "output_type": "display_data"
    }
   ],
   "source": [
    "# from https://matplotlib.org/gallery/images_contours_and_fields/image_annotated_heatmap.html\n",
    "\n",
    "fig, ax = plt.subplots(figsize=(15,15))\n",
    "im = ax.imshow(heatmap)\n",
    "\n",
    "# We want to show all ticks...\n",
    "ax.set_xticks(np.arange(len(x)))\n",
    "ax.set_yticks(np.arange(len(y)))\n",
    "# ... and label them with the respective list entries\n",
    "ax.set_xticklabels(x)\n",
    "ax.set_yticklabels(y)\n",
    "\n",
    "# Rotate the tick labels and set their alignment.\n",
    "plt.setp(ax.get_xticklabels(), rotation=45, ha=\"right\",\n",
    "         rotation_mode=\"anchor\")\n",
    "\n",
    "# Loop over data dimensions and create text annotations.\n",
    "for i in range(len(y)):\n",
    "    for j in range(len(x)):\n",
    "        text = ax.text(j, i, int(heatmap[i, j]),\n",
    "                       ha=\"center\", va=\"center\", color=\"w\")\n",
    "\n",
    "#fig.tight_layout()\n",
    "plt.show()\n"
   ]
  },
  {
   "cell_type": "code",
   "execution_count": null,
   "metadata": {},
   "outputs": [],
   "source": [
    "# how do real flight times deviate for destinations? (planes need to cirlce)"
   ]
  },
  {
   "cell_type": "code",
   "execution_count": 64,
   "metadata": {},
   "outputs": [],
   "source": [
    "data[\"Route\"] = data[\"Origin_Code\"] + \"-\" + data[\"Destination_Code\"]"
   ]
  },
  {
   "cell_type": "code",
   "execution_count": 67,
   "metadata": {},
   "outputs": [
    {
     "data": {
      "text/plain": [
       "92"
      ]
     },
     "execution_count": 67,
     "metadata": {},
     "output_type": "execute_result"
    }
   ],
   "source": [
    "# sorted(data.Route.unique())\n",
    "len(data.Route.unique())"
   ]
  },
  {
   "cell_type": "code",
   "execution_count": 75,
   "metadata": {},
   "outputs": [
    {
     "data": {
      "text/plain": [
       "['2', '36']"
      ]
     },
     "execution_count": 75,
     "metadata": {},
     "output_type": "execute_result"
    }
   ],
   "source": [
    "\"2:36\".split(\":\")"
   ]
  },
  {
   "cell_type": "code",
   "execution_count": 76,
   "metadata": {},
   "outputs": [],
   "source": [
    "def hours_to_int(hours):\n",
    "    if hours.startswith(\"0:\"):\n",
    "        return int(hours.split(\":\")[1])\n",
    "    else:\n",
    "        mins = int(hours.split(\":\")[1])\n",
    "        h = int(hours.split(\":\")[0])\n",
    "        return h*60 + mins"
   ]
  },
  {
   "cell_type": "code",
   "execution_count": 79,
   "metadata": {},
   "outputs": [
    {
     "data": {
      "text/plain": [
       "(43, 216)"
      ]
     },
     "execution_count": 79,
     "metadata": {},
     "output_type": "execute_result"
    }
   ],
   "source": [
    "hours_to_int(\"0:43\"), hours_to_int(\"3:36\")"
   ]
  },
  {
   "cell_type": "code",
   "execution_count": 81,
   "metadata": {},
   "outputs": [],
   "source": [
    "data[\"FlightTimeMin\"] = data[\"Flight Time\"].apply(hours_to_int)"
   ]
  },
  {
   "cell_type": "code",
   "execution_count": 85,
   "metadata": {},
   "outputs": [
    {
     "data": {
      "text/html": [
       "<div>\n",
       "<style scoped>\n",
       "    .dataframe tbody tr th:only-of-type {\n",
       "        vertical-align: middle;\n",
       "    }\n",
       "\n",
       "    .dataframe tbody tr th {\n",
       "        vertical-align: top;\n",
       "    }\n",
       "\n",
       "    .dataframe thead th {\n",
       "        text-align: right;\n",
       "    }\n",
       "</style>\n",
       "<table border=\"1\" class=\"dataframe\">\n",
       "  <thead>\n",
       "    <tr style=\"text-align: right;\">\n",
       "      <th></th>\n",
       "      <th>FlightTimeMin</th>\n",
       "      <th>Flight Time</th>\n",
       "    </tr>\n",
       "  </thead>\n",
       "  <tbody>\n",
       "    <tr>\n",
       "      <th>0</th>\n",
       "      <td>45</td>\n",
       "      <td>0:45</td>\n",
       "    </tr>\n",
       "    <tr>\n",
       "      <th>1</th>\n",
       "      <td>38</td>\n",
       "      <td>0:38</td>\n",
       "    </tr>\n",
       "    <tr>\n",
       "      <th>2</th>\n",
       "      <td>58</td>\n",
       "      <td>0:58</td>\n",
       "    </tr>\n",
       "    <tr>\n",
       "      <th>3</th>\n",
       "      <td>45</td>\n",
       "      <td>0:45</td>\n",
       "    </tr>\n",
       "    <tr>\n",
       "      <th>4</th>\n",
       "      <td>45</td>\n",
       "      <td>0:45</td>\n",
       "    </tr>\n",
       "    <tr>\n",
       "      <th>...</th>\n",
       "      <td>...</td>\n",
       "      <td>...</td>\n",
       "    </tr>\n",
       "    <tr>\n",
       "      <th>158491</th>\n",
       "      <td>114</td>\n",
       "      <td>1:54</td>\n",
       "    </tr>\n",
       "    <tr>\n",
       "      <th>158492</th>\n",
       "      <td>117</td>\n",
       "      <td>1:57</td>\n",
       "    </tr>\n",
       "    <tr>\n",
       "      <th>158493</th>\n",
       "      <td>120</td>\n",
       "      <td>2:00</td>\n",
       "    </tr>\n",
       "    <tr>\n",
       "      <th>158494</th>\n",
       "      <td>115</td>\n",
       "      <td>1:55</td>\n",
       "    </tr>\n",
       "    <tr>\n",
       "      <th>158495</th>\n",
       "      <td>112</td>\n",
       "      <td>1:52</td>\n",
       "    </tr>\n",
       "  </tbody>\n",
       "</table>\n",
       "<p>158496 rows × 2 columns</p>\n",
       "</div>"
      ],
      "text/plain": [
       "        FlightTimeMin Flight Time\n",
       "0                  45        0:45\n",
       "1                  38        0:38\n",
       "2                  58        0:58\n",
       "3                  45        0:45\n",
       "4                  45        0:45\n",
       "...               ...         ...\n",
       "158491            114        1:54\n",
       "158492            117        1:57\n",
       "158493            120        2:00\n",
       "158494            115        1:55\n",
       "158495            112        1:52\n",
       "\n",
       "[158496 rows x 2 columns]"
      ]
     },
     "execution_count": 85,
     "metadata": {},
     "output_type": "execute_result"
    }
   ],
   "source": [
    "data[[\"FlightTimeMin\", \"Flight Time\"]]"
   ]
  },
  {
   "cell_type": "code",
   "execution_count": 101,
   "metadata": {},
   "outputs": [],
   "source": [
    "routes = data.groupby(\"Route\")"
   ]
  },
  {
   "cell_type": "code",
   "execution_count": 96,
   "metadata": {},
   "outputs": [],
   "source": [
    "#data.Route.unique()"
   ]
  },
  {
   "cell_type": "code",
   "execution_count": 109,
   "metadata": {},
   "outputs": [
    {
     "data": {
      "text/plain": [
       "{'AGP-MAD': Int64Index([37984], dtype='int64'),\n",
       " 'AMS-BCN': Int64Index([ 34902,  34903,  34904,  34905,  34906,  34907,  34908,  34909,\n",
       "              34910,  34911,\n",
       "             ...\n",
       "             157108, 157109, 157110, 157111, 157112, 157113, 157114, 157115,\n",
       "             157116, 157117],\n",
       "            dtype='int64', length=3224),\n",
       " 'AMS-CPH': Int64Index([ 44969,  44970,  44971,  44972,  44973,  44974,  44975,  44976,\n",
       "              44977,  44978,\n",
       "             ...\n",
       "             146263, 146264, 146265, 146266, 146267, 146268, 146269, 146270,\n",
       "             146271, 146272],\n",
       "            dtype='int64', length=4498),\n",
       " 'AMS-DUB': Int64Index([31138, 31139, 31140, 31141, 31142, 31143, 31144, 31145, 31146,\n",
       "             31147,\n",
       "             ...\n",
       "             66365, 66366, 66367, 66368, 66369, 66370, 66371, 66372, 66373,\n",
       "             66374],\n",
       "            dtype='int64', length=2821),\n",
       " 'AMS-FRA': Int64Index([ 61731,  61732,  61733,  61734,  61735,  61736,  61737,  61738,\n",
       "              61739,  61740,\n",
       "             ...\n",
       "             106875, 106876, 106877, 106878, 106879, 106880, 106881, 106882,\n",
       "             106883, 106884],\n",
       "            dtype='int64', length=1701),\n",
       " 'AMS-LHR': Int64Index([    0,     1,     2,     3,     4,     5,     6,     7,     8,\n",
       "                 9,\n",
       "             ...\n",
       "             43988, 43989, 43990, 43991, 43992, 43993, 43994, 43995, 43996,\n",
       "             43997],\n",
       "            dtype='int64', length=3533),\n",
       " 'AMS-MAD': Int64Index([ 36043,  36044,  36045,  36046,  36047,  36048,  36049,  36050,\n",
       "              36051,  36052,\n",
       "             ...\n",
       "             148081, 148082, 148083, 148084, 148085, 148086, 148087, 148088,\n",
       "             148089, 148090],\n",
       "            dtype='int64', length=2865),\n",
       " 'AMS-OSL': Int64Index([50639, 50640, 50641, 50642, 50643, 50644, 50645, 50646, 50647,\n",
       "             50648,\n",
       "             ...\n",
       "             53233, 53234, 53235, 53236, 53237, 53238, 53239, 53240, 53241,\n",
       "             53242],\n",
       "            dtype='int64', length=1543),\n",
       " 'ARN-BCN': Int64Index([22878, 22879, 22880, 22881, 22882, 22883, 22884, 22885, 22886,\n",
       "             22887,\n",
       "             ...\n",
       "             22971, 22972, 22973, 22974, 22975, 22976, 22977, 22978, 22979,\n",
       "             22980],\n",
       "            dtype='int64', length=103),\n",
       " 'ARN-CPH': Int64Index([ 22795,  22796,  22797,  22798,  22799,  22800,  22801,  22802,\n",
       "              22803,  22804,\n",
       "             ...\n",
       "             138627, 138628, 138629, 138630, 138631, 138632, 138633, 138634,\n",
       "             138635, 138636],\n",
       "            dtype='int64', length=2018),\n",
       " 'ARN-FRA': Int64Index([ 88121,  88122,  88123,  88124,  88125,  88126,  88127,  88128,\n",
       "              88129,  88130,\n",
       "             ...\n",
       "             142915, 142916, 142917, 142918, 142919, 142920, 142921, 142922,\n",
       "             142923, 142924],\n",
       "            dtype='int64', length=2820),\n",
       " 'ARN-MUC': Int64Index([ 79110,  79111,  79112,  79113,  79114,  79115,  79116,  79117,\n",
       "              79118,  79119,\n",
       "             ...\n",
       "             134212, 134213, 134214, 134215, 134216, 134217, 134218, 134219,\n",
       "             134220, 134221],\n",
       "            dtype='int64', length=2570),\n",
       " 'ARN-OSL': Int64Index([ 23762,  23763,  23764,  23765,  23766,  23767,  23768,  23769,\n",
       "              23770,  23771,\n",
       "             ...\n",
       "             146252, 146253, 146254, 146255, 146256, 146257, 146258, 146259,\n",
       "             146260, 146261],\n",
       "            dtype='int64', length=2118),\n",
       " 'ARN-WAW': Int64Index([116952, 116953, 116954, 116955, 116956, 116957, 116958, 116959,\n",
       "             116960, 116961,\n",
       "             ...\n",
       "             117822, 117823, 117824, 117825, 117826, 117827, 117828, 117829,\n",
       "             117830, 117831],\n",
       "            dtype='int64', length=880),\n",
       " 'BCN-AMS': Int64Index([ 35335,  35336,  35337,  35338,  35339,  35340,  35341,  35342,\n",
       "              35343,  35344,\n",
       "             ...\n",
       "             156190, 156191, 156192, 156193, 156194, 156195, 156196, 156197,\n",
       "             156198, 156199],\n",
       "            dtype='int64', length=3245),\n",
       " 'BCN-ARN': Int64Index([22981, 22982, 22983, 22984, 22985, 22986, 22987, 22988, 22989,\n",
       "             22990, 22991, 22992, 22993, 22994, 22995, 22996, 22997, 22998,\n",
       "             22999, 23000, 23001, 23002, 23003, 23004, 23005, 23006, 23007,\n",
       "             23008, 23009, 23010, 23011, 23012, 23013, 23014, 23015, 23016,\n",
       "             23017, 23018, 23019, 23020, 23021, 23022, 23023, 23024, 23025,\n",
       "             23026, 23027, 23028, 23029, 23030, 23031, 23032, 23033, 23034,\n",
       "             23035, 23036, 23037, 23038, 23039, 23040, 23041, 23042, 23043,\n",
       "             23044, 23045, 23046, 23047, 23048, 23049, 23050, 23051, 23052,\n",
       "             23053, 23054, 23055, 23056, 23057, 23058, 23059, 23060, 23061,\n",
       "             23062, 23063, 23064, 23065, 23066, 23067, 23068, 23069, 23070,\n",
       "             23071, 23072, 23073, 23074, 23075, 23076, 23077, 23078, 23079],\n",
       "            dtype='int64'),\n",
       " 'BCN-CPH': Int64Index([153516, 153517, 153518, 153519, 153520, 153521, 153522, 153523,\n",
       "             153524, 153525,\n",
       "             ...\n",
       "             154390, 154391, 154392, 154393, 154394, 154395, 154396, 154397,\n",
       "             154398, 154399],\n",
       "            dtype='int64', length=884),\n",
       " 'BCN-DUB': Int64Index([157118, 157119, 157120, 157121, 157122, 157123, 157124, 157125,\n",
       "             157126, 157127,\n",
       "             ...\n",
       "             157797, 157798, 157799, 157800, 157801, 157802, 157803, 157804,\n",
       "             157805, 157806],\n",
       "            dtype='int64', length=689),\n",
       " 'BCN-LHR': Int64Index([ 8914,  8915,  8916,  8917,  8918,  8919,  8920,  8921,  8922,\n",
       "              8923,\n",
       "             ...\n",
       "             10615, 10616, 10617, 10618, 10619, 10620, 10621, 10622, 10623,\n",
       "             10624],\n",
       "            dtype='int64', length=1711),\n",
       " 'BCN-MAD': Int64Index([ 35883,  35884,  35885,  35886,  35887,  35888,  35889,  35890,\n",
       "              35891,  35892,\n",
       "             ...\n",
       "             153506, 153507, 153508, 153509, 153510, 153511, 153512, 153513,\n",
       "             153514, 153515],\n",
       "            dtype='int64', length=739),\n",
       " 'BCN-MUC': Int64Index([77214, 77215, 77216, 77217, 77218, 77219, 77220, 77221, 77222,\n",
       "             77223,\n",
       "             ...\n",
       "             78146, 78147, 78148, 78149, 78150, 78151, 78152, 78153, 78154,\n",
       "             78155],\n",
       "            dtype='int64', length=942),\n",
       " 'CGN-FRA': Int64Index([61258], dtype='int64'),\n",
       " 'CPH-AMS': Int64Index([ 43998,  43999,  44000,  44001,  44002,  44003,  44004,  44005,\n",
       "              44006,  44007,\n",
       "             ...\n",
       "             146273, 146274, 146275, 146276, 146277, 146278, 146279, 146280,\n",
       "             146281, 146282],\n",
       "            dtype='int64', length=3507),\n",
       " 'CPH-ARN': Int64Index([ 22780,  22781,  22782,  22783,  22784,  22785,  22786,  22787,\n",
       "              22788,  22789,\n",
       "             ...\n",
       "             137834, 137835, 137836, 137837, 137838, 137839, 137840, 137841,\n",
       "             137842, 137843],\n",
       "            dtype='int64', length=1888),\n",
       " 'CPH-BCN': Int64Index([154400, 154401, 154402, 154403, 154404, 154405, 154406, 154407,\n",
       "             154408, 154409,\n",
       "             ...\n",
       "             155273, 155274, 155275, 155276, 155277, 155278, 155279, 155280,\n",
       "             155281, 155282],\n",
       "            dtype='int64', length=883),\n",
       " 'CPH-FRA': Int64Index([93070, 93071, 93072, 93073, 93074, 93075, 93076, 93077, 93078,\n",
       "             93079,\n",
       "             ...\n",
       "             94005, 94006, 94007, 94008, 94009, 94010, 94011, 94012, 94013,\n",
       "             94014],\n",
       "            dtype='int64', length=945),\n",
       " 'CPH-MUC': Int64Index([ 22834,  22835,  22836,  22837,  22838,  22839,  22840,  22841,\n",
       "              22842,  22843,\n",
       "             ...\n",
       "             132617, 132618, 132619, 132620, 132621, 132622, 132623, 132624,\n",
       "             132625, 132626],\n",
       "            dtype='int64', length=1760),\n",
       " 'CPH-OSL': Int64Index([ 22810,  22811,  22812,  22813,  22814,  22815,  22816,  22817,\n",
       "              22818,  22819,\n",
       "             ...\n",
       "             129221, 129222, 129223, 129224, 129225, 129226, 129227, 129228,\n",
       "             129229, 129230],\n",
       "            dtype='int64', length=3089),\n",
       " 'CPH-WAW': Int64Index([118727, 118728, 118729, 118730, 118731, 118732, 118733, 118734,\n",
       "             118735, 118736,\n",
       "             ...\n",
       "             135601, 135602, 135603, 135604, 135605, 135606, 135607, 135608,\n",
       "             135609, 135610],\n",
       "            dtype='int64', length=2475),\n",
       " 'DUB-AMS': Int64Index([29030, 29031, 29032, 29033, 29034, 29035, 29036, 29037, 29038,\n",
       "             29039,\n",
       "             ...\n",
       "             65435, 65436, 65437, 65438, 65439, 65440, 65441, 65442, 65443,\n",
       "             65444],\n",
       "            dtype='int64', length=3802),\n",
       " 'DUB-ARN': Int64Index([139761, 139762, 139763, 139764, 139765, 139766, 139767, 139768,\n",
       "             139769, 139770,\n",
       "             ...\n",
       "             140586, 140587, 140588, 140589, 140590, 140591, 140592, 140593,\n",
       "             140594, 140595],\n",
       "            dtype='int64', length=835),\n",
       " 'DUB-BCN': Int64Index([ 32094,  32095,  32096,  32097,  32098,  32099,  32100,  32101,\n",
       "              32102,  32103,\n",
       "             ...\n",
       "             158486, 158487, 158488, 158489, 158490, 158491, 158492, 158493,\n",
       "             158494, 158495],\n",
       "            dtype='int64', length=1622),\n",
       " 'DUB-FRA': Int64Index([102639, 102640, 102641, 102642, 102643, 102644, 102645, 102646,\n",
       "             102647, 102648,\n",
       "             ...\n",
       "             105348, 105349, 105350, 105351, 105352, 105353, 105354, 105355,\n",
       "             105356, 105357],\n",
       "            dtype='int64', length=1791),\n",
       " 'DUB-LHR': Int64Index([14114, 14115, 14116, 14117, 14118, 14119, 14120, 14121, 14122,\n",
       "             14123,\n",
       "             ...\n",
       "             27528, 27529, 27530, 27531, 27532, 27533, 27534, 27535, 27536,\n",
       "             27537],\n",
       "            dtype='int64', length=2815),\n",
       " 'DUB-MAD': Int64Index([33027, 33028, 33029, 33030, 33031, 33032, 33033, 33034, 33035,\n",
       "             33036,\n",
       "             ...\n",
       "             40364, 40365, 40366, 40367, 40368, 40369, 40370, 40371, 40372,\n",
       "             40373],\n",
       "            dtype='int64', length=976),\n",
       " 'DUB-WAW': Int64Index([110580, 110581, 110582, 110583, 110584, 110585, 110586, 110587,\n",
       "             110588, 110589, 110590, 110591, 110592, 110593, 110594, 110595,\n",
       "             110596, 110597, 110598, 110599, 110600, 110601, 110602, 110603,\n",
       "             110604, 110605, 110606, 110607, 110608, 110609, 110610, 110611,\n",
       "             110612, 110613, 110614],\n",
       "            dtype='int64'),\n",
       " 'DUS-FRA': Int64Index([60361], dtype='int64'),\n",
       " 'FRA-AMS': Int64Index([ 59418,  59419,  59420,  59421,  59422,  59423,  59424,  59425,\n",
       "              59426,  59427,\n",
       "             ...\n",
       "             106099, 106100, 106101, 106102, 106103, 106104, 106105, 106106,\n",
       "             106107, 106108],\n",
       "            dtype='int64', length=3052),\n",
       " 'FRA-ARN': Int64Index([ 87107,  87108,  87109,  87110,  87111,  87112,  87113,  87114,\n",
       "              87115,  87116,\n",
       "             ...\n",
       "             131754, 131755, 131756, 131757, 131758, 131759, 131760, 131761,\n",
       "             131762, 131763],\n",
       "            dtype='int64', length=2818),\n",
       " 'FRA-CPH': Int64Index([ 91113,  91114,  91115,  91116,  91117,  91118,  91119,  91120,\n",
       "              91121,  91122,\n",
       "             ...\n",
       "             130935, 130936, 130937, 130938, 130939, 130940, 130941, 130942,\n",
       "             130943, 130944],\n",
       "            dtype='int64', length=2862),\n",
       " 'FRA-DUB': Int64Index([103508, 103509, 103510, 103511, 103512, 103513, 103514, 103515,\n",
       "             103516, 103517,\n",
       "             ...\n",
       "             104426, 104427, 104428, 104429, 104430, 104431, 104432, 104433,\n",
       "             104434, 104435],\n",
       "            dtype='int64', length=928),\n",
       " 'FRA-LHR': Int64Index([ 20869,  20870,  20871,  20872,  20873,  20874,  20875,  20876,\n",
       "              20877,  20878,\n",
       "             ...\n",
       "             102629, 102630, 102631, 102632, 102633, 102634, 102635, 102636,\n",
       "             102637, 102638],\n",
       "            dtype='int64', length=3525),\n",
       " 'FRA-MAD': Int64Index([ 41236,  41237,  41238,  41239,  41240,  41241,  41242,  41243,\n",
       "              41244,  41245,\n",
       "             ...\n",
       "             150680, 150681, 150682, 150683, 150684, 150685, 150686, 150687,\n",
       "             150688, 150689],\n",
       "            dtype='int64', length=2872),\n",
       " 'FRA-OSL': Int64Index([94015, 94016, 94017, 94018, 94019, 94020, 94021, 94022, 94023,\n",
       "             94024,\n",
       "             ...\n",
       "             94972, 94973, 94974, 94975, 94976, 94977, 94978, 94979, 94980,\n",
       "             94981],\n",
       "            dtype='int64', length=967),\n",
       " 'FRA-WAW': Int64Index([ 67332,  67333,  67334,  67335,  67336,  67337,  67338,  67339,\n",
       "              67340,  67341,\n",
       "             ...\n",
       "             116067, 116068, 116069, 116070, 116071, 116072, 116073, 116074,\n",
       "             116075, 116076],\n",
       "            dtype='int64', length=2831),\n",
       " 'IEG-LHR': Int64Index([19530], dtype='int64'),\n",
       " 'KOS-MUC': Int64Index([83634], dtype='int64'),\n",
       " 'LHR-AMS': Int64Index([  834,   835,   836,   837,   838,   839,   840,   841,   842,\n",
       "               843,\n",
       "             ...\n",
       "             43055, 43056, 43057, 43058, 43059, 43060, 43061, 43062, 43063,\n",
       "             43064],\n",
       "            dtype='int64', length=2669),\n",
       " 'LHR-BCN': Int64Index([10625, 10626, 10627, 10628, 10629, 10630, 10631, 10632, 10633,\n",
       "             10634,\n",
       "             ...\n",
       "             12371, 12372, 12373, 12374, 12375, 12376, 12377, 12378, 12379,\n",
       "             12380],\n",
       "            dtype='int64', length=1756),\n",
       " 'LHR-CPH': Int64Index([129231], dtype='int64'),\n",
       " 'LHR-DUB': Int64Index([14545, 14546, 14547, 14548, 14549, 14550, 14551, 14552, 14553,\n",
       "             14554,\n",
       "             ...\n",
       "             29020, 29021, 29022, 29023, 29024, 29025, 29026, 29027, 29028,\n",
       "             29029],\n",
       "            dtype='int64', length=3109),\n",
       " 'LHR-FRA': Int64Index([ 19531,  19532,  19533,  19534,  19535,  19536,  19537,  19538,\n",
       "              19539,  19540,\n",
       "             ...\n",
       "             101706, 101707, 101708, 101709, 101710, 101711, 101712, 101713,\n",
       "             101714, 101715],\n",
       "            dtype='int64', length=5138),\n",
       " 'LHR-LHR': Int64Index([20190, 28044, 99895], dtype='int64'),\n",
       " 'LHR-MAD': Int64Index([ 3706,  3707,  3708,  3709,  3710,  3711,  3712,  3713,  3714,\n",
       "              3715,\n",
       "             ...\n",
       "             38565, 38566, 38567, 38568, 38569, 38570, 38571, 38572, 38573,\n",
       "             38574],\n",
       "            dtype='int64', length=3182),\n",
       " 'LHR-OSL': Int64Index([ 12381,  12382,  12383,  12384,  12385,  12386,  12387,  12388,\n",
       "              12389,  12390,\n",
       "             ...\n",
       "             144654, 144655, 144656, 144657, 144658, 144659, 144660, 144661,\n",
       "             144662, 144663],\n",
       "            dtype='int64', length=1726),\n",
       " 'LHR-WAW': Int64Index([ 17024,  17025,  17026,  17027,  17028,  17029,  17030,  17031,\n",
       "              17032,  17033,\n",
       "             ...\n",
       "             110535, 110536, 110537, 110538, 110539, 110540, 110541, 110542,\n",
       "             110543, 110544],\n",
       "            dtype='int64', length=3509),\n",
       " 'MAD-AMS': Int64Index([ 36001,  36002,  36003,  36004,  36005,  36006,  36007,  36008,\n",
       "              36009,  36010,\n",
       "             ...\n",
       "             147179, 147180, 147181, 147182, 147183, 147184, 147185, 147186,\n",
       "             147187, 147188],\n",
       "            dtype='int64', length=948),\n",
       " 'MAD-BCN': Int64Index([ 35765,  35766,  35767,  35768,  35769,  35770,  35771,  35772,\n",
       "              35773,  35774,\n",
       "             ...\n",
       "             153442, 153443, 153444, 153445, 153446, 153447, 153448, 153449,\n",
       "             153450, 153451],\n",
       "            dtype='int64', length=1307),\n",
       " 'MAD-DUB': Int64Index([33959, 33960, 33961, 33962, 33963, 33964, 33965, 33966, 33967,\n",
       "             33968,\n",
       "             ...\n",
       "             40320, 40321, 40322, 40323, 40324, 40325, 40326, 40327, 40328,\n",
       "             40329],\n",
       "            dtype='int64', length=987),\n",
       " 'MAD-FRA': Int64Index([ 41063,  41064,  41065,  41066,  41067,  41068,  41069,  41070,\n",
       "              41071,  41072,\n",
       "             ...\n",
       "             151565, 151566, 151567, 151568, 151569, 151570, 151571, 151572,\n",
       "             151573, 151574],\n",
       "            dtype='int64', length=1905),\n",
       " 'MAD-LHR': Int64Index([ 4620,  4621,  4622,  4623,  4624,  4625,  4626,  4627,  4628,\n",
       "              4629,\n",
       "             ...\n",
       "             37974, 37975, 37976, 37977, 37978, 37979, 37980, 37981, 37982,\n",
       "             37983],\n",
       "            dtype='int64', length=4515),\n",
       " 'MAD-MUC': Int64Index([38575, 38576, 38577, 38578, 38579, 38580, 38581, 38582, 38583,\n",
       "             38584,\n",
       "             ...\n",
       "             76268, 76269, 76270, 76271, 76272, 76273, 76274, 76275, 76276,\n",
       "             76277],\n",
       "            dtype='int64', length=2581),\n",
       " 'MUC-ARN': Int64Index([ 78156,  78157,  78158,  78159,  78160,  78161,  78162,  78163,\n",
       "              78164,  78165,\n",
       "             ...\n",
       "             134936, 134937, 134938, 134939, 134940, 134941, 134942, 134943,\n",
       "             134944, 134945],\n",
       "            dtype='int64', length=2565),\n",
       " 'MUC-BCN': Int64Index([76278, 76279, 76280, 76281, 76282, 76283, 76284, 76285, 76286,\n",
       "             76287,\n",
       "             ...\n",
       "             77204, 77205, 77206, 77207, 77208, 77209, 77210, 77211, 77212,\n",
       "             77213],\n",
       "            dtype='int64', length=936),\n",
       " 'MUC-CPH': Int64Index([ 22856,  22857,  22858,  22859,  22860,  22861,  22862,  22863,\n",
       "              22864,  22865,\n",
       "             ...\n",
       "             133486, 133487, 133488, 133489, 133490, 133491, 133492, 133493,\n",
       "             133494, 133495],\n",
       "            dtype='int64', length=1808),\n",
       " 'MUC-MAD': Int64Index([ 39425,  39426,  39427,  39428,  39429,  39430,  39431,  39432,\n",
       "              39433,  39434,\n",
       "             ...\n",
       "             152487, 152488, 152489, 152490, 152491, 152492, 152493, 152494,\n",
       "             152495, 152496],\n",
       "            dtype='int64', length=3499),\n",
       " 'MUC-OSL': Int64Index([22141, 22142, 22143, 22144, 22145, 22146, 22147, 22148, 22149,\n",
       "             22150,\n",
       "             ...\n",
       "             86223, 86224, 86225, 86226, 86227, 86228, 86229, 86230, 86231,\n",
       "             86232],\n",
       "            dtype='int64', length=2364),\n",
       " 'MUC-WAW': Int64Index([ 71066,  71067,  71068,  71069,  71070,  71071,  71072,  71073,\n",
       "              71074,  71075,\n",
       "             ...\n",
       "             114245, 114246, 114247, 114248, 114249, 114250, 114251, 114252,\n",
       "             114253, 114254],\n",
       "            dtype='int64', length=2712),\n",
       " 'NUE-FRA': Int64Index([67331, 92115, 130038], dtype='int64'),\n",
       " 'NUE-MUC': Int64Index([151575], dtype='int64'),\n",
       " 'OBF-CPH': Int64Index([81841], dtype='int64'),\n",
       " 'OSL-AMS': Int64Index([49660, 49661, 49662, 49663, 49664, 49665, 49666, 49667, 49668,\n",
       "             49669,\n",
       "             ...\n",
       "             53714, 53715, 53716, 53717, 53718, 53719, 53720, 53721, 53722,\n",
       "             53723],\n",
       "            dtype='int64', length=2521),\n",
       " 'OSL-ARN': Int64Index([ 23080,  23081,  23082,  23083,  23084,  23085,  23086,  23087,\n",
       "              23088,  23089,\n",
       "             ...\n",
       "             145213, 145214, 145215, 145216, 145217, 145218, 145219, 145220,\n",
       "             145221, 145222],\n",
       "            dtype='int64', length=1870),\n",
       " 'OSL-CPH': Int64Index([ 22822,  22823,  22824,  22825,  22826,  22827,  22828,  22829,\n",
       "              22830,  22831,\n",
       "             ...\n",
       "             128454, 128455, 128456, 128457, 128458, 128459, 128460, 128461,\n",
       "             128462, 128463],\n",
       "            dtype='int64', length=3596),\n",
       " 'OSL-FRA': Int64Index([94982, 94983, 94984, 94985, 94986, 94987, 94988, 94989, 94990,\n",
       "             94991,\n",
       "             ...\n",
       "             95929, 95930, 95931, 95932, 95933, 95934, 95935, 95936, 95937,\n",
       "             95938],\n",
       "            dtype='int64', length=957),\n",
       " 'OSL-LHR': Int64Index([ 13244,  13245,  13246,  13247,  13248,  13249,  13250,  13251,\n",
       "              13252,  13253,\n",
       "             ...\n",
       "             143791, 143792, 143793, 143794, 143795, 143796, 143797, 143798,\n",
       "             143799, 143800],\n",
       "            dtype='int64', length=1746),\n",
       " 'OSL-MUC': Int64Index([21496, 21497, 21498, 21499, 21500, 21501, 21502, 21503, 21504,\n",
       "             21505,\n",
       "             ...\n",
       "             87097, 87098, 87099, 87100, 87101, 87102, 87103, 87104, 87105,\n",
       "             87106],\n",
       "            dtype='int64', length=2392),\n",
       " 'OSL-WAW': Int64Index([122080, 122081, 122082, 122083, 122084, 122085, 122086, 122087,\n",
       "             122088, 122089,\n",
       "             ...\n",
       "             122710, 122711, 122712, 122713, 122714, 122715, 122716, 122717,\n",
       "             122718, 122719],\n",
       "            dtype='int64', length=640),\n",
       " 'QEC-WAW': Int64Index([120888], dtype='int64'),\n",
       " 'QEF-AMS': Int64Index([59744, 59766, 59777, 59782, 59785, 59803, 60657, 60663, 60673,\n",
       "             60726],\n",
       "            dtype='int64'),\n",
       " 'QEF-WAW': Int64Index([115483, 115497], dtype='int64'),\n",
       " 'RTM-AMS': Int64Index([57496], dtype='int64'),\n",
       " 'SNN-DUB': Int64Index([27027, 30061], dtype='int64'),\n",
       " 'TLS-FEZ': Int64Index([30062, 30063, 30064, 30065, 30066, 30067, 30068, 30069, 30070,\n",
       "             30071,\n",
       "             ...\n",
       "             30211, 30212, 30213, 30214, 30215, 30216, 30217, 30218, 30219,\n",
       "             30220],\n",
       "            dtype='int64', length=159),\n",
       " 'TRF-OSL': Int64Index([53724], dtype='int64'),\n",
       " 'WAW-ARN': Int64Index([116077, 116078, 116079, 116080, 116081, 116082, 116083, 116084,\n",
       "             116085, 116086,\n",
       "             ...\n",
       "             116942, 116943, 116944, 116945, 116946, 116947, 116948, 116949,\n",
       "             116950, 116951],\n",
       "            dtype='int64', length=875),\n",
       " 'WAW-CPH': Int64Index([117832, 117833, 117834, 117835, 117836, 117837, 117838, 117839,\n",
       "             117840, 117841,\n",
       "             ...\n",
       "             136269, 136270, 136271, 136272, 136273, 136274, 136275, 136276,\n",
       "             136277, 136278],\n",
       "            dtype='int64', length=2463),\n",
       " 'WAW-DUB': Int64Index([110545, 110546, 110547, 110548, 110549, 110550, 110551, 110552,\n",
       "             110553, 110554, 110555, 110556, 110557, 110558, 110559, 110560,\n",
       "             110561, 110562, 110563, 110564, 110565, 110566, 110567, 110568,\n",
       "             110569, 110570, 110571, 110572, 110573, 110574, 110575, 110576,\n",
       "             110577, 110578, 110579],\n",
       "            dtype='int64'),\n",
       " 'WAW-FRA': Int64Index([ 68293,  68294,  68295,  68296,  68297,  68298,  68299,  68300,\n",
       "              68301,  68302,\n",
       "             ...\n",
       "             115149, 115150, 115151, 115152, 115153, 115154, 115155, 115156,\n",
       "             115157, 115158],\n",
       "            dtype='int64', length=2723),\n",
       " 'WAW-LHR': Int64Index([ 17857,  17858,  17859,  17860,  17861,  17862,  17863,  17864,\n",
       "              17865,  17866,\n",
       "             ...\n",
       "             109611, 109612, 109613, 109614, 109615, 109616, 109617, 109618,\n",
       "             109619, 109620],\n",
       "            dtype='int64', length=2657),\n",
       " 'WAW-MUC': Int64Index([ 71952,  71953,  71954,  71955,  71956,  71957,  71958,  71959,\n",
       "              71960,  71961,\n",
       "             ...\n",
       "             113330, 113331, 113332, 113333, 113334, 113335, 113336, 113337,\n",
       "             113338, 113339],\n",
       "            dtype='int64', length=2692),\n",
       " 'WAW-OSL': Int64Index([121438, 121439, 121440, 121441, 121442, 121443, 121444, 121445,\n",
       "             121446, 121447,\n",
       "             ...\n",
       "             122070, 122071, 122072, 122073, 122074, 122075, 122076, 122077,\n",
       "             122078, 122079],\n",
       "            dtype='int64', length=642)}"
      ]
     },
     "execution_count": 109,
     "metadata": {},
     "output_type": "execute_result"
    }
   ],
   "source": [
    "routes.groups"
   ]
  },
  {
   "cell_type": "code",
   "execution_count": 115,
   "metadata": {},
   "outputs": [],
   "source": [
    "pd.set_option(\"display.max.rows\", 100)"
   ]
  },
  {
   "cell_type": "code",
   "execution_count": 166,
   "metadata": {},
   "outputs": [
    {
     "data": {
      "text/html": [
       "<div>\n",
       "<style scoped>\n",
       "    .dataframe tbody tr th:only-of-type {\n",
       "        vertical-align: middle;\n",
       "    }\n",
       "\n",
       "    .dataframe tbody tr th {\n",
       "        vertical-align: top;\n",
       "    }\n",
       "\n",
       "    .dataframe thead th {\n",
       "        text-align: right;\n",
       "    }\n",
       "</style>\n",
       "<table border=\"1\" class=\"dataframe\">\n",
       "  <thead>\n",
       "    <tr style=\"text-align: right;\">\n",
       "      <th></th>\n",
       "      <th>count</th>\n",
       "      <th>mean</th>\n",
       "      <th>std</th>\n",
       "    </tr>\n",
       "    <tr>\n",
       "      <th>Route</th>\n",
       "      <th></th>\n",
       "      <th></th>\n",
       "      <th></th>\n",
       "    </tr>\n",
       "  </thead>\n",
       "  <tbody>\n",
       "    <tr>\n",
       "      <th>AMS-DUB</th>\n",
       "      <td>2821</td>\n",
       "      <td>75.990074</td>\n",
       "      <td>25.238421</td>\n",
       "    </tr>\n",
       "    <tr>\n",
       "      <th>AMS-LHR</th>\n",
       "      <td>3533</td>\n",
       "      <td>51.645344</td>\n",
       "      <td>23.726563</td>\n",
       "    </tr>\n",
       "    <tr>\n",
       "      <th>ARN-BCN</th>\n",
       "      <td>103</td>\n",
       "      <td>188.747573</td>\n",
       "      <td>10.579038</td>\n",
       "    </tr>\n",
       "    <tr>\n",
       "      <th>ARN-CPH</th>\n",
       "      <td>2018</td>\n",
       "      <td>56.444995</td>\n",
       "      <td>61.253500</td>\n",
       "    </tr>\n",
       "    <tr>\n",
       "      <th>CPH-BCN</th>\n",
       "      <td>883</td>\n",
       "      <td>148.439411</td>\n",
       "      <td>10.050863</td>\n",
       "    </tr>\n",
       "    <tr>\n",
       "      <th>LHR-FRA</th>\n",
       "      <td>5138</td>\n",
       "      <td>64.873297</td>\n",
       "      <td>27.522431</td>\n",
       "    </tr>\n",
       "    <tr>\n",
       "      <th>LHR-LHR</th>\n",
       "      <td>3</td>\n",
       "      <td>79.000000</td>\n",
       "      <td>25.632011</td>\n",
       "    </tr>\n",
       "    <tr>\n",
       "      <th>LHR-WAW</th>\n",
       "      <td>3509</td>\n",
       "      <td>120.649758</td>\n",
       "      <td>19.831161</td>\n",
       "    </tr>\n",
       "    <tr>\n",
       "      <th>MAD-BCN</th>\n",
       "      <td>1307</td>\n",
       "      <td>51.964040</td>\n",
       "      <td>38.334760</td>\n",
       "    </tr>\n",
       "    <tr>\n",
       "      <th>MAD-MUC</th>\n",
       "      <td>2581</td>\n",
       "      <td>126.161565</td>\n",
       "      <td>27.052516</td>\n",
       "    </tr>\n",
       "    <tr>\n",
       "      <th>MUC-MAD</th>\n",
       "      <td>3499</td>\n",
       "      <td>133.974278</td>\n",
       "      <td>10.507011</td>\n",
       "    </tr>\n",
       "    <tr>\n",
       "      <th>TLS-FEZ</th>\n",
       "      <td>159</td>\n",
       "      <td>101.169811</td>\n",
       "      <td>11.008747</td>\n",
       "    </tr>\n",
       "    <tr>\n",
       "      <th>WAW-FRA</th>\n",
       "      <td>2723</td>\n",
       "      <td>85.961440</td>\n",
       "      <td>13.291412</td>\n",
       "    </tr>\n",
       "    <tr>\n",
       "      <th>WAW-LHR</th>\n",
       "      <td>2657</td>\n",
       "      <td>137.499435</td>\n",
       "      <td>11.884710</td>\n",
       "    </tr>\n",
       "  </tbody>\n",
       "</table>\n",
       "</div>"
      ],
      "text/plain": [
       "         count        mean        std\n",
       "Route                                \n",
       "AMS-DUB   2821   75.990074  25.238421\n",
       "AMS-LHR   3533   51.645344  23.726563\n",
       "ARN-BCN    103  188.747573  10.579038\n",
       "ARN-CPH   2018   56.444995  61.253500\n",
       "CPH-BCN    883  148.439411  10.050863\n",
       "LHR-FRA   5138   64.873297  27.522431\n",
       "LHR-LHR      3   79.000000  25.632011\n",
       "LHR-WAW   3509  120.649758  19.831161\n",
       "MAD-BCN   1307   51.964040  38.334760\n",
       "MAD-MUC   2581  126.161565  27.052516\n",
       "MUC-MAD   3499  133.974278  10.507011\n",
       "TLS-FEZ    159  101.169811  11.008747\n",
       "WAW-FRA   2723   85.961440  13.291412\n",
       "WAW-LHR   2657  137.499435  11.884710"
      ]
     },
     "execution_count": 166,
     "metadata": {},
     "output_type": "execute_result"
    }
   ],
   "source": [
    "routes_stats = routes.agg([\"count\", \"min\", \"max\", \"mean\", \"std\"])\n",
    "routes_stats[\"FlightTimeMin\"][[\"count\", \"mean\", \"std\"]][routes_stats[\"FlightTimeMin\"][\"std\"] > 10]\n",
    "## what's up with ARN-CPH ?  "
   ]
  },
  {
   "cell_type": "code",
   "execution_count": 158,
   "metadata": {},
   "outputs": [],
   "source": [
    "route = \"MAD-BCN\""
   ]
  },
  {
   "cell_type": "code",
   "execution_count": 167,
   "metadata": {},
   "outputs": [],
   "source": [
    "route = \"BCN-MAD\""
   ]
  },
  {
   "cell_type": "code",
   "execution_count": 170,
   "metadata": {},
   "outputs": [
    {
     "data": {
      "text/plain": [
       "<AxesSubplot:>"
      ]
     },
     "execution_count": 170,
     "metadata": {},
     "output_type": "execute_result"
    },
    {
     "data": {
      "image/png": "[encoded data removed]",
      "text/plain": [
       "<Figure size 432x288 with 1 Axes>"
      ]
     },
     "metadata": {
      "needs_background": "light"
     },
     "output_type": "display_data"
    }
   ],
   "source": [
    "data[data.Route == route].boxplot(\"FlightTimeMin\")"
   ]
  },
  {
   "cell_type": "code",
   "execution_count": 168,
   "metadata": {},
   "outputs": [
    {
     "data": {
      "text/plain": [
       "array(['Iberia', 'Air Europa', 'Vueling'], dtype=object)"
      ]
     },
     "execution_count": 168,
     "metadata": {},
     "output_type": "execute_result"
    }
   ],
   "source": [
    "## which carriers at this route?\n",
    "data[data.Route == route].Carrier_Name.unique()"
   ]
  },
  {
   "cell_type": "code",
   "execution_count": 169,
   "metadata": {},
   "outputs": [
    {
     "data": {
      "text/html": [
       "<div>\n",
       "<style scoped>\n",
       "    .dataframe tbody tr th:only-of-type {\n",
       "        vertical-align: middle;\n",
       "    }\n",
       "\n",
       "    .dataframe tbody tr th {\n",
       "        vertical-align: top;\n",
       "    }\n",
       "\n",
       "    .dataframe thead th {\n",
       "        text-align: right;\n",
       "    }\n",
       "</style>\n",
       "<table border=\"1\" class=\"dataframe\">\n",
       "  <thead>\n",
       "    <tr style=\"text-align: right;\">\n",
       "      <th></th>\n",
       "      <th>Flight</th>\n",
       "      <th>Date</th>\n",
       "      <th>Equipment_Type</th>\n",
       "      <th>Equipment_Reg</th>\n",
       "      <th>Origin_City</th>\n",
       "      <th>Origin_Code</th>\n",
       "      <th>Destination_City</th>\n",
       "      <th>Destination_Code</th>\n",
       "      <th>Flight Time</th>\n",
       "      <th>ETD</th>\n",
       "      <th>ETA</th>\n",
       "      <th>ATD</th>\n",
       "      <th>ATA</th>\n",
       "      <th>Carrier_Name</th>\n",
       "      <th>Carrier_Class</th>\n",
       "      <th>Timedelta</th>\n",
       "      <th>ETD_Group</th>\n",
       "      <th>Route</th>\n",
       "      <th>FlightTimeMin</th>\n",
       "    </tr>\n",
       "  </thead>\n",
       "  <tbody>\n",
       "    <tr>\n",
       "      <th>153196</th>\n",
       "      <td>UX7706</td>\n",
       "      <td>2019-05-04</td>\n",
       "      <td>A332</td>\n",
       "      <td>EC-JQQ</td>\n",
       "      <td>Barcelona</td>\n",
       "      <td>BCN</td>\n",
       "      <td>Madrid</td>\n",
       "      <td>MAD</td>\n",
       "      <td>0:28</td>\n",
       "      <td>12:00</td>\n",
       "      <td>13:35</td>\n",
       "      <td>12:29</td>\n",
       "      <td>12:56</td>\n",
       "      <td>Air Europa</td>\n",
       "      <td>0</td>\n",
       "      <td>-39</td>\n",
       "      <td>Morning</td>\n",
       "      <td>BCN-MAD</td>\n",
       "      <td>28</td>\n",
       "    </tr>\n",
       "    <tr>\n",
       "      <th>153197</th>\n",
       "      <td>UX7706</td>\n",
       "      <td>2019-05-03</td>\n",
       "      <td>B788</td>\n",
       "      <td>EC-MLT</td>\n",
       "      <td>Barcelona</td>\n",
       "      <td>BCN</td>\n",
       "      <td>Madrid</td>\n",
       "      <td>MAD</td>\n",
       "      <td>0:38</td>\n",
       "      <td>12:00</td>\n",
       "      <td>13:35</td>\n",
       "      <td>12:20</td>\n",
       "      <td>12:58</td>\n",
       "      <td>Air Europa</td>\n",
       "      <td>0</td>\n",
       "      <td>-37</td>\n",
       "      <td>Morning</td>\n",
       "      <td>BCN-MAD</td>\n",
       "      <td>38</td>\n",
       "    </tr>\n",
       "    <tr>\n",
       "      <th>35930</th>\n",
       "      <td>IB2105</td>\n",
       "      <td>2020-09-03</td>\n",
       "      <td>A321</td>\n",
       "      <td>EC-ILP</td>\n",
       "      <td>Barcelona</td>\n",
       "      <td>BCN</td>\n",
       "      <td>Madrid</td>\n",
       "      <td>MAD</td>\n",
       "      <td>0:44</td>\n",
       "      <td>21:35</td>\n",
       "      <td>23:00</td>\n",
       "      <td>21:42</td>\n",
       "      <td>22:26</td>\n",
       "      <td>Iberia</td>\n",
       "      <td>0</td>\n",
       "      <td>-34</td>\n",
       "      <td>Night</td>\n",
       "      <td>BCN-MAD</td>\n",
       "      <td>44</td>\n",
       "    </tr>\n",
       "    <tr>\n",
       "      <th>41498</th>\n",
       "      <td>IB935</td>\n",
       "      <td>2020-07-06</td>\n",
       "      <td>A20N</td>\n",
       "      <td>EC-NDN</td>\n",
       "      <td>Barcelona</td>\n",
       "      <td>BCN</td>\n",
       "      <td>Madrid</td>\n",
       "      <td>MAD</td>\n",
       "      <td>0:44</td>\n",
       "      <td>9:35</td>\n",
       "      <td>11:00</td>\n",
       "      <td>10:36</td>\n",
       "      <td>11:20</td>\n",
       "      <td>Iberia</td>\n",
       "      <td>0</td>\n",
       "      <td>20</td>\n",
       "      <td>Morning</td>\n",
       "      <td>BCN-MAD</td>\n",
       "      <td>44</td>\n",
       "    </tr>\n",
       "    <tr>\n",
       "      <th>152857</th>\n",
       "      <td>UX7706</td>\n",
       "      <td>2020-10-08</td>\n",
       "      <td>B788</td>\n",
       "      <td>EC-MNS</td>\n",
       "      <td>Barcelona</td>\n",
       "      <td>BCN</td>\n",
       "      <td>Madrid</td>\n",
       "      <td>MAD</td>\n",
       "      <td>0:44</td>\n",
       "      <td>11:50</td>\n",
       "      <td>13:20</td>\n",
       "      <td>12:12</td>\n",
       "      <td>12:56</td>\n",
       "      <td>Air Europa</td>\n",
       "      <td>0</td>\n",
       "      <td>-24</td>\n",
       "      <td>Morning</td>\n",
       "      <td>BCN-MAD</td>\n",
       "      <td>44</td>\n",
       "    </tr>\n",
       "    <tr>\n",
       "      <th>...</th>\n",
       "      <td>...</td>\n",
       "      <td>...</td>\n",
       "      <td>...</td>\n",
       "      <td>...</td>\n",
       "      <td>...</td>\n",
       "      <td>...</td>\n",
       "      <td>...</td>\n",
       "      <td>...</td>\n",
       "      <td>...</td>\n",
       "      <td>...</td>\n",
       "      <td>...</td>\n",
       "      <td>...</td>\n",
       "      <td>...</td>\n",
       "      <td>...</td>\n",
       "      <td>...</td>\n",
       "      <td>...</td>\n",
       "      <td>...</td>\n",
       "      <td>...</td>\n",
       "      <td>...</td>\n",
       "    </tr>\n",
       "    <tr>\n",
       "      <th>152965</th>\n",
       "      <td>UX7706</td>\n",
       "      <td>2020-01-15</td>\n",
       "      <td>A332</td>\n",
       "      <td>EC-LQO</td>\n",
       "      <td>Barcelona</td>\n",
       "      <td>BCN</td>\n",
       "      <td>Madrid</td>\n",
       "      <td>MAD</td>\n",
       "      <td>1:14</td>\n",
       "      <td>11:45</td>\n",
       "      <td>13:15</td>\n",
       "      <td>12:00</td>\n",
       "      <td>13:14</td>\n",
       "      <td>Air Europa</td>\n",
       "      <td>0</td>\n",
       "      <td>-1</td>\n",
       "      <td>Morning</td>\n",
       "      <td>BCN-MAD</td>\n",
       "      <td>74</td>\n",
       "    </tr>\n",
       "    <tr>\n",
       "      <th>36000</th>\n",
       "      <td>IB2105</td>\n",
       "      <td>2018-10-27</td>\n",
       "      <td>A319</td>\n",
       "      <td>EC-KBX</td>\n",
       "      <td>Barcelona</td>\n",
       "      <td>BCN</td>\n",
       "      <td>Madrid</td>\n",
       "      <td>MAD</td>\n",
       "      <td>1:14</td>\n",
       "      <td>21:05</td>\n",
       "      <td>22:30</td>\n",
       "      <td>21:27</td>\n",
       "      <td>22:42</td>\n",
       "      <td>Iberia</td>\n",
       "      <td>0</td>\n",
       "      <td>12</td>\n",
       "      <td>Evening</td>\n",
       "      <td>BCN-MAD</td>\n",
       "      <td>74</td>\n",
       "    </tr>\n",
       "    <tr>\n",
       "      <th>153035</th>\n",
       "      <td>UX7706</td>\n",
       "      <td>2019-10-14</td>\n",
       "      <td>A332</td>\n",
       "      <td>EC-JZL</td>\n",
       "      <td>Barcelona</td>\n",
       "      <td>BCN</td>\n",
       "      <td>Madrid</td>\n",
       "      <td>MAD</td>\n",
       "      <td>1:16</td>\n",
       "      <td>11:50</td>\n",
       "      <td>13:25</td>\n",
       "      <td>12:10</td>\n",
       "      <td>13:25</td>\n",
       "      <td>Air Europa</td>\n",
       "      <td>0</td>\n",
       "      <td>0</td>\n",
       "      <td>Morning</td>\n",
       "      <td>BCN-MAD</td>\n",
       "      <td>76</td>\n",
       "    </tr>\n",
       "    <tr>\n",
       "      <th>153013</th>\n",
       "      <td>UX7706</td>\n",
       "      <td>2019-11-28</td>\n",
       "      <td>A332</td>\n",
       "      <td>EC-JZL</td>\n",
       "      <td>Barcelona</td>\n",
       "      <td>BCN</td>\n",
       "      <td>Madrid</td>\n",
       "      <td>MAD</td>\n",
       "      <td>1:17</td>\n",
       "      <td>11:45</td>\n",
       "      <td>13:15</td>\n",
       "      <td>12:14</td>\n",
       "      <td>13:31</td>\n",
       "      <td>Air Europa</td>\n",
       "      <td>0</td>\n",
       "      <td>16</td>\n",
       "      <td>Morning</td>\n",
       "      <td>BCN-MAD</td>\n",
       "      <td>77</td>\n",
       "    </tr>\n",
       "    <tr>\n",
       "      <th>152990</th>\n",
       "      <td>UX7706</td>\n",
       "      <td>2019-12-21</td>\n",
       "      <td>A332</td>\n",
       "      <td>EC-LVL</td>\n",
       "      <td>Barcelona</td>\n",
       "      <td>BCN</td>\n",
       "      <td>Madrid</td>\n",
       "      <td>MAD</td>\n",
       "      <td>1:21</td>\n",
       "      <td>11:45</td>\n",
       "      <td>13:15</td>\n",
       "      <td>12:34</td>\n",
       "      <td>13:55</td>\n",
       "      <td>Air Europa</td>\n",
       "      <td>0</td>\n",
       "      <td>40</td>\n",
       "      <td>Morning</td>\n",
       "      <td>BCN-MAD</td>\n",
       "      <td>81</td>\n",
       "    </tr>\n",
       "  </tbody>\n",
       "</table>\n",
       "<p>739 rows × 19 columns</p>\n",
       "</div>"
      ],
      "text/plain": [
       "        Flight        Date Equipment_Type Equipment_Reg Origin_City  \\\n",
       "153196  UX7706  2019-05-04           A332        EC-JQQ   Barcelona   \n",
       "153197  UX7706  2019-05-03           B788        EC-MLT   Barcelona   \n",
       "35930   IB2105  2020-09-03           A321        EC-ILP   Barcelona   \n",
       "41498    IB935  2020-07-06           A20N        EC-NDN   Barcelona   \n",
       "152857  UX7706  2020-10-08           B788        EC-MNS   Barcelona   \n",
       "...        ...         ...            ...           ...         ...   \n",
       "152965  UX7706  2020-01-15           A332        EC-LQO   Barcelona   \n",
       "36000   IB2105  2018-10-27           A319        EC-KBX   Barcelona   \n",
       "153035  UX7706  2019-10-14           A332        EC-JZL   Barcelona   \n",
       "153013  UX7706  2019-11-28           A332        EC-JZL   Barcelona   \n",
       "152990  UX7706  2019-12-21           A332        EC-LVL   Barcelona   \n",
       "\n",
       "       Origin_Code Destination_City Destination_Code Flight Time    ETD  \\\n",
       "153196         BCN           Madrid              MAD        0:28  12:00   \n",
       "153197         BCN           Madrid              MAD        0:38  12:00   \n",
       "35930          BCN           Madrid              MAD        0:44  21:35   \n",
       "41498          BCN           Madrid              MAD        0:44   9:35   \n",
       "152857         BCN           Madrid              MAD        0:44  11:50   \n",
       "...            ...              ...              ...         ...    ...   \n",
       "152965         BCN           Madrid              MAD        1:14  11:45   \n",
       "36000          BCN           Madrid              MAD        1:14  21:05   \n",
       "153035         BCN           Madrid              MAD        1:16  11:50   \n",
       "153013         BCN           Madrid              MAD        1:17  11:45   \n",
       "152990         BCN           Madrid              MAD        1:21  11:45   \n",
       "\n",
       "          ETA    ATD    ATA Carrier_Name  Carrier_Class  Timedelta ETD_Group  \\\n",
       "153196  13:35  12:29  12:56   Air Europa              0        -39   Morning   \n",
       "153197  13:35  12:20  12:58   Air Europa              0        -37   Morning   \n",
       "35930   23:00  21:42  22:26       Iberia              0        -34     Night   \n",
       "41498   11:00  10:36  11:20       Iberia              0         20   Morning   \n",
       "152857  13:20  12:12  12:56   Air Europa              0        -24   Morning   \n",
       "...       ...    ...    ...          ...            ...        ...       ...   \n",
       "152965  13:15  12:00  13:14   Air Europa              0         -1   Morning   \n",
       "36000   22:30  21:27  22:42       Iberia              0         12   Evening   \n",
       "153035  13:25  12:10  13:25   Air Europa              0          0   Morning   \n",
       "153013  13:15  12:14  13:31   Air Europa              0         16   Morning   \n",
       "152990  13:15  12:34  13:55   Air Europa              0         40   Morning   \n",
       "\n",
       "          Route  FlightTimeMin  \n",
       "153196  BCN-MAD             28  \n",
       "153197  BCN-MAD             38  \n",
       "35930   BCN-MAD             44  \n",
       "41498   BCN-MAD             44  \n",
       "152857  BCN-MAD             44  \n",
       "...         ...            ...  \n",
       "152965  BCN-MAD             74  \n",
       "36000   BCN-MAD             74  \n",
       "153035  BCN-MAD             76  \n",
       "153013  BCN-MAD             77  \n",
       "152990  BCN-MAD             81  \n",
       "\n",
       "[739 rows x 19 columns]"
      ]
     },
     "execution_count": 169,
     "metadata": {},
     "output_type": "execute_result"
    }
   ],
   "source": [
    "data[data.Route == route].iloc[np.argsort(data[data.Route == route].FlightTimeMin.values)]"
   ]
  },
  {
   "cell_type": "code",
   "execution_count": null,
   "metadata": {},
   "outputs": [],
   "source": []
  },
  {
   "cell_type": "code",
   "execution_count": null,
   "metadata": {},
   "outputs": [],
   "source": [
    "# how do estimated flight times deviate between airlines for the same routes?"
   ]
  },
  {
   "cell_type": "code",
   "execution_count": 207,
   "metadata": {},
   "outputs": [],
   "source": [
    "data[\"ExpTime\"] = data.ETA.apply(hours_to_int) - data.ETD.apply(hours_to_int)"
   ]
  },
  {
   "cell_type": "code",
   "execution_count": 209,
   "metadata": {},
   "outputs": [
    {
     "data": {
      "text/html": [
       "<div>\n",
       "<style scoped>\n",
       "    .dataframe tbody tr th:only-of-type {\n",
       "        vertical-align: middle;\n",
       "    }\n",
       "\n",
       "    .dataframe tbody tr th {\n",
       "        vertical-align: top;\n",
       "    }\n",
       "\n",
       "    .dataframe thead th {\n",
       "        text-align: right;\n",
       "    }\n",
       "</style>\n",
       "<table border=\"1\" class=\"dataframe\">\n",
       "  <thead>\n",
       "    <tr style=\"text-align: right;\">\n",
       "      <th></th>\n",
       "      <th>Flight</th>\n",
       "      <th>Date</th>\n",
       "      <th>Equipment_Type</th>\n",
       "      <th>Equipment_Reg</th>\n",
       "      <th>Origin_City</th>\n",
       "      <th>Origin_Code</th>\n",
       "      <th>Destination_City</th>\n",
       "      <th>Destination_Code</th>\n",
       "      <th>Flight Time</th>\n",
       "      <th>ETD</th>\n",
       "      <th>ETA</th>\n",
       "      <th>ATD</th>\n",
       "      <th>ATA</th>\n",
       "      <th>Carrier_Name</th>\n",
       "      <th>Carrier_Class</th>\n",
       "      <th>Timedelta</th>\n",
       "      <th>ETD_Group</th>\n",
       "      <th>Route</th>\n",
       "      <th>FlightTimeMin</th>\n",
       "      <th>ExpTime</th>\n",
       "    </tr>\n",
       "  </thead>\n",
       "  <tbody>\n",
       "    <tr>\n",
       "      <th>7319</th>\n",
       "      <td>BA461</td>\n",
       "      <td>2017-12-12</td>\n",
       "      <td>A321</td>\n",
       "      <td>G-EUXL</td>\n",
       "      <td>Madrid</td>\n",
       "      <td>MAD</td>\n",
       "      <td>London</td>\n",
       "      <td>LHR</td>\n",
       "      <td>2:19</td>\n",
       "      <td>20:28</td>\n",
       "      <td>19:15</td>\n",
       "      <td>18:12</td>\n",
       "      <td>19:31</td>\n",
       "      <td>British Airways</td>\n",
       "      <td>0</td>\n",
       "      <td>16</td>\n",
       "      <td>Evening</td>\n",
       "      <td>MAD-LHR</td>\n",
       "      <td>139</td>\n",
       "      <td>-73</td>\n",
       "    </tr>\n",
       "    <tr>\n",
       "      <th>14071</th>\n",
       "      <td>BA767</td>\n",
       "      <td>2017-12-06</td>\n",
       "      <td>A319</td>\n",
       "      <td>G-EUOB</td>\n",
       "      <td>Oslo</td>\n",
       "      <td>OSL</td>\n",
       "      <td>London</td>\n",
       "      <td>LHR</td>\n",
       "      <td>1:57</td>\n",
       "      <td>19:14</td>\n",
       "      <td>18:05</td>\n",
       "      <td>17:17</td>\n",
       "      <td>18:14</td>\n",
       "      <td>British Airways</td>\n",
       "      <td>0</td>\n",
       "      <td>9</td>\n",
       "      <td>Evening</td>\n",
       "      <td>OSL-LHR</td>\n",
       "      <td>117</td>\n",
       "      <td>-69</td>\n",
       "    </tr>\n",
       "    <tr>\n",
       "      <th>22982</th>\n",
       "      <td>DY4252</td>\n",
       "      <td>2020-10-16</td>\n",
       "      <td>B738</td>\n",
       "      <td>SE-RPT</td>\n",
       "      <td>Barcelona</td>\n",
       "      <td>BCN</td>\n",
       "      <td>Stockholm</td>\n",
       "      <td>ARN</td>\n",
       "      <td>3:16</td>\n",
       "      <td>20:40</td>\n",
       "      <td>0:15</td>\n",
       "      <td>20:51</td>\n",
       "      <td>00:07</td>\n",
       "      <td>Norwegian</td>\n",
       "      <td>1</td>\n",
       "      <td>-8</td>\n",
       "      <td>Evening</td>\n",
       "      <td>BCN-ARN</td>\n",
       "      <td>196</td>\n",
       "      <td>-1225</td>\n",
       "    </tr>\n",
       "    <tr>\n",
       "      <th>22984</th>\n",
       "      <td>DY4252</td>\n",
       "      <td>2020-10-09</td>\n",
       "      <td>B738</td>\n",
       "      <td>SE-RPS</td>\n",
       "      <td>Barcelona</td>\n",
       "      <td>BCN</td>\n",
       "      <td>Stockholm</td>\n",
       "      <td>ARN</td>\n",
       "      <td>3:02</td>\n",
       "      <td>20:40</td>\n",
       "      <td>0:15</td>\n",
       "      <td>21:18</td>\n",
       "      <td>00:20</td>\n",
       "      <td>Norwegian</td>\n",
       "      <td>1</td>\n",
       "      <td>5</td>\n",
       "      <td>Evening</td>\n",
       "      <td>BCN-ARN</td>\n",
       "      <td>182</td>\n",
       "      <td>-1225</td>\n",
       "    </tr>\n",
       "    <tr>\n",
       "      <th>22986</th>\n",
       "      <td>DY4252</td>\n",
       "      <td>2020-10-02</td>\n",
       "      <td>B738</td>\n",
       "      <td>SE-RPR</td>\n",
       "      <td>Barcelona</td>\n",
       "      <td>BCN</td>\n",
       "      <td>Stockholm</td>\n",
       "      <td>ARN</td>\n",
       "      <td>2:57</td>\n",
       "      <td>20:40</td>\n",
       "      <td>0:15</td>\n",
       "      <td>21:41</td>\n",
       "      <td>00:37</td>\n",
       "      <td>Norwegian</td>\n",
       "      <td>1</td>\n",
       "      <td>22</td>\n",
       "      <td>Evening</td>\n",
       "      <td>BCN-ARN</td>\n",
       "      <td>177</td>\n",
       "      <td>-1225</td>\n",
       "    </tr>\n",
       "  </tbody>\n",
       "</table>\n",
       "</div>"
      ],
      "text/plain": [
       "       Flight        Date Equipment_Type Equipment_Reg Origin_City  \\\n",
       "7319    BA461  2017-12-12           A321        G-EUXL      Madrid   \n",
       "14071   BA767  2017-12-06           A319        G-EUOB        Oslo   \n",
       "22982  DY4252  2020-10-16           B738        SE-RPT   Barcelona   \n",
       "22984  DY4252  2020-10-09           B738        SE-RPS   Barcelona   \n",
       "22986  DY4252  2020-10-02           B738        SE-RPR   Barcelona   \n",
       "\n",
       "      Origin_Code Destination_City Destination_Code Flight Time    ETD    ETA  \\\n",
       "7319          MAD           London              LHR        2:19  20:28  19:15   \n",
       "14071         OSL           London              LHR        1:57  19:14  18:05   \n",
       "22982         BCN        Stockholm              ARN        3:16  20:40   0:15   \n",
       "22984         BCN        Stockholm              ARN        3:02  20:40   0:15   \n",
       "22986         BCN        Stockholm              ARN        2:57  20:40   0:15   \n",
       "\n",
       "         ATD    ATA     Carrier_Name  Carrier_Class  Timedelta ETD_Group  \\\n",
       "7319   18:12  19:31  British Airways              0         16   Evening   \n",
       "14071  17:17  18:14  British Airways              0          9   Evening   \n",
       "22982  20:51  00:07        Norwegian              1         -8   Evening   \n",
       "22984  21:18  00:20        Norwegian              1          5   Evening   \n",
       "22986  21:41  00:37        Norwegian              1         22   Evening   \n",
       "\n",
       "         Route  FlightTimeMin  ExpTime  \n",
       "7319   MAD-LHR            139      -73  \n",
       "14071  OSL-LHR            117      -69  \n",
       "22982  BCN-ARN            196    -1225  \n",
       "22984  BCN-ARN            182    -1225  \n",
       "22986  BCN-ARN            177    -1225  "
      ]
     },
     "execution_count": 209,
     "metadata": {},
     "output_type": "execute_result"
    }
   ],
   "source": [
    "data[data.ExpTime < 0].head()"
   ]
  },
  {
   "cell_type": "code",
   "execution_count": 210,
   "metadata": {},
   "outputs": [],
   "source": [
    "exp_time = data[data.ExpTime > 0]"
   ]
  },
  {
   "cell_type": "code",
   "execution_count": 214,
   "metadata": {},
   "outputs": [
    {
     "data": {
      "text/plain": [
       "157686"
      ]
     },
     "execution_count": 214,
     "metadata": {},
     "output_type": "execute_result"
    }
   ],
   "source": [
    "len(exp_time)"
   ]
  },
  {
   "cell_type": "code",
   "execution_count": 211,
   "metadata": {},
   "outputs": [],
   "source": [
    "routes = exp_time.groupby(\"Route\")"
   ]
  },
  {
   "cell_type": "code",
   "execution_count": 216,
   "metadata": {},
   "outputs": [
    {
     "data": {
      "text/html": [
       "<div>\n",
       "<style scoped>\n",
       "    .dataframe tbody tr th:only-of-type {\n",
       "        vertical-align: middle;\n",
       "    }\n",
       "\n",
       "    .dataframe tbody tr th {\n",
       "        vertical-align: top;\n",
       "    }\n",
       "\n",
       "    .dataframe thead th {\n",
       "        text-align: right;\n",
       "    }\n",
       "</style>\n",
       "<table border=\"1\" class=\"dataframe\">\n",
       "  <thead>\n",
       "    <tr style=\"text-align: right;\">\n",
       "      <th></th>\n",
       "      <th>count</th>\n",
       "      <th>mean</th>\n",
       "      <th>std</th>\n",
       "    </tr>\n",
       "    <tr>\n",
       "      <th>Route</th>\n",
       "      <th></th>\n",
       "      <th></th>\n",
       "      <th></th>\n",
       "    </tr>\n",
       "  </thead>\n",
       "  <tbody>\n",
       "    <tr>\n",
       "      <th>ARN-FRA</th>\n",
       "      <td>2820</td>\n",
       "      <td>130.354610</td>\n",
       "      <td>5.205783</td>\n",
       "    </tr>\n",
       "    <tr>\n",
       "      <th>DUB-LHR</th>\n",
       "      <td>2815</td>\n",
       "      <td>89.797513</td>\n",
       "      <td>5.412435</td>\n",
       "    </tr>\n",
       "    <tr>\n",
       "      <th>DUB-WAW</th>\n",
       "      <td>35</td>\n",
       "      <td>241.714286</td>\n",
       "      <td>10.141851</td>\n",
       "    </tr>\n",
       "    <tr>\n",
       "      <th>FRA-MAD</th>\n",
       "      <td>2872</td>\n",
       "      <td>162.353760</td>\n",
       "      <td>8.125165</td>\n",
       "    </tr>\n",
       "    <tr>\n",
       "      <th>FRA-WAW</th>\n",
       "      <td>2831</td>\n",
       "      <td>99.005652</td>\n",
       "      <td>5.964438</td>\n",
       "    </tr>\n",
       "    <tr>\n",
       "      <th>LHR-LHR</th>\n",
       "      <td>3</td>\n",
       "      <td>100.000000</td>\n",
       "      <td>10.000000</td>\n",
       "    </tr>\n",
       "    <tr>\n",
       "      <th>LHR-MAD</th>\n",
       "      <td>3182</td>\n",
       "      <td>207.075110</td>\n",
       "      <td>5.166485</td>\n",
       "    </tr>\n",
       "    <tr>\n",
       "      <th>LHR-WAW</th>\n",
       "      <td>3509</td>\n",
       "      <td>210.094899</td>\n",
       "      <td>6.366500</td>\n",
       "    </tr>\n",
       "    <tr>\n",
       "      <th>MAD-MUC</th>\n",
       "      <td>2581</td>\n",
       "      <td>152.123596</td>\n",
       "      <td>5.482727</td>\n",
       "    </tr>\n",
       "    <tr>\n",
       "      <th>MUC-MAD</th>\n",
       "      <td>3499</td>\n",
       "      <td>162.795084</td>\n",
       "      <td>5.533671</td>\n",
       "    </tr>\n",
       "    <tr>\n",
       "      <th>NUE-FRA</th>\n",
       "      <td>3</td>\n",
       "      <td>30.666667</td>\n",
       "      <td>24.826062</td>\n",
       "    </tr>\n",
       "    <tr>\n",
       "      <th>OSL-FRA</th>\n",
       "      <td>957</td>\n",
       "      <td>132.680251</td>\n",
       "      <td>5.615854</td>\n",
       "    </tr>\n",
       "    <tr>\n",
       "      <th>OSL-MUC</th>\n",
       "      <td>2392</td>\n",
       "      <td>135.641722</td>\n",
       "      <td>5.038121</td>\n",
       "    </tr>\n",
       "    <tr>\n",
       "      <th>QEF-AMS</th>\n",
       "      <td>10</td>\n",
       "      <td>74.000000</td>\n",
       "      <td>5.163978</td>\n",
       "    </tr>\n",
       "    <tr>\n",
       "      <th>SNN-DUB</th>\n",
       "      <td>2</td>\n",
       "      <td>33.500000</td>\n",
       "      <td>9.192388</td>\n",
       "    </tr>\n",
       "    <tr>\n",
       "      <th>TLS-FEZ</th>\n",
       "      <td>159</td>\n",
       "      <td>100.000000</td>\n",
       "      <td>28.373637</td>\n",
       "    </tr>\n",
       "    <tr>\n",
       "      <th>WAW-FRA</th>\n",
       "      <td>2723</td>\n",
       "      <td>111.261476</td>\n",
       "      <td>6.675314</td>\n",
       "    </tr>\n",
       "    <tr>\n",
       "      <th>WAW-LHR</th>\n",
       "      <td>2657</td>\n",
       "      <td>110.822356</td>\n",
       "      <td>5.463397</td>\n",
       "    </tr>\n",
       "  </tbody>\n",
       "</table>\n",
       "</div>"
      ],
      "text/plain": [
       "         count        mean        std\n",
       "Route                                \n",
       "ARN-FRA   2820  130.354610   5.205783\n",
       "DUB-LHR   2815   89.797513   5.412435\n",
       "DUB-WAW     35  241.714286  10.141851\n",
       "FRA-MAD   2872  162.353760   8.125165\n",
       "FRA-WAW   2831   99.005652   5.964438\n",
       "LHR-LHR      3  100.000000  10.000000\n",
       "LHR-MAD   3182  207.075110   5.166485\n",
       "LHR-WAW   3509  210.094899   6.366500\n",
       "MAD-MUC   2581  152.123596   5.482727\n",
       "MUC-MAD   3499  162.795084   5.533671\n",
       "NUE-FRA      3   30.666667  24.826062\n",
       "OSL-FRA    957  132.680251   5.615854\n",
       "OSL-MUC   2392  135.641722   5.038121\n",
       "QEF-AMS     10   74.000000   5.163978\n",
       "SNN-DUB      2   33.500000   9.192388\n",
       "TLS-FEZ    159  100.000000  28.373637\n",
       "WAW-FRA   2723  111.261476   6.675314\n",
       "WAW-LHR   2657  110.822356   5.463397"
      ]
     },
     "execution_count": 216,
     "metadata": {},
     "output_type": "execute_result"
    }
   ],
   "source": [
    "routes_stats = routes.agg([\"count\", \"min\", \"max\", \"mean\", \"std\"])\n",
    "routes_stats[\"ExpTime\"][[\"count\", \"mean\", \"std\"]][routes_stats[\"ExpTime\"][\"std\"] > 5]"
   ]
  },
  {
   "cell_type": "code",
   "execution_count": 226,
   "metadata": {},
   "outputs": [],
   "source": [
    "route = \"DUB-WAW\"\n"
   ]
  },
  {
   "cell_type": "code",
   "execution_count": 227,
   "metadata": {},
   "outputs": [
    {
     "data": {
      "text/plain": [
       "(300, 240)"
      ]
     },
     "execution_count": 227,
     "metadata": {},
     "output_type": "execute_result"
    }
   ],
   "source": [
    "max(exp_time.ExpTime[exp_time.Route == route]), min(exp_time.ExpTime[exp_time.Route == route])"
   ]
  },
  {
   "cell_type": "code",
   "execution_count": 229,
   "metadata": {},
   "outputs": [],
   "source": [
    "# exp_time[exp_time.Route == route].head()"
   ]
  },
  {
   "cell_type": "code",
   "execution_count": null,
   "metadata": {},
   "outputs": [],
   "source": []
  },
  {
   "cell_type": "code",
   "execution_count": 300,
   "metadata": {},
   "outputs": [],
   "source": [
    "## expcted flight times on airline level\n",
    "\n",
    "# groupby route\n",
    "carrier_exp_time = exp_time.groupby([\"Route\"])\n",
    "\n",
    "# filter routes with only one carrier\n",
    "exp_time = carrier_exp_time.filter(lambda g: len(g[\"Carrier_Name\"].unique()) > 1)\n",
    "\n",
    "carrier_exp_time = exp_time.groupby([\"Route\"])\n",
    "# normalize (min-max-scaling) flight time per route\n",
    "def min_max_scaler(x):\n",
    "    num = x - min(x)\n",
    "    denom = max(x) - min(x)\n",
    "    if denom == 0:\n",
    "        return (x/x - 1)\n",
    "    return num/denom\n",
    "    \n",
    "exp_time[\"ExpTimeNorm\"] = carrier_exp_time[\"ExpTime\"].apply(min_max_scaler)\n",
    "\n",
    "# plot route times per airline\n",
    "#exp_time.groupby(\"Carrier_Name\").mean()[\"ExpTimeNorm\"]"
   ]
  },
  {
   "cell_type": "code",
   "execution_count": 303,
   "metadata": {},
   "outputs": [],
   "source": [
    "# carrier_exp_time.nunique()[\"Carrier_Name\"]"
   ]
  },
  {
   "cell_type": "code",
   "execution_count": 304,
   "metadata": {},
   "outputs": [
    {
     "data": {
      "text/html": [
       "<div>\n",
       "<style scoped>\n",
       "    .dataframe tbody tr th:only-of-type {\n",
       "        vertical-align: middle;\n",
       "    }\n",
       "\n",
       "    .dataframe tbody tr th {\n",
       "        vertical-align: top;\n",
       "    }\n",
       "\n",
       "    .dataframe thead th {\n",
       "        text-align: right;\n",
       "    }\n",
       "</style>\n",
       "<table border=\"1\" class=\"dataframe\">\n",
       "  <thead>\n",
       "    <tr style=\"text-align: right;\">\n",
       "      <th></th>\n",
       "      <th>count</th>\n",
       "      <th>mean</th>\n",
       "    </tr>\n",
       "    <tr>\n",
       "      <th>Carrier_Name</th>\n",
       "      <th></th>\n",
       "      <th></th>\n",
       "    </tr>\n",
       "  </thead>\n",
       "  <tbody>\n",
       "    <tr>\n",
       "      <th>Aer Lingus</th>\n",
       "      <td>4046</td>\n",
       "      <td>0.495065</td>\n",
       "    </tr>\n",
       "    <tr>\n",
       "      <th>Air Europa</th>\n",
       "      <td>6944</td>\n",
       "      <td>0.685196</td>\n",
       "    </tr>\n",
       "    <tr>\n",
       "      <th>British Airways</th>\n",
       "      <td>18026</td>\n",
       "      <td>0.651010</td>\n",
       "    </tr>\n",
       "    <tr>\n",
       "      <th>EasyJet</th>\n",
       "      <td>21</td>\n",
       "      <td>0.904762</td>\n",
       "    </tr>\n",
       "    <tr>\n",
       "      <th>Iberia</th>\n",
       "      <td>5735</td>\n",
       "      <td>0.730681</td>\n",
       "    </tr>\n",
       "    <tr>\n",
       "      <th>KLM Royal Dutch Airlines</th>\n",
       "      <td>20790</td>\n",
       "      <td>0.460511</td>\n",
       "    </tr>\n",
       "    <tr>\n",
       "      <th>LOT</th>\n",
       "      <td>12725</td>\n",
       "      <td>0.759742</td>\n",
       "    </tr>\n",
       "    <tr>\n",
       "      <th>Lufthansa</th>\n",
       "      <td>33038</td>\n",
       "      <td>0.382540</td>\n",
       "    </tr>\n",
       "    <tr>\n",
       "      <th>Norwegian</th>\n",
       "      <td>4316</td>\n",
       "      <td>0.541087</td>\n",
       "    </tr>\n",
       "    <tr>\n",
       "      <th>Ryanair</th>\n",
       "      <td>4680</td>\n",
       "      <td>0.547587</td>\n",
       "    </tr>\n",
       "    <tr>\n",
       "      <th>SAS</th>\n",
       "      <td>21923</td>\n",
       "      <td>0.483178</td>\n",
       "    </tr>\n",
       "    <tr>\n",
       "      <th>Transavia</th>\n",
       "      <td>855</td>\n",
       "      <td>0.256725</td>\n",
       "    </tr>\n",
       "    <tr>\n",
       "      <th>Vueling</th>\n",
       "      <td>2812</td>\n",
       "      <td>0.402817</td>\n",
       "    </tr>\n",
       "  </tbody>\n",
       "</table>\n",
       "</div>"
      ],
      "text/plain": [
       "                          count      mean\n",
       "Carrier_Name                             \n",
       "Aer Lingus                 4046  0.495065\n",
       "Air Europa                 6944  0.685196\n",
       "British Airways           18026  0.651010\n",
       "EasyJet                      21  0.904762\n",
       "Iberia                     5735  0.730681\n",
       "KLM Royal Dutch Airlines  20790  0.460511\n",
       "LOT                       12725  0.759742\n",
       "Lufthansa                 33038  0.382540\n",
       "Norwegian                  4316  0.541087\n",
       "Ryanair                    4680  0.547587\n",
       "SAS                       21923  0.483178\n",
       "Transavia                   855  0.256725\n",
       "Vueling                    2812  0.402817"
      ]
     },
     "execution_count": 304,
     "metadata": {},
     "output_type": "execute_result"
    }
   ],
   "source": [
    "carrier_exp_table = exp_time.groupby(\"Carrier_Name\").agg([\"mean\"])[\"ExpTimeNorm\"]\n",
    "exp_time.groupby(\"Carrier_Name\").agg([\"count\", \"mean\"])[\"ExpTimeNorm\"]"
   ]
  },
  {
   "cell_type": "code",
   "execution_count": 305,
   "metadata": {},
   "outputs": [
    {
     "data": {
      "text/plain": [
       "<AxesSubplot:xlabel='Carrier_Name'>"
      ]
     },
     "execution_count": 305,
     "metadata": {},
     "output_type": "execute_result"
    },
    {
     "data": {
      "image/png": "[encoded data removed]",
      "text/plain": [
       "<Figure size 720x720 with 1 Axes>"
      ]
     },
     "metadata": {
      "needs_background": "light"
     },
     "output_type": "display_data"
    }
   ],
   "source": [
    "carrier_exp_table.plot.bar(figsize=(10,10))"
   ]
  },
  {
   "cell_type": "code",
   "execution_count": 318,
   "metadata": {},
   "outputs": [
    {
     "data": {
      "text/plain": [
       "array([0.49506499, 0.68519585, 0.65101018, 0.9047619 , 0.73068055,\n",
       "       0.46051141, 0.75974158, 0.38254013, 0.54108743, 0.54758657,\n",
       "       0.48317826, 0.25672515, 0.40281729])"
      ]
     },
     "execution_count": 318,
     "metadata": {},
     "output_type": "execute_result"
    }
   ],
   "source": [
    "carrier_exp_table[\"mean\"].values"
   ]
  },
  {
   "cell_type": "code",
   "execution_count": 319,
   "metadata": {},
   "outputs": [
    {
     "data": {
      "image/png": "[encoded data removed]",
      "text/plain": [
       "<Figure size 640x480 with 1 Axes>"
      ]
     },
     "metadata": {},
     "output_type": "display_data"
    }
   ],
   "source": [
    "# from https://matplotlib.org/gallery/lines_bars_and_markers/barh.html#sphx-glr-gallery-lines-bars-and-markers-barh-py\n",
    "import matplotlib.pyplot as plt\n",
    "import numpy as np\n",
    "\n",
    "\n",
    "plt.rcdefaults()\n",
    "fig, ax = plt.subplots()\n",
    "\n",
    "# Example data\n",
    "people = carrier_exp_table.index\n",
    "y_pos = np.arange(len(people))\n",
    "performance = carrier_exp_table[\"mean\"].values\n",
    "\n",
    "\n",
    "ax.barh(y_pos, performance, align='center')\n",
    "ax.set_yticks(y_pos)\n",
    "ax.set_yticklabels(people)\n",
    "ax.invert_yaxis()  # labels read top-to-bottom\n",
    "ax.set_xlabel('Relative Flight Time')\n",
    "ax.set_title('Expected Flight Times per Carrier')\n",
    "\n",
    "plt.show()"
   ]
  },
  {
   "cell_type": "code",
   "execution_count": null,
   "metadata": {},
   "outputs": [],
   "source": []
  },
  {
   "cell_type": "code",
   "execution_count": null,
   "metadata": {},
   "outputs": [],
   "source": [
    "# follow the individual planes (Equipment_Reg)"
   ]
  },
  {
   "cell_type": "code",
   "execution_count": null,
   "metadata": {},
   "outputs": [],
   "source": []
  }
 ],
 "metadata": {
  "kernelspec": {
   "display_name": "env",
   "language": "python",
   "name": "env"
  },
  "language_info": {
   "codemirror_mode": {
    "name": "ipython",
    "version": 3
   },
   "file_extension": ".py",
   "mimetype": "text/x-python",
   "name": "python",
   "nbconvert_exporter": "python",
   "pygments_lexer": "ipython3",
   "version": "3.7.3"
  }
 },
 "nbformat": 4,
 "nbformat_minor": 2
}
